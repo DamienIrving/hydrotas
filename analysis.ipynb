{
 "cells": [
  {
   "cell_type": "markdown",
   "id": "4d047299",
   "metadata": {
    "papermill": {
     "duration": 0.040374,
     "end_time": "2023-01-30T08:11:57.876213",
     "exception": false,
     "start_time": "2023-01-30T08:11:57.835839",
     "status": "completed"
    },
    "tags": []
   },
   "source": [
    "# Hydro Tasmania catchment rainfall"
   ]
  },
  {
   "cell_type": "code",
   "execution_count": null,
   "id": "95569a41",
   "metadata": {
    "execution": {
     "iopub.execute_input": "2023-01-30T08:11:57.938904Z",
     "iopub.status.busy": "2023-01-30T08:11:57.938444Z",
     "iopub.status.idle": "2023-01-30T08:12:09.279887Z",
     "shell.execute_reply": "2023-01-30T08:12:09.280907Z"
    },
    "papermill": {
     "duration": 11.384339,
     "end_time": "2023-01-30T08:12:09.281428",
     "exception": false,
     "start_time": "2023-01-30T08:11:57.897089",
     "status": "completed"
    },
    "tags": []
   },
   "outputs": [],
   "source": [
    "import os\n",
    "import datetime\n",
    "import glob\n",
    "\n",
    "from collections import Counter\n",
    "import calendar\n",
    "import matplotlib.pyplot as plt\n",
    "import pandas as pd\n",
    "import numpy as np\n",
    "import cartopy\n",
    "import cartopy.crs as ccrs\n",
    "import geopandas as gp\n",
    "from IPython.display import Image\n",
    "from scipy.stats import genextreme as gev\n",
    "import xclim as xc\n",
    "import cmocean\n",
    "import seaborn as sns\n",
    "\n",
    "from unseen import fileio\n",
    "from unseen import general_utils\n",
    "from unseen import time_utils\n",
    "from unseen import indices"
   ]
  },
  {
   "cell_type": "code",
   "execution_count": null,
   "id": "56e9e0ab",
   "metadata": {
    "execution": {
     "iopub.execute_input": "2023-01-30T08:12:09.366110Z",
     "iopub.status.busy": "2023-01-30T08:12:09.365756Z",
     "iopub.status.idle": "2023-01-30T08:12:09.368484Z",
     "shell.execute_reply": "2023-01-30T08:12:09.368081Z"
    },
    "papermill": {
     "duration": 0.046906,
     "end_time": "2023-01-30T08:12:09.368573",
     "exception": false,
     "start_time": "2023-01-30T08:12:09.321667",
     "status": "completed"
    },
    "tags": [
     "parameters"
    ]
   },
   "outputs": [],
   "source": [
    "# Optional parameters \n",
    "# (This cell is tagged \"parameters\")\n",
    "dpi = 300"
   ]
  },
  {
   "cell_type": "code",
   "execution_count": null,
   "id": "b9787631",
   "metadata": {
    "execution": {
     "iopub.execute_input": "2023-01-30T08:12:09.483942Z",
     "iopub.status.busy": "2023-01-30T08:12:09.483518Z",
     "iopub.status.idle": "2023-01-30T08:12:09.493835Z",
     "shell.execute_reply": "2023-01-30T08:12:09.494676Z"
    },
    "papermill": {
     "duration": 0.039138,
     "end_time": "2023-01-30T08:12:09.494948",
     "exception": false,
     "start_time": "2023-01-30T08:12:09.455810",
     "status": "completed"
    },
    "tags": []
   },
   "outputs": [],
   "source": [
    "# Required parameters\n",
    "assert 'model_name' in locals(), \"Must provide a model name\"\n",
    "assert 'region_name' in locals(), \"Must provide a region name\"\n",
    "assert 'min_lead' in locals(), \"Must provide a minimum lead time\"\n",
    "assert os.path.isfile(file_list), \"Must provide the input model files list (papermill option -p file_list [filepath])\"\n",
    "assert os.path.isfile(shape_file), \"Must provide the shapefile (papermill option -p shape_file [filepath])\"\n",
    "assert os.path.isfile(agcd_file), \"Must provide an AGCD data file (papermill option -p agcd_file [filepath])\"\n",
    "assert os.path.isfile(model_file), \"Must provide an model data file (papermill option -p model_file [filepath])\"\n",
    "assert os.path.isfile(model_add_bc_file), \"Must provide a model additive bias corrected data file (papermill option -p model_add_bc_file [filepath])\"\n",
    "assert os.path.isfile(model_mulc_bc_file), \"Must provide a model multiplicative bias corrected data file (papermill option -p model_mulc_bc_file [filepath])\"\n",
    "assert os.path.isfile(nino_file), \"Must provide a model Nino 3.4 data file (papermill option -p nino_file [filepath])\"\n",
    "assert os.path.isfile(similarity_add_bc_file), \"Must provide an additive bias corrected similarity test file (papermill option -p similarity_add_bias_file [filepath])\"\n",
    "assert os.path.isfile(similarity_mulc_bc_file), \"Must provide an multiplicative bias corrected similarity test file (papermill option -p similarity_mulc_bias_file [filepath])\"\n",
    "assert os.path.isfile(similarity_raw_file), \"Must provide an raw data similarity test file (papermill option -p similarity_raw_file [filepath])\"\n",
    "assert os.path.isfile(independence_plot), \"Must provide an independence test plot (papermill option -p independence_plot [filepath])\""
   ]
  },
  {
   "cell_type": "markdown",
   "id": "5c8da4f2",
   "metadata": {
    "papermill": {
     "duration": 0.019431,
     "end_time": "2023-01-30T08:12:09.554702",
     "exception": false,
     "start_time": "2023-01-30T08:12:09.535271",
     "status": "completed"
    },
    "tags": []
   },
   "source": [
    "## Observations"
   ]
  },
  {
   "cell_type": "code",
   "execution_count": null,
   "id": "f40952f6",
   "metadata": {
    "execution": {
     "iopub.execute_input": "2023-01-30T08:12:09.598409Z",
     "iopub.status.busy": "2023-01-30T08:12:09.598057Z",
     "iopub.status.idle": "2023-01-30T08:12:09.989804Z",
     "shell.execute_reply": "2023-01-30T08:12:09.990666Z"
    },
    "papermill": {
     "duration": 0.422895,
     "end_time": "2023-01-30T08:12:09.996749",
     "exception": false,
     "start_time": "2023-01-30T08:12:09.573854",
     "status": "completed"
    },
    "tags": []
   },
   "outputs": [],
   "source": [
    "agcd_ds = fileio.open_dataset(agcd_file)\n",
    "agcd_ds = agcd_ds.dropna('time')"
   ]
  },
  {
   "cell_type": "code",
   "execution_count": null,
   "id": "1493ff0f",
   "metadata": {
    "execution": {
     "iopub.execute_input": "2023-01-30T08:12:10.088144Z",
     "iopub.status.busy": "2023-01-30T08:12:10.087761Z",
     "iopub.status.idle": "2023-01-30T08:12:10.375151Z",
     "shell.execute_reply": "2023-01-30T08:12:10.376104Z"
    },
    "papermill": {
     "duration": 0.340915,
     "end_time": "2023-01-30T08:12:10.376401",
     "exception": false,
     "start_time": "2023-01-30T08:12:10.035486",
     "status": "completed"
    },
    "tags": []
   },
   "outputs": [],
   "source": [
    "agcd_ds"
   ]
  },
  {
   "cell_type": "code",
   "execution_count": null,
   "id": "9c701895",
   "metadata": {
    "execution": {
     "iopub.execute_input": "2023-01-30T08:12:10.464200Z",
     "iopub.status.busy": "2023-01-30T08:12:10.454986Z",
     "iopub.status.idle": "2023-01-30T08:12:10.605770Z",
     "shell.execute_reply": "2023-01-30T08:12:10.606659Z"
    },
    "papermill": {
     "duration": 0.195372,
     "end_time": "2023-01-30T08:12:10.606943",
     "exception": false,
     "start_time": "2023-01-30T08:12:10.411571",
     "status": "completed"
    },
    "tags": []
   },
   "outputs": [],
   "source": [
    "years = agcd_ds['time'].dt.year.values\n",
    "agcd_df = pd.DataFrame(index=years)\n",
    "agcd_df['pr'] = agcd_ds['pr'].values"
   ]
  },
  {
   "cell_type": "code",
   "execution_count": null,
   "id": "c8bfcbcf",
   "metadata": {
    "execution": {
     "iopub.execute_input": "2023-01-30T08:12:10.692316Z",
     "iopub.status.busy": "2023-01-30T08:12:10.691573Z",
     "iopub.status.idle": "2023-01-30T08:12:10.836067Z",
     "shell.execute_reply": "2023-01-30T08:12:10.835425Z"
    },
    "papermill": {
     "duration": 0.19246,
     "end_time": "2023-01-30T08:12:10.836234",
     "exception": false,
     "start_time": "2023-01-30T08:12:10.643774",
     "status": "completed"
    },
    "tags": []
   },
   "outputs": [],
   "source": [
    "prmax = agcd_ds['pr'].values.max()\n",
    "print(prmax)"
   ]
  },
  {
   "cell_type": "code",
   "execution_count": null,
   "id": "37affe89",
   "metadata": {},
   "outputs": [],
   "source": [
    "ranked_events = agcd_ds.to_dataframe().sort_values(['pr'], ascending=False)"
   ]
  },
  {
   "cell_type": "markdown",
   "id": "d082e6af",
   "metadata": {
    "papermill": {
     "duration": 0.020812,
     "end_time": "2023-01-30T08:12:10.895551",
     "exception": false,
     "start_time": "2023-01-30T08:12:10.874739",
     "status": "completed"
    },
    "tags": []
   },
   "source": [
    "## Model ensemble"
   ]
  },
  {
   "cell_type": "markdown",
   "id": "f127f972",
   "metadata": {
    "papermill": {
     "duration": 0.021019,
     "end_time": "2023-01-30T08:12:10.937557",
     "exception": false,
     "start_time": "2023-01-30T08:12:10.916538",
     "status": "completed"
    },
    "tags": []
   },
   "source": [
    "### Region selection"
   ]
  },
  {
   "cell_type": "code",
   "execution_count": null,
   "id": "0c5bfc47",
   "metadata": {
    "execution": {
     "iopub.execute_input": "2023-01-30T08:12:10.983769Z",
     "iopub.status.busy": "2023-01-30T08:12:10.983443Z",
     "iopub.status.idle": "2023-01-30T08:12:10.987319Z",
     "shell.execute_reply": "2023-01-30T08:12:10.987568Z"
    },
    "papermill": {
     "duration": 0.029589,
     "end_time": "2023-01-30T08:12:10.987644",
     "exception": false,
     "start_time": "2023-01-30T08:12:10.958055",
     "status": "completed"
    },
    "tags": []
   },
   "outputs": [],
   "source": [
    "with open(file_list) as f:\n",
    "    all_files = f.read()\n",
    "    first_file = all_files.split('\\n', 1)[0]"
   ]
  },
  {
   "cell_type": "code",
   "execution_count": null,
   "id": "9de3847d",
   "metadata": {
    "execution": {
     "iopub.execute_input": "2023-01-30T08:12:11.049084Z",
     "iopub.status.busy": "2023-01-30T08:12:11.048765Z",
     "iopub.status.idle": "2023-01-30T08:12:11.052688Z",
     "shell.execute_reply": "2023-01-30T08:12:11.053002Z"
    },
    "papermill": {
     "duration": 0.042397,
     "end_time": "2023-01-30T08:12:11.053106",
     "exception": false,
     "start_time": "2023-01-30T08:12:11.010709",
     "status": "completed"
    },
    "tags": []
   },
   "outputs": [],
   "source": [
    "first_file"
   ]
  },
  {
   "cell_type": "code",
   "execution_count": null,
   "id": "d218574b",
   "metadata": {
    "execution": {
     "iopub.execute_input": "2023-01-30T08:12:11.747391Z",
     "iopub.status.busy": "2023-01-30T08:12:11.653362Z",
     "iopub.status.idle": "2023-01-30T08:12:11.750673Z",
     "shell.execute_reply": "2023-01-30T08:12:11.751517Z"
    },
    "papermill": {
     "duration": 0.67433,
     "end_time": "2023-01-30T08:12:11.751798",
     "exception": false,
     "start_time": "2023-01-30T08:12:11.077468",
     "status": "completed"
    },
    "tags": []
   },
   "outputs": [],
   "source": [
    "shapes = gp.read_file(shape_file)"
   ]
  },
  {
   "cell_type": "code",
   "execution_count": null,
   "id": "6b9e6200",
   "metadata": {
    "execution": {
     "iopub.execute_input": "2023-01-30T08:12:11.819779Z",
     "iopub.status.busy": "2023-01-30T08:12:11.819447Z",
     "iopub.status.idle": "2023-01-30T08:12:11.822618Z",
     "shell.execute_reply": "2023-01-30T08:12:11.822348Z"
    },
    "papermill": {
     "duration": 0.030429,
     "end_time": "2023-01-30T08:12:11.822692",
     "exception": false,
     "start_time": "2023-01-30T08:12:11.792263",
     "status": "completed"
    },
    "tags": []
   },
   "outputs": [],
   "source": [
    "isel_dict = {}\n",
    "if model_name == 'CAFE':\n",
    "    isel_dict['ensemble'] = 0\n",
    "    metadata_file = '/home/599/dbi599/unseen/config/dataset_cafe_daily.yml'\n",
    "else:\n",
    "    metadata_file = None"
   ]
  },
  {
   "cell_type": "code",
   "execution_count": null,
   "id": "3c232f49",
   "metadata": {
    "execution": {
     "iopub.execute_input": "2023-01-30T08:12:11.879824Z",
     "iopub.status.busy": "2023-01-30T08:12:11.879398Z",
     "iopub.status.idle": "2023-01-30T08:12:13.897347Z",
     "shell.execute_reply": "2023-01-30T08:12:13.896369Z"
    },
    "papermill": {
     "duration": 2.052355,
     "end_time": "2023-01-30T08:12:13.897577",
     "exception": false,
     "start_time": "2023-01-30T08:12:11.845222",
     "status": "completed"
    },
    "tags": []
   },
   "outputs": [],
   "source": [
    "region_ds = fileio.open_dataset(\n",
    "    first_file,\n",
    "    metadata_file=metadata_file,\n",
    "    variables=['pr'],\n",
    "    lat_bnds=[-47, -37],\n",
    "    lon_bnds=[141, 152],\n",
    "    shapefile=shape_file,\n",
    "    shape_overlap=0.05,\n",
    "    units={'pr': 'mm day-1'},\n",
    "    isel=isel_dict,\n",
    ")"
   ]
  },
  {
   "cell_type": "code",
   "execution_count": null,
   "id": "0eba243a",
   "metadata": {
    "execution": {
     "iopub.execute_input": "2023-01-30T08:12:13.965497Z",
     "iopub.status.busy": "2023-01-30T08:12:13.965157Z",
     "iopub.status.idle": "2023-01-30T08:12:15.708404Z",
     "shell.execute_reply": "2023-01-30T08:12:15.709288Z"
    },
    "papermill": {
     "duration": 1.773322,
     "end_time": "2023-01-30T08:12:15.709551",
     "exception": false,
     "start_time": "2023-01-30T08:12:13.936229",
     "status": "completed"
    },
    "tags": []
   },
   "outputs": [],
   "source": [
    "fig = plt.figure(figsize=[12,8])\n",
    "ax = fig.add_subplot(111, projection=ccrs.PlateCarree())\n",
    "region_ds['pr'].mean('time', keep_attrs=True).plot(\n",
    "    ax=ax,\n",
    "    transform=ccrs.PlateCarree(),\n",
    "    cmap='viridis_r',\n",
    ")\n",
    "ax.coastlines()\n",
    "ax.set_xlim([143, 150.2])\n",
    "ax.set_ylim([-44.6, -39.9])\n",
    "ax.add_feature(cartopy.feature.STATES)\n",
    "ax.add_geometries(shapes.geometry, ccrs.PlateCarree(), facecolor='none', edgecolor='orange')\n",
    "plt.show()"
   ]
  },
  {
   "cell_type": "markdown",
   "id": "146854fe",
   "metadata": {
    "papermill": {
     "duration": 0.022247,
     "end_time": "2023-01-30T08:12:15.769533",
     "exception": false,
     "start_time": "2023-01-30T08:12:15.747286",
     "status": "completed"
    },
    "tags": []
   },
   "source": [
    "### Model data"
   ]
  },
  {
   "cell_type": "code",
   "execution_count": null,
   "id": "1620b927",
   "metadata": {
    "execution": {
     "iopub.execute_input": "2023-01-30T08:12:15.817162Z",
     "iopub.status.busy": "2023-01-30T08:12:15.816844Z",
     "iopub.status.idle": "2023-01-30T08:12:15.843104Z",
     "shell.execute_reply": "2023-01-30T08:12:15.842738Z"
    },
    "papermill": {
     "duration": 0.051575,
     "end_time": "2023-01-30T08:12:15.843185",
     "exception": false,
     "start_time": "2023-01-30T08:12:15.791610",
     "status": "completed"
    },
    "tags": []
   },
   "outputs": [],
   "source": [
    "model_ds = fileio.open_dataset(model_file)\n",
    "model_add_bc_ds = fileio.open_dataset(model_add_bc_file)\n",
    "model_mulc_bc_ds = fileio.open_dataset(model_mulc_bc_file)"
   ]
  },
  {
   "cell_type": "code",
   "execution_count": null,
   "id": "b3d4100a",
   "metadata": {
    "execution": {
     "iopub.execute_input": "2023-01-30T08:12:15.910263Z",
     "iopub.status.busy": "2023-01-30T08:12:15.908749Z",
     "iopub.status.idle": "2023-01-30T08:12:15.913791Z",
     "shell.execute_reply": "2023-01-30T08:12:15.913441Z"
    },
    "papermill": {
     "duration": 0.040948,
     "end_time": "2023-01-30T08:12:15.913875",
     "exception": false,
     "start_time": "2023-01-30T08:12:15.872927",
     "status": "completed"
    },
    "tags": []
   },
   "outputs": [],
   "source": [
    "model_ds"
   ]
  },
  {
   "cell_type": "markdown",
   "id": "b25bd815",
   "metadata": {
    "papermill": {
     "duration": 0.023104,
     "end_time": "2023-01-30T08:12:15.964813",
     "exception": false,
     "start_time": "2023-01-30T08:12:15.941709",
     "status": "completed"
    },
    "tags": []
   },
   "source": [
    "### Independence testing"
   ]
  },
  {
   "cell_type": "code",
   "execution_count": null,
   "id": "b819d698",
   "metadata": {
    "execution": {
     "iopub.execute_input": "2023-01-30T08:12:16.014877Z",
     "iopub.status.busy": "2023-01-30T08:12:16.014555Z",
     "iopub.status.idle": "2023-01-30T08:12:16.019781Z",
     "shell.execute_reply": "2023-01-30T08:12:16.019372Z"
    },
    "papermill": {
     "duration": 0.031529,
     "end_time": "2023-01-30T08:12:16.019867",
     "exception": false,
     "start_time": "2023-01-30T08:12:15.988338",
     "status": "completed"
    },
    "tags": []
   },
   "outputs": [],
   "source": [
    "Image(filename=independence_plot)"
   ]
  },
  {
   "cell_type": "code",
   "execution_count": null,
   "id": "a5ccabe2",
   "metadata": {
    "execution": {
     "iopub.execute_input": "2023-01-30T08:12:16.077473Z",
     "iopub.status.busy": "2023-01-30T08:12:16.076745Z",
     "iopub.status.idle": "2023-01-30T08:12:16.081570Z",
     "shell.execute_reply": "2023-01-30T08:12:16.080765Z"
    },
    "papermill": {
     "duration": 0.034358,
     "end_time": "2023-01-30T08:12:16.081780",
     "exception": false,
     "start_time": "2023-01-30T08:12:16.047422",
     "status": "completed"
    },
    "tags": []
   },
   "outputs": [],
   "source": [
    "print(min_lead)"
   ]
  },
  {
   "cell_type": "code",
   "execution_count": null,
   "id": "e055048c",
   "metadata": {
    "execution": {
     "iopub.execute_input": "2023-01-30T08:12:16.157699Z",
     "iopub.status.busy": "2023-01-30T08:12:16.157311Z",
     "iopub.status.idle": "2023-01-30T08:12:16.160703Z",
     "shell.execute_reply": "2023-01-30T08:12:16.160388Z"
    },
    "papermill": {
     "duration": 0.038695,
     "end_time": "2023-01-30T08:12:16.160788",
     "exception": false,
     "start_time": "2023-01-30T08:12:16.122093",
     "status": "completed"
    },
    "tags": []
   },
   "outputs": [],
   "source": [
    "model_da = model_ds['pr'].where(model_ds['lead_time'] >= min_lead)"
   ]
  },
  {
   "cell_type": "code",
   "execution_count": null,
   "id": "6b40107c",
   "metadata": {
    "execution": {
     "iopub.execute_input": "2023-01-30T08:12:32.646156Z",
     "iopub.status.busy": "2023-01-30T08:12:32.634818Z",
     "iopub.status.idle": "2023-01-30T08:12:33.582474Z",
     "shell.execute_reply": "2023-01-30T08:12:33.581493Z"
    },
    "papermill": {
     "duration": 1.023708,
     "end_time": "2023-01-30T08:12:33.582708",
     "exception": false,
     "start_time": "2023-01-30T08:12:32.559000",
     "status": "completed"
    },
    "tags": []
   },
   "outputs": [],
   "source": [
    "model_da_stacked = model_da.dropna('lead_time').stack({'sample': ['ensemble', 'init_date', 'lead_time']})"
   ]
  },
  {
   "cell_type": "code",
   "execution_count": null,
   "id": "10aaf4a0",
   "metadata": {
    "execution": {
     "iopub.execute_input": "2023-01-30T08:12:33.671940Z",
     "iopub.status.busy": "2023-01-30T08:12:33.671602Z",
     "iopub.status.idle": "2023-01-30T08:12:33.675786Z",
     "shell.execute_reply": "2023-01-30T08:12:33.676110Z"
    },
    "papermill": {
     "duration": 0.040744,
     "end_time": "2023-01-30T08:12:33.676227",
     "exception": false,
     "start_time": "2023-01-30T08:12:33.635483",
     "status": "completed"
    },
    "tags": []
   },
   "outputs": [],
   "source": [
    "model_da_stacked.shape"
   ]
  },
  {
   "cell_type": "code",
   "execution_count": null,
   "id": "f0b0019b",
   "metadata": {
    "execution": {
     "iopub.execute_input": "2023-01-30T08:12:19.759157Z",
     "iopub.status.busy": "2023-01-30T08:12:19.753525Z",
     "iopub.status.idle": "2023-01-30T08:12:20.776601Z",
     "shell.execute_reply": "2023-01-30T08:12:20.775673Z"
    },
    "papermill": {
     "duration": 1.099077,
     "end_time": "2023-01-30T08:12:20.776844",
     "exception": false,
     "start_time": "2023-01-30T08:12:19.677767",
     "status": "completed"
    },
    "tags": []
   },
   "outputs": [],
   "source": [
    "model_add_bc_da_stacked = model_add_bc_ds.dropna('lead_time')['pr'].stack({'sample': ['ensemble', 'init_date', 'lead_time']})"
   ]
  },
  {
   "cell_type": "code",
   "execution_count": null,
   "id": "7d4fdc9e",
   "metadata": {
    "execution": {
     "iopub.execute_input": "2023-01-30T08:12:20.852605Z",
     "iopub.status.busy": "2023-01-30T08:12:20.851921Z",
     "iopub.status.idle": "2023-01-30T08:12:20.856843Z",
     "shell.execute_reply": "2023-01-30T08:12:20.857674Z"
    },
    "papermill": {
     "duration": 0.037988,
     "end_time": "2023-01-30T08:12:20.857948",
     "exception": false,
     "start_time": "2023-01-30T08:12:20.819960",
     "status": "completed"
    },
    "tags": []
   },
   "outputs": [],
   "source": [
    "model_add_bc_da_stacked.shape"
   ]
  },
  {
   "cell_type": "code",
   "execution_count": null,
   "id": "8a7afb26-20cf-43e6-b647-9f40e7586682",
   "metadata": {},
   "outputs": [],
   "source": [
    "model_mulc_bc_da_stacked = model_mulc_bc_ds.dropna('lead_time')['pr'].stack({'sample': ['ensemble', 'init_date', 'lead_time']})"
   ]
  },
  {
   "cell_type": "code",
   "execution_count": null,
   "id": "80b2f212-366a-4dcd-bfbe-1f5dc232cb64",
   "metadata": {},
   "outputs": [],
   "source": [
    "model_mulc_bc_da_stacked.shape"
   ]
  },
  {
   "cell_type": "markdown",
   "id": "af672ed1",
   "metadata": {},
   "source": [
    "### Stability testing"
   ]
  },
  {
   "cell_type": "code",
   "execution_count": null,
   "id": "29240b6a",
   "metadata": {},
   "outputs": [],
   "source": [
    "def plot_dist_by_lead(sample_ds, model_name):\n",
    "    \"\"\"Plot distribution curve by lead time\"\"\"\n",
    "\n",
    "    fig = plt.figure(figsize=[8, 6])\n",
    "    ax = fig.add_subplot()\n",
    "    lead_times = np.unique(model_da_stacked['lead_time'].values)\n",
    "    colors = iter(plt.cm.BuPu(np.linspace(0.3, 1, len(lead_times))))\n",
    "\n",
    "    for lead in lead_times:\n",
    "        ds_selection = sample_ds.sel({'lead_time': lead})\n",
    "        ds_selection = ds_selection.dropna('sample')\n",
    "        color = next(colors)\n",
    "        lead_df = pd.DataFrame(ds_selection.values)\n",
    "        n_values = len(ds_selection)\n",
    "        sns.kdeplot(lead_df[0], ax=ax, color=color, label=f'lead time {lead} ({n_values} samples)')\n",
    "\n",
    "    ax.grid(True)\n",
    "    #ax.set_xlim(26, 46)    \n",
    "    ax.set_title(f'Rx14day for {region_name} ({model_name})')\n",
    "    ax.set_xlabel('Rx14day precipitation (mm)')\n",
    "    ax.legend()\n",
    "    plt.show()"
   ]
  },
  {
   "cell_type": "code",
   "execution_count": null,
   "id": "96f8aeb6",
   "metadata": {},
   "outputs": [],
   "source": [
    "plot_dist_by_lead(model_da_stacked, model_name)"
   ]
  },
  {
   "cell_type": "code",
   "execution_count": null,
   "id": "36ac6faf",
   "metadata": {},
   "outputs": [],
   "source": [
    "def return_curve(data, method):\n",
    "    \"\"\"Return x and y data for a return period curve.\n",
    "    \n",
    "    Args:\n",
    "      data: xarray DataArray\n",
    "      method : {'gev', 'empirical'}\n",
    "          Fit a GEV or not to data\n",
    "    \"\"\"\n",
    "    \n",
    "    if method == 'gev':\n",
    "        return_periods = np.logspace(0, 4, num=10000)\n",
    "        probabilities = 1. / return_periods\n",
    "        shape, loc, scale = indices.fit_gev(data, generate_estimates=True)\n",
    "        return_values = gev.isf(probabilities, shape, loc, scale)\n",
    "    elif method == 'empirical':\n",
    "        return_values = np.sort(data, axis=None)[::-1]\n",
    "        return_periods = len(data) / np.arange(1.0, len(data) + 1.0)\n",
    "        \n",
    "    return return_periods, return_values"
   ]
  },
  {
   "cell_type": "code",
   "execution_count": null,
   "id": "beceb7b9",
   "metadata": {},
   "outputs": [],
   "source": [
    "def plot_return_by_lead(sample_ds, model_name, uncertainty=False):\n",
    "    \"\"\"Plot return period curve by lead time\"\"\"\n",
    "\n",
    "    fig = plt.figure(figsize=[8, 6])\n",
    "    ax = fig.add_subplot()\n",
    "    lead_times = np.unique(model_da_stacked['lead_time'].values)\n",
    "    colors = iter(plt.cm.BuPu(np.linspace(0.3, 1, len(lead_times))))\n",
    "\n",
    "    for lead in lead_times:\n",
    "        ds_selection = sample_ds.sel({'lead_time': lead})\n",
    "        ds_selection = ds_selection.dropna('sample')\n",
    "        return_periods, return_values = return_curve(ds_selection, method='empirical')\n",
    "        n_values = len(ds_selection)\n",
    "        label = f'lead time {lead} ({n_values} samples)'\n",
    "        color = next(colors)\n",
    "        ax.plot(return_periods, return_values, label=label, color=color)\n",
    "    \n",
    "    if uncertainty:\n",
    "        random_return_values = []\n",
    "        for i in range(1000):\n",
    "            random_sample = np.random.choice(sample_ds, n_values)\n",
    "            return_periods, return_values = return_curve(random_sample, method='empirical')\n",
    "            random_return_values.append(return_values)\n",
    "        random_return_values_stacked = np.stack(random_return_values)\n",
    "        upper_ci = np.percentile(random_return_values_stacked, 97.5, axis=0)\n",
    "        lower_ci = np.percentile(random_return_values_stacked, 2.5, axis=0)\n",
    "        ax.fill_between(return_periods, upper_ci, lower_ci, label='95% confidence interval', color='0.5', alpha=0.1)\n",
    "    \n",
    "    ax.grid()\n",
    "    ax.set_xscale('log')\n",
    "    ax.set_title(f'Rx14day for {region_name} ({model_name})')\n",
    "    ax.set_xlabel('return period (years)')\n",
    "    ax.set_ylabel('Rx14day precipitation (mm)')\n",
    "    ax.legend()\n",
    "    plt.show()"
   ]
  },
  {
   "cell_type": "code",
   "execution_count": null,
   "id": "fd8ba774",
   "metadata": {},
   "outputs": [],
   "source": [
    "plot_return_by_lead(model_da_stacked, model_name, uncertainty=True)"
   ]
  },
  {
   "cell_type": "markdown",
   "id": "1e039e61",
   "metadata": {
    "papermill": {
     "duration": 0.023983,
     "end_time": "2023-01-30T08:12:16.215349",
     "exception": false,
     "start_time": "2023-01-30T08:12:16.191366",
     "status": "completed"
    },
    "tags": []
   },
   "source": [
    "### Bias correction and similarity testing"
   ]
  },
  {
   "cell_type": "code",
   "execution_count": null,
   "id": "6056ba03",
   "metadata": {},
   "outputs": [],
   "source": [
    "model_gev_shape, model_gev_loc, model_gev_scale = indices.fit_gev(\n",
    "    model_da_stacked.values,\n",
    "    generate_estimates=True\n",
    ")"
   ]
  },
  {
   "cell_type": "code",
   "execution_count": null,
   "id": "114b3d3c",
   "metadata": {},
   "outputs": [],
   "source": [
    "model_add_bc_gev_shape, model_add_bc_gev_loc, model_add_bc_gev_scale = indices.fit_gev(\n",
    "    model_add_bc_da_stacked.values,\n",
    "    generate_estimates=True\n",
    ")"
   ]
  },
  {
   "cell_type": "code",
   "execution_count": null,
   "id": "fb3c8200",
   "metadata": {},
   "outputs": [],
   "source": [
    "model_mulc_bc_gev_shape, model_mulc_bc_gev_loc, model_mulc_bc_gev_scale = indices.fit_gev(\n",
    "    model_mulc_bc_da_stacked.values,\n",
    "    generate_estimates=True\n",
    ")"
   ]
  },
  {
   "cell_type": "code",
   "execution_count": null,
   "id": "9897e5c2",
   "metadata": {},
   "outputs": [],
   "source": [
    "agcd_gev_shape, agcd_gev_loc, agcd_gev_scale = indices.fit_gev(\n",
    "    agcd_ds['pr'].values,\n",
    "    generate_estimates=True\n",
    ")"
   ]
  },
  {
   "cell_type": "code",
   "execution_count": null,
   "id": "41f26f8d",
   "metadata": {},
   "outputs": [],
   "source": [
    "def plot_distributions(include_additive=False, include_multiplicative=False):\n",
    "    \"\"\"Plot various distributions\"\"\"\n",
    "\n",
    "    outfile = f'/g/data/xv83/dbi599/hydrotas/figures/Rx14day_histogram_{model_name}_{region_name}'\n",
    "    \n",
    "    fig = plt.figure(figsize=[10, 6])\n",
    "    gev_xvals = np.arange(0, 500)\n",
    "\n",
    "    model_da.plot.hist(\n",
    "        bins=50, density=True, label=model_name, alpha=0.7, facecolor='tab:blue',\n",
    "    )\n",
    "    model_gev_pdf = gev.pdf(gev_xvals, model_gev_shape, model_gev_loc, model_gev_scale)\n",
    "    plt.plot(gev_xvals, model_gev_pdf, color='tab:blue', linewidth=4.0)\n",
    "\n",
    "    if include_additive:\n",
    "        model_add_bc_ds['pr'].plot.hist(\n",
    "            bins=50, density=True, label=f'{model_name} additive bias corrected', facecolor='tab:red', alpha=0.7\n",
    "        )\n",
    "        model_add_bc_gev_pdf = gev.pdf(gev_xvals, model_add_bc_gev_shape, model_add_bc_gev_loc, model_add_bc_gev_scale)\n",
    "        plt.plot(gev_xvals, model_add_bc_gev_pdf, color='tab:red', linewidth=4.0)\n",
    "        outfile = outfile + '_add'\n",
    "        \n",
    "    if include_multiplicative:\n",
    "        model_mulc_bc_ds['pr'].plot.hist(\n",
    "            bins=50, density=True, label=f'{model_name} multiplicative bias corrected', facecolor='tab:orange', alpha=0.7\n",
    "        )\n",
    "        model_mulc_bc_gev_pdf = gev.pdf(gev_xvals, model_mulc_bc_gev_shape, model_mulc_bc_gev_loc, model_mulc_bc_gev_scale)\n",
    "        plt.plot(gev_xvals, model_mulc_bc_gev_pdf, color='tab:orange', linewidth=4.0)\n",
    "        outfile = outfile + '_mulc'\n",
    "        \n",
    "    agcd_ds['pr'].plot.hist(\n",
    "        bins=50, density=True, label='AGCD', facecolor='tab:gray', alpha=0.7\n",
    "    )\n",
    "    agcd_gev_pdf = gev.pdf(gev_xvals, agcd_gev_shape, agcd_gev_loc, agcd_gev_scale)\n",
    "    plt.plot(gev_xvals, agcd_gev_pdf, color='tab:gray', linewidth=4.0)\n",
    "\n",
    "    plt.xlabel('precipitation (mm)')\n",
    "    plt.ylabel('probability')\n",
    "    plt.title(f'Rx14day for {region_name} ({model_name})')\n",
    "    plt.xlim(50, 300)\n",
    "    plt.legend()\n",
    "    outfile = outfile + '.png'\n",
    "    print(outfile)\n",
    "    plt.savefig(outfile, bbox_inches='tight', facecolor='white', dpi=dpi)\n",
    "    plt.show()"
   ]
  },
  {
   "cell_type": "code",
   "execution_count": null,
   "id": "64ef687d",
   "metadata": {},
   "outputs": [],
   "source": [
    "plot_distributions(include_multiplicative=True)"
   ]
  },
  {
   "cell_type": "code",
   "execution_count": null,
   "id": "9caddc6d",
   "metadata": {},
   "outputs": [],
   "source": [
    "plot_distributions(include_additive=True, include_multiplicative=True)"
   ]
  },
  {
   "cell_type": "code",
   "execution_count": null,
   "id": "ea6b50a2-8e3c-45f4-9daa-43b8eeaa55fe",
   "metadata": {},
   "outputs": [],
   "source": [
    "print(f'raw data shape parameter: {model_gev_shape:.3f}')\n",
    "print(f'raw data location parameter: {model_gev_loc:.3f}') \n",
    "print(f'raw data scale parameter: {model_gev_scale:.3f}')"
   ]
  },
  {
   "cell_type": "code",
   "execution_count": null,
   "id": "a3cb898e-8f5b-4ff3-95eb-a338fc379623",
   "metadata": {},
   "outputs": [],
   "source": [
    "print(f'additive corrected shape parameter: {model_add_bc_gev_shape:.3f}')\n",
    "print(f'additive corrected location parameter: {model_add_bc_gev_loc:.3f}') \n",
    "print(f'additive corrected scale parameter: {model_add_bc_gev_scale:.3f}')"
   ]
  },
  {
   "cell_type": "code",
   "execution_count": null,
   "id": "c481eb09-d80c-4dc3-912e-b5d13d015910",
   "metadata": {},
   "outputs": [],
   "source": [
    "print(f'multiplicative corrected shape parameter: {model_mulc_bc_gev_shape:.3f}')\n",
    "print(f'multiplicative corrected location parameter: {model_mulc_bc_gev_loc:.3f}') \n",
    "print(f'multiplicative corrected scale parameter: {model_mulc_bc_gev_scale:.3f}')"
   ]
  },
  {
   "cell_type": "markdown",
   "id": "1a8210c0",
   "metadata": {
    "papermill": {
     "duration": 0.025373,
     "end_time": "2023-01-30T08:12:18.876780",
     "exception": false,
     "start_time": "2023-01-30T08:12:18.851407",
     "status": "completed"
    },
    "tags": []
   },
   "source": [
    "We can look at p-values for the KS-test and Anderson-Darling test for each lead time.\n",
    "\n",
    "p > 0.05 means the null hypothesis (that the two samples are from the same population) can't be rejected."
   ]
  },
  {
   "cell_type": "code",
   "execution_count": null,
   "id": "a21af1f7",
   "metadata": {
    "execution": {
     "iopub.execute_input": "2023-01-30T08:12:18.930013Z",
     "iopub.status.busy": "2023-01-30T08:12:18.929690Z",
     "iopub.status.idle": "2023-01-30T08:12:18.936929Z",
     "shell.execute_reply": "2023-01-30T08:12:18.936588Z"
    },
    "papermill": {
     "duration": 0.034959,
     "end_time": "2023-01-30T08:12:18.937017",
     "exception": false,
     "start_time": "2023-01-30T08:12:18.902058",
     "status": "completed"
    },
    "tags": []
   },
   "outputs": [],
   "source": [
    "similarity_raw_ds = fileio.open_dataset(similarity_raw_file)"
   ]
  },
  {
   "cell_type": "code",
   "execution_count": null,
   "id": "3a599ddf",
   "metadata": {
    "execution": {
     "iopub.execute_input": "2023-01-30T08:12:19.004732Z",
     "iopub.status.busy": "2023-01-30T08:12:19.003155Z",
     "iopub.status.idle": "2023-01-30T08:12:19.013316Z",
     "shell.execute_reply": "2023-01-30T08:12:19.013627Z"
    },
    "papermill": {
     "duration": 0.04613,
     "end_time": "2023-01-30T08:12:19.013732",
     "exception": false,
     "start_time": "2023-01-30T08:12:18.967602",
     "status": "completed"
    },
    "tags": []
   },
   "outputs": [],
   "source": [
    "similarity_raw_ds['ks_pval'].values"
   ]
  },
  {
   "cell_type": "code",
   "execution_count": null,
   "id": "05eb014d",
   "metadata": {
    "execution": {
     "iopub.execute_input": "2023-01-30T08:12:19.084808Z",
     "iopub.status.busy": "2023-01-30T08:12:19.081526Z",
     "iopub.status.idle": "2023-01-30T08:12:19.092768Z",
     "shell.execute_reply": "2023-01-30T08:12:19.093166Z"
    },
    "papermill": {
     "duration": 0.047167,
     "end_time": "2023-01-30T08:12:19.093299",
     "exception": false,
     "start_time": "2023-01-30T08:12:19.046132",
     "status": "completed"
    },
    "tags": []
   },
   "outputs": [],
   "source": [
    "similarity_raw_ds['ad_pval'].values"
   ]
  },
  {
   "cell_type": "code",
   "execution_count": null,
   "id": "8b3f7de0",
   "metadata": {
    "execution": {
     "iopub.execute_input": "2023-01-30T08:12:19.161986Z",
     "iopub.status.busy": "2023-01-30T08:12:19.161132Z",
     "iopub.status.idle": "2023-01-30T08:12:19.175431Z",
     "shell.execute_reply": "2023-01-30T08:12:19.174426Z"
    },
    "papermill": {
     "duration": 0.044421,
     "end_time": "2023-01-30T08:12:19.175654",
     "exception": false,
     "start_time": "2023-01-30T08:12:19.131233",
     "status": "completed"
    },
    "tags": []
   },
   "outputs": [],
   "source": [
    "similarity_add_bias_ds = fileio.open_dataset(similarity_add_bc_file)"
   ]
  },
  {
   "cell_type": "code",
   "execution_count": null,
   "id": "d388e95d",
   "metadata": {
    "execution": {
     "iopub.execute_input": "2023-01-30T08:12:19.261398Z",
     "iopub.status.busy": "2023-01-30T08:12:19.260979Z",
     "iopub.status.idle": "2023-01-30T08:12:19.268786Z",
     "shell.execute_reply": "2023-01-30T08:12:19.268339Z"
    },
    "papermill": {
     "duration": 0.048411,
     "end_time": "2023-01-30T08:12:19.268904",
     "exception": false,
     "start_time": "2023-01-30T08:12:19.220493",
     "status": "completed"
    },
    "tags": []
   },
   "outputs": [],
   "source": [
    "similarity_add_bias_ds['ks_pval'].values"
   ]
  },
  {
   "cell_type": "code",
   "execution_count": null,
   "id": "c7cee743",
   "metadata": {
    "execution": {
     "iopub.execute_input": "2023-01-30T08:12:19.343398Z",
     "iopub.status.busy": "2023-01-30T08:12:19.341249Z",
     "iopub.status.idle": "2023-01-30T08:12:19.347354Z",
     "shell.execute_reply": "2023-01-30T08:12:19.347663Z"
    },
    "papermill": {
     "duration": 0.04612,
     "end_time": "2023-01-30T08:12:19.347768",
     "exception": false,
     "start_time": "2023-01-30T08:12:19.301648",
     "status": "completed"
    },
    "tags": []
   },
   "outputs": [],
   "source": [
    "similarity_add_bias_ds['ad_pval'].values"
   ]
  },
  {
   "cell_type": "code",
   "execution_count": null,
   "id": "e52d7e00-1510-46bc-ba47-ca75c162b03c",
   "metadata": {},
   "outputs": [],
   "source": [
    "similarity_mulc_bias_ds = fileio.open_dataset(similarity_mulc_bc_file)"
   ]
  },
  {
   "cell_type": "code",
   "execution_count": null,
   "id": "0de30b63-1886-4ed8-9307-dabf49c5d484",
   "metadata": {},
   "outputs": [],
   "source": [
    "similarity_mulc_bias_ds['ks_pval'].values"
   ]
  },
  {
   "cell_type": "code",
   "execution_count": null,
   "id": "666ff4e6-2437-42ab-87d3-59231280b122",
   "metadata": {},
   "outputs": [],
   "source": [
    "similarity_mulc_bias_ds['ad_pval'].values"
   ]
  },
  {
   "cell_type": "markdown",
   "id": "692c7b58",
   "metadata": {
    "papermill": {
     "duration": 0.026795,
     "end_time": "2023-01-30T08:12:19.407955",
     "exception": false,
     "start_time": "2023-01-30T08:12:19.381160",
     "status": "completed"
    },
    "tags": []
   },
   "source": [
    "### Return curves"
   ]
  },
  {
   "cell_type": "code",
   "execution_count": null,
   "id": "c709376d",
   "metadata": {},
   "outputs": [],
   "source": [
    "def plot_return(sample_ds, model_name, method, outfile=None):\n",
    "    \"\"\"Plot return period curve.\n",
    "    \n",
    "    method: {'gev', 'empirical'}  \n",
    "    \"\"\"\n",
    "    \n",
    "    fig = plt.figure(figsize=[8, 6])\n",
    "    ax = fig.add_subplot()\n",
    "    return_periods, return_values = return_curve(sample_ds, method)\n",
    "    ax.plot(return_periods, return_values)\n",
    "    ax.set_xscale('log')\n",
    "    ax.set_title(f'Rx14day for {region_name} ({model_name})')\n",
    "    ax.set_xlabel('return period (years)')\n",
    "    ax.set_ylabel('Rx14day precipitation (mm)')\n",
    "    ax.axhline(prmax, color='0.5', linestyle='--')\n",
    "    ax.grid()\n",
    "    if outfile:\n",
    "        plt.savefig(outfile, bbox_inches='tight', facecolor='white', dpi=dpi)\n",
    "        print(outfile)\n",
    "    else:\n",
    "        plt.show()"
   ]
  },
  {
   "cell_type": "code",
   "execution_count": null,
   "id": "349f83eb",
   "metadata": {},
   "outputs": [],
   "source": [
    "def plot_return_by_decade(sample_ds, model_name, method, uncertainty=False, savefig=False):\n",
    "    \"\"\"Plot return period curve by decade.\n",
    "    \n",
    "    savefig can be 'raw', 'mulc' or 'add'\n",
    "    \"\"\"\n",
    "\n",
    "    fig = plt.figure(figsize=[8, 6])\n",
    "    ax = fig.add_subplot()\n",
    "    if model_name == 'CAFE':\n",
    "        start_years = [1995, 2000, 2005, 2010, 2015]\n",
    "        step = 4\n",
    "    else:\n",
    "        start_years = [1960, 1970, 1980, 1990, 2000, 2010]\n",
    "        step = 9\n",
    "    colors = iter(plt.cm.hot_r(np.linspace(0.3, 1, len(start_years))))\n",
    "\n",
    "    for start_year in start_years:\n",
    "        end_year = start_year + step\n",
    "        start_date = f'{start_year}-01-01'\n",
    "        end_date = f'{end_year}-12-25'\n",
    "        ds_selection = time_utils.select_time_period(sample_ds, [start_date, end_date])\n",
    "        ds_selection = ds_selection.dropna('sample')\n",
    "        return_periods, return_values = return_curve(ds_selection, method)\n",
    "        n_years = len(ds_selection)\n",
    "        label = f'{start_year}-{end_year} ({n_years} samples)'\n",
    "        color = next(colors)\n",
    "        ax.plot(return_periods, return_values, label=label, color=color)\n",
    "    \n",
    "    if uncertainty:\n",
    "        random_return_values = []\n",
    "        for i in range(1000):\n",
    "            random_sample = np.random.choice(sample_ds, n_years)\n",
    "            return_periods, return_values = return_curve(random_sample, method)\n",
    "            random_return_values.append(return_values)\n",
    "        random_return_values_stacked = np.stack(random_return_values)\n",
    "        upper_ci = np.percentile(random_return_values_stacked, 97.5, axis=0)\n",
    "        lower_ci = np.percentile(random_return_values_stacked, 2.5, axis=0)\n",
    "        ax.fill_between(return_periods, upper_ci, lower_ci, label='95% confidence interval', color='0.5', alpha=0.2)\n",
    "    \n",
    "    ax.grid()\n",
    "    ax.set_xscale('log')\n",
    "    ax.set_title(f'Rx14day for {region_name} ({model_name})')\n",
    "    ax.set_xlabel('return period (years)')\n",
    "    ax.set_ylabel('Rx14day precipitation (mm)')\n",
    "    ax.legend()\n",
    "    ax.axhline(pr2022, color='0.5', linestyle='--')\n",
    "    if savefig:\n",
    "        outfile = f'/g/data/xv83/dbi599/hydrotas/figures/Rx14day_return_curve_{region_name}_{model_name}_by-decade_{savefig}.png'\n",
    "        plt.savefig(outfile, bbox_inches='tight', facecolor='white', dpi=dpi)\n",
    "        print(outfile)\n",
    "    plt.show()"
   ]
  },
  {
   "cell_type": "code",
   "execution_count": null,
   "id": "ff0f8f73",
   "metadata": {},
   "outputs": [],
   "source": [
    "def gev_event_likelihood(event, shape, loc, scale):\n",
    "    \"\"\"Get likelihood stats for an event from a GEV fit\"\"\"\n",
    "\n",
    "    probability = gev.sf(event, shape, loc=loc, scale=scale)\n",
    "    return_period = 1. / probability\n",
    "    percentile = (1 - probability) * 100\n",
    "    print(f'{percentile:.2f}% percentile')\n",
    "    print(f'{return_period:.0f} year return period\\n')"
   ]
  },
  {
   "cell_type": "markdown",
   "id": "d6a40828",
   "metadata": {
    "papermill": {
     "duration": 0.03025,
     "end_time": "2023-01-30T08:12:19.651437",
     "exception": false,
     "start_time": "2023-01-30T08:12:19.621187",
     "status": "completed"
    },
    "tags": []
   },
   "source": [
    "#### Additive bias corrected data"
   ]
  },
  {
   "cell_type": "code",
   "execution_count": null,
   "id": "59075ebb",
   "metadata": {
    "execution": {
     "iopub.execute_input": "2023-01-30T08:12:21.006002Z",
     "iopub.status.busy": "2023-01-30T08:12:20.971920Z",
     "iopub.status.idle": "2023-01-30T08:12:22.456037Z",
     "shell.execute_reply": "2023-01-30T08:12:22.456918Z"
    },
    "papermill": {
     "duration": 1.555486,
     "end_time": "2023-01-30T08:12:22.457187",
     "exception": false,
     "start_time": "2023-01-30T08:12:20.901701",
     "status": "completed"
    },
    "tags": []
   },
   "outputs": [],
   "source": [
    "plot_return(model_add_bc_da_stacked, model_name, method='empirical')"
   ]
  },
  {
   "cell_type": "code",
   "execution_count": null,
   "id": "0057980e",
   "metadata": {},
   "outputs": [],
   "source": [
    "plot_return(model_add_bc_da_stacked, model_name, method='gev')"
   ]
  },
  {
   "cell_type": "code",
   "execution_count": null,
   "id": "39e4acf0",
   "metadata": {
    "execution": {
     "iopub.execute_input": "2023-01-30T08:12:22.709091Z",
     "iopub.status.busy": "2023-01-30T08:12:22.571393Z",
     "iopub.status.idle": "2023-01-30T08:12:23.774118Z",
     "shell.execute_reply": "2023-01-30T08:12:23.773151Z"
    },
    "papermill": {
     "duration": 1.271602,
     "end_time": "2023-01-30T08:12:23.774347",
     "exception": false,
     "start_time": "2023-01-30T08:12:22.502745",
     "status": "completed"
    },
    "tags": []
   },
   "outputs": [],
   "source": [
    "n_events_add_bc, n_population_add_bc, return_period_add_bc, percentile_add_bc = general_utils.event_in_context(\n",
    "    model_add_bc_da_stacked.values,\n",
    "    prmax,\n",
    "    'above'\n",
    ")\n",
    "print('ADDITIVE BIAS CORRECTED DATA')\n",
    "print(f'{n_events_add_bc} events in {n_population_add_bc} samples')\n",
    "print(f'{percentile_add_bc:.2f}% percentile')\n",
    "print(f'{return_period_add_bc:.0f} year return period')"
   ]
  },
  {
   "cell_type": "code",
   "execution_count": null,
   "id": "2e0a064d",
   "metadata": {},
   "outputs": [],
   "source": [
    "print('ADDITIVE BIAS CORRECTED GEV')\n",
    "gev_event_likelihood(prmax, model_add_bc_gev_shape, model_add_bc_gev_loc, model_add_bc_gev_scale)"
   ]
  },
  {
   "cell_type": "markdown",
   "id": "378e3988-31c5-4312-96ef-72d7820ef8e4",
   "metadata": {},
   "source": [
    "#### Multiplicative bias corrected data"
   ]
  },
  {
   "cell_type": "code",
   "execution_count": null,
   "id": "17d6421d-1097-4775-a8da-1072eae0e792",
   "metadata": {},
   "outputs": [],
   "source": [
    "plot_return(model_mulc_bc_da_stacked, model_name, method='empirical')"
   ]
  },
  {
   "cell_type": "code",
   "execution_count": null,
   "id": "e0175a01-4152-4ff2-b197-f00c153e1389",
   "metadata": {},
   "outputs": [],
   "source": [
    "n_events_mulc_bc, n_population_mulc_bc, return_period_mulc_bc, percentile_mulc_bc = general_utils.event_in_context(model_add_bc_da_stacked.values, prmax, 'above')\n",
    "print('MULTIPLICATIVE BIAS CORRECTED DATA')\n",
    "print(f'{n_events_mulc_bc} events in {n_population_mulc_bc} samples')\n",
    "print(f'{percentile_mulc_bc:.2f}% percentile')\n",
    "print(f'{return_period_mulc_bc:.0f} year return period')"
   ]
  },
  {
   "cell_type": "code",
   "execution_count": null,
   "id": "bd2f4347-4051-45a1-be36-e1a69617439a",
   "metadata": {},
   "outputs": [],
   "source": [
    "print('MULTIPLICATIVE BIAS CORRECTED GEV')\n",
    "for rank in range(5):\n",
    "    event = float(ranked_events.iloc[[rank]]['pr'].values)\n",
    "    date = ranked_events.iloc[[rank]]['event_time'].values[0]\n",
    "    print(f'{date}: {event:.1f}mm')\n",
    "    gev_event_likelihood(event, model_mulc_bc_gev_shape, model_mulc_bc_gev_loc, model_mulc_bc_gev_scale)"
   ]
  },
  {
   "cell_type": "code",
   "execution_count": null,
   "id": "8c37444c-c67a-47d5-8718-037676d14a58",
   "metadata": {},
   "outputs": [],
   "source": [
    "plot_return_by_decade(model_mulc_bc_da_stacked, model_name, method='empirical', uncertainty=True)"
   ]
  },
  {
   "cell_type": "code",
   "execution_count": null,
   "id": "6f110cea",
   "metadata": {},
   "outputs": [],
   "source": [
    "plot_return_by_decade(model_mulc_bc_da_stacked, model_name, method='gev', uncertainty=True, savefig='mulc')"
   ]
  },
  {
   "cell_type": "markdown",
   "id": "c6a2c14c",
   "metadata": {
    "papermill": {
     "duration": 0.030406,
     "end_time": "2023-01-30T08:12:32.528140",
     "exception": false,
     "start_time": "2023-01-30T08:12:32.497734",
     "status": "completed"
    },
    "tags": []
   },
   "source": [
    "#### Raw data"
   ]
  },
  {
   "cell_type": "code",
   "execution_count": null,
   "id": "89138fa6",
   "metadata": {
    "execution": {
     "iopub.execute_input": "2023-01-30T08:12:34.902086Z",
     "iopub.status.busy": "2023-01-30T08:12:34.887920Z",
     "iopub.status.idle": "2023-01-30T08:12:35.807317Z",
     "shell.execute_reply": "2023-01-30T08:12:35.806620Z"
    },
    "papermill": {
     "duration": 0.990518,
     "end_time": "2023-01-30T08:12:35.807474",
     "exception": false,
     "start_time": "2023-01-30T08:12:34.816956",
     "status": "completed"
    },
    "tags": []
   },
   "outputs": [],
   "source": [
    "n_events, n_population, return_period, percentile = general_utils.event_in_context(model_da_stacked.values, prmax, 'above')\n",
    "print('RAW DATA')\n",
    "print(f'{n_events} events in {n_population} samples')\n",
    "print(f'{percentile:.2f}% percentile')\n",
    "print(f'{return_period:.0f} year return period')"
   ]
  },
  {
   "cell_type": "code",
   "execution_count": null,
   "id": "55ca0308",
   "metadata": {},
   "outputs": [],
   "source": [
    "print('RAW GEV')\n",
    "gev_event_likelihood(prmax, model_gev_shape, model_gev_loc, model_gev_scale)"
   ]
  },
  {
   "cell_type": "markdown",
   "id": "8bcb7462",
   "metadata": {
    "papermill": {
     "duration": 0.033053,
     "end_time": "2023-01-30T08:12:35.891677",
     "exception": false,
     "start_time": "2023-01-30T08:12:35.858624",
     "status": "completed"
    },
    "tags": []
   },
   "source": [
    "### Seasonality"
   ]
  },
  {
   "cell_type": "code",
   "execution_count": null,
   "id": "8e28f48c",
   "metadata": {
    "execution": {
     "iopub.execute_input": "2023-01-30T08:12:35.964310Z",
     "iopub.status.busy": "2023-01-30T08:12:35.963905Z",
     "iopub.status.idle": "2023-01-30T08:12:36.946502Z",
     "shell.execute_reply": "2023-01-30T08:12:36.945680Z"
    },
    "papermill": {
     "duration": 1.022317,
     "end_time": "2023-01-30T08:12:36.946722",
     "exception": false,
     "start_time": "2023-01-30T08:12:35.924405",
     "status": "completed"
    },
    "tags": []
   },
   "outputs": [],
   "source": [
    "model_df = model_da_stacked.to_dataframe()\n",
    "model_df = model_df.dropna()"
   ]
  },
  {
   "cell_type": "code",
   "execution_count": null,
   "id": "c1a16c7e",
   "metadata": {
    "execution": {
     "iopub.execute_input": "2023-01-30T08:12:37.045756Z",
     "iopub.status.busy": "2023-01-30T08:12:37.045332Z",
     "iopub.status.idle": "2023-01-30T08:12:37.047955Z",
     "shell.execute_reply": "2023-01-30T08:12:37.048277Z"
    },
    "papermill": {
     "duration": 0.049613,
     "end_time": "2023-01-30T08:12:37.048391",
     "exception": false,
     "start_time": "2023-01-30T08:12:36.998778",
     "status": "completed"
    },
    "tags": []
   },
   "outputs": [],
   "source": [
    "event_months = [int(date[5:7]) for date in model_df['event_time'].values]\n",
    "event_years = [int(date[0:4]) for date in model_df['event_time'].values]"
   ]
  },
  {
   "cell_type": "code",
   "execution_count": null,
   "id": "51c2c4c3",
   "metadata": {},
   "outputs": [],
   "source": [
    "model_df['month'] = event_months\n",
    "monthly_ave = model_df.groupby('month').mean(['pr'])"
   ]
  },
  {
   "cell_type": "code",
   "execution_count": null,
   "id": "a8d46fba",
   "metadata": {
    "execution": {
     "iopub.execute_input": "2023-01-30T08:12:37.151009Z",
     "iopub.status.busy": "2023-01-30T08:12:37.146891Z",
     "iopub.status.idle": "2023-01-30T08:12:37.222393Z",
     "shell.execute_reply": "2023-01-30T08:12:37.221917Z"
    },
    "papermill": {
     "duration": 0.137668,
     "end_time": "2023-01-30T08:12:37.222508",
     "exception": false,
     "start_time": "2023-01-30T08:12:37.084840",
     "status": "completed"
    },
    "tags": []
   },
   "outputs": [],
   "source": [
    "month_counts = Counter(event_months)\n",
    "months = np.arange(1, 13)\n",
    "counts = [month_counts[month] for month in months]\n",
    "\n",
    "plt.bar(months, counts)\n",
    "plt.title(f'Rx15day timing for {region_name} ({model_name})')\n",
    "plt.ylabel('number of events')\n",
    "plt.xlabel('month')\n",
    "xlabels = [calendar.month_abbr[i] for i in months]\n",
    "plt.xticks(months, xlabels)\n",
    "#plt.savefig(\n",
    "#    f'/g/data/xv83/dbi599/east-coast-rain/figures/Rx15day_timing_AGCD_{region_name}.png',\n",
    "#    bbox_inches='tight',\n",
    "#    facecolor='white',\n",
    "#    dpi=dpi\n",
    "#)\n",
    "plt.show()"
   ]
  },
  {
   "cell_type": "code",
   "execution_count": null,
   "id": "88a21d1f",
   "metadata": {},
   "outputs": [],
   "source": [
    "months = np.arange(1, 13)\n",
    "averages = monthly_ave['pr'].values\n",
    "\n",
    "plt.bar(months, averages)\n",
    "plt.title(f'Rx14day average magnitude for {region_name} ({model_name})')\n",
    "plt.ylabel('precipitation (mm)')\n",
    "plt.xlabel('month')\n",
    "xlabels = [calendar.month_abbr[i] for i in months]\n",
    "plt.xticks(months, xlabels)\n",
    "plt.show()"
   ]
  },
  {
   "cell_type": "markdown",
   "id": "c23fb2ae",
   "metadata": {
    "papermill": {
     "duration": 0.033181,
     "end_time": "2023-01-30T08:12:37.299643",
     "exception": false,
     "start_time": "2023-01-30T08:12:37.266462",
     "status": "completed"
    },
    "tags": []
   },
   "source": [
    "### Relationship with ENSO"
   ]
  },
  {
   "cell_type": "code",
   "execution_count": null,
   "id": "79e46142",
   "metadata": {
    "execution": {
     "iopub.execute_input": "2023-01-30T08:12:37.372929Z",
     "iopub.status.busy": "2023-01-30T08:12:37.371834Z",
     "iopub.status.idle": "2023-01-30T08:12:37.407324Z",
     "shell.execute_reply": "2023-01-30T08:12:37.408216Z"
    },
    "papermill": {
     "duration": 0.075432,
     "end_time": "2023-01-30T08:12:37.408479",
     "exception": false,
     "start_time": "2023-01-30T08:12:37.333047",
     "status": "completed"
    },
    "tags": []
   },
   "outputs": [],
   "source": [
    "nino_ds = fileio.open_dataset(nino_file)\n",
    "nino_ds = nino_ds.assign_coords({'init_date': [date.strftime('%Y%m') for date in nino_ds['init_date'].values]})\n",
    "nino_ds"
   ]
  },
  {
   "cell_type": "code",
   "execution_count": null,
   "id": "4255f5c0",
   "metadata": {
    "execution": {
     "iopub.execute_input": "2023-01-30T08:12:37.500164Z",
     "iopub.status.busy": "2023-01-30T08:12:37.499841Z",
     "iopub.status.idle": "2023-01-30T08:12:38.728816Z",
     "shell.execute_reply": "2023-01-30T08:12:38.727691Z"
    },
    "papermill": {
     "duration": 1.26833,
     "end_time": "2023-01-30T08:12:38.729470",
     "exception": true,
     "start_time": "2023-01-30T08:12:37.461140",
     "status": "failed"
    },
    "tags": []
   },
   "outputs": [],
   "source": [
    "nino_values = []\n",
    "for index, row in model_df.iterrows():\n",
    "    event_init_date = row['init_date'].strftime('%Y%m')\n",
    "    event_ensemble = row['ensemble']\n",
    "    event_year_month = row['time'].strftime('%Y-%m')\n",
    "    nino_selection = nino_ds.sel({'init_date': event_init_date, 'ensemble': event_ensemble})\n",
    "    nino_selection = nino_selection.swap_dims({'lead_time': 'time'})\n",
    "    nino_year_month = [date.strftime('%Y-%m') for date in nino_selection['time'].values]\n",
    "    nino_selection = nino_selection.assign_coords({'time': nino_year_month})\n",
    "    nino_value = float(nino_selection['tos'].sel({'time': event_year_month}).values)\n",
    "    nino_values.append(nino_value)"
   ]
  },
  {
   "cell_type": "code",
   "execution_count": null,
   "id": "917c0dfb",
   "metadata": {
    "papermill": {
     "duration": null,
     "end_time": null,
     "exception": null,
     "start_time": null,
     "status": "pending"
    },
    "tags": []
   },
   "outputs": [],
   "source": [
    "model_df['nino34'] = nino_values"
   ]
  },
  {
   "cell_type": "code",
   "execution_count": null,
   "id": "734a17b8",
   "metadata": {
    "papermill": {
     "duration": null,
     "end_time": null,
     "exception": null,
     "start_time": null,
     "status": "pending"
    },
    "tags": []
   },
   "outputs": [],
   "source": [
    "fig = plt.figure(figsize=[8, 6])\n",
    "ax = fig.add_subplot(111)\n",
    "\n",
    "sns.scatterplot(ax=ax, data=model_df, x='nino34', y='pr')\n",
    "sns.kdeplot(ax=ax, data=model_df, x='nino34', y='pr', color='0.9', linewidth=1)\n",
    "\n",
    "ax.set_ylabel('Rx15day (mm)')\n",
    "ax.set_xlabel('Nino 3.4 SST anomaly (C)')\n",
    "ax.axvline(0.65)\n",
    "ax.axvline(-0.65)\n",
    "plt.show()"
   ]
  },
  {
   "cell_type": "markdown",
   "id": "d9405e65",
   "metadata": {
    "papermill": {
     "duration": null,
     "end_time": null,
     "exception": null,
     "start_time": null,
     "status": "pending"
    },
    "tags": []
   },
   "source": [
    "### Meteorology"
   ]
  },
  {
   "cell_type": "code",
   "execution_count": null,
   "id": "9ed38598",
   "metadata": {
    "papermill": {
     "duration": null,
     "end_time": null,
     "exception": null,
     "start_time": null,
     "status": "pending"
    },
    "tags": []
   },
   "outputs": [],
   "source": [
    "def plot_average(start_date, end_date, color_da=None, color_var=None, contour_da=None, contour_var=None):\n",
    "    \"\"\"Plot average\"\"\"\n",
    "    \n",
    "    fig = plt.figure(figsize=[10, 5])\n",
    "    map_proj=ccrs.PlateCarree(central_longitude=180)\n",
    "    ax1 = fig.add_subplot(1, 1, 1, projection=map_proj)       \n",
    "    \n",
    "    if color_var:\n",
    "        if color_var == 'pr':\n",
    "            levels = [0, 100, 200, 300, 400, 500, 600, 700, 800]\n",
    "            label = 'total precipitation (mm)'\n",
    "            cmap = cmocean.cm.rain\n",
    "            extend = 'max'\n",
    "        elif color_var == 'ua300':\n",
    "            levels = [-30, -25, -20, -15, -10, -5, 0, 5, 10, 15, 20, 25, 30]\n",
    "            label = '300hPa zonal wind'\n",
    "            cmap='RdBu_r'\n",
    "            extend = 'both'\n",
    "        else:\n",
    "            raise ValueError('Invalid color variable')\n",
    "        color_da.plot(\n",
    "            ax=ax1,\n",
    "            transform=ccrs.PlateCarree(),\n",
    "            cmap=cmap,\n",
    "            levels=levels,\n",
    "            extend=extend,\n",
    "            cbar_kwargs={'label': label},\n",
    "        )\n",
    "    \n",
    "    if contour_var:\n",
    "        if contour_var == 'z500':\n",
    "            levels = np.arange(5000, 6300, 50)\n",
    "        elif contour_var == 'psl':\n",
    "            levels = np.arange(900, 1100, 2.5)\n",
    "        elif contour_var == 'ua300':\n",
    "            levels = np.arange(15, 60, 5)\n",
    "        else:\n",
    "            raise ValueError('Invalid contour variable')\n",
    "        lines = contour_da.plot.contour(\n",
    "            ax=ax1,\n",
    "            transform=ccrs.PlateCarree(),\n",
    "            levels=levels,\n",
    "            colors=['0.1']\n",
    "        )\n",
    "        ax1.clabel(lines, colors=['0.1'], manual=False, inline=True)\n",
    "    \n",
    "    ax1.coastlines()\n",
    "    ax1.set_extent([90, 205, -55, 10], crs=ccrs.PlateCarree())\n",
    "    ax1.gridlines(linestyle='--', draw_labels=True)\n",
    "    if contour_var:\n",
    "        ax1.set_title(f'Average {contour_var} ({contour_da.units}), {start_date} to {end_date}')\n",
    "    else:\n",
    "        ax1.set_title(f'{start_date} to {end_date}')\n",
    "#    plt.savefig(\n",
    "#        f'/home/599/dbi599/east-coast-rain/{color_var}-{contour_var}_mean_BARRA2_{start_date}_{end_date}.png',\n",
    "#        bbox_inches='tight',\n",
    "#        facecolor='white',\n",
    "#        dpi=300\n",
    "#    )\n",
    "    plt.show()"
   ]
  },
  {
   "cell_type": "code",
   "execution_count": null,
   "id": "ac05f6f2",
   "metadata": {
    "papermill": {
     "duration": null,
     "end_time": null,
     "exception": null,
     "start_time": null,
     "status": "pending"
    },
    "tags": []
   },
   "outputs": [],
   "source": [
    "ranked_events = model_df.sort_values(by=['pr'], ascending=False)\n",
    "ranked_events.head(n=10)"
   ]
  },
  {
   "cell_type": "code",
   "execution_count": null,
   "id": "aaa93741",
   "metadata": {
    "papermill": {
     "duration": null,
     "end_time": null,
     "exception": null,
     "start_time": null,
     "status": "pending"
    },
    "tags": []
   },
   "outputs": [],
   "source": [
    "model_add_bc_df = model_add_bc_ds['pr'].to_dataframe()\n",
    "model_add_bc_df = model_add_bc_df.dropna()\n",
    "model_add_bc_df = model_add_bc_df.reset_index()\n",
    "ranked_add_bc_events = model_add_bc_df.sort_values(by=['pr'], ascending=False)\n",
    "ranked_add_bc_events.head(n=10)"
   ]
  },
  {
   "cell_type": "code",
   "execution_count": null,
   "id": "4fe3506d-7703-4271-960f-1cc7b3f7aa19",
   "metadata": {},
   "outputs": [],
   "source": [
    "model_mulc_bc_df = model_mulc_bc_ds['pr'].to_dataframe()\n",
    "model_mulc_bc_df = model_mulc_bc_df.dropna()\n",
    "model_mulc_bc_df = model_mulc_bc_df.reset_index()\n",
    "ranked_mulc_bc_events = model_mulc_bc_df.sort_values(by=['pr'], ascending=False)\n",
    "ranked_mulc_bc_events.head(n=10)"
   ]
  },
  {
   "cell_type": "code",
   "execution_count": null,
   "id": "29d990f5",
   "metadata": {
    "papermill": {
     "duration": null,
     "end_time": null,
     "exception": null,
     "start_time": null,
     "status": "pending"
    },
    "tags": []
   },
   "outputs": [],
   "source": [
    "for index, row in ranked_events.head(n=4).iterrows():\n",
    "    init_date = int(row['init_date'].strftime('%Y'))\n",
    "    ensemble = int(row['ensemble']) + 1\n",
    "    end_date = row['event_time']\n",
    "    rx_value = row['pr']\n",
    "    print(f'{init_date} ({end_date}), ensemble: r{ensemble}, {rx_value}mm')\n",
    "    \n",
    "    start_datetime = datetime.datetime.strptime(end_date, \"%Y-%m-%d\") - datetime.timedelta(days=14)\n",
    "    start_date = start_datetime.strftime(\"%Y-%m-%d\")\n",
    "    \n",
    "    pr_files = glob.glob(f'/g/data/oi10/replicas/CMIP6/DCPP/*/{model_name}/dcppA-hindcast/s{init_date}-r{ensemble}i1p1f1/day/pr/*/*/*.nc')\n",
    "    pr_files.sort()\n",
    "    ds_pr = fileio.open_dataset(pr_files, variables=['pr'],)\n",
    "    \n",
    "    psl_files = glob.glob(f'/g/data/oi10/replicas/CMIP6/DCPP/*/{model_name}/dcppA-hindcast/s{init_date}-r{ensemble}i1p1f1/day/psl/*/*/*.nc')\n",
    "    psl_files.sort()\n",
    "    ds_psl = fileio.open_dataset(psl_files, variables=['psl'],)\n",
    "    \n",
    "#    zg_files = glob.glob(f'/g/data/oi10/replicas/CMIP6/DCPP/*/{model_name}/dcppA-hindcast/s{init_date}-r{ensemble}i1p1f1/day/zg/*/*/*.nc')\n",
    "#    zg_files.sort()\n",
    "#    ds_zg = fileio.open_dataset(zg_files, variables=['zg'],)\n",
    "    \n",
    "#    ua_files = glob.glob(f'/g/data/oi10/replicas/CMIP6/DCPP/*/{model_name}/dcppA-hindcast/s{init_date}-r{ensemble}i1p1f1/day/ua/*/*/*.nc')\n",
    "#    ua_files.sort()\n",
    "#    ds_ua = fileio.open_dataset(ua_files, variables=['ua'],)\n",
    "\n",
    "    pr_da = ds_pr.sel({'time': slice(start_date, end_date)})['pr']\n",
    "    pr_da = xc.units.convert_units_to(pr_da, 'mm d-1')\n",
    "    psl_da = ds_psl.sel({'time': slice(start_date, end_date)})['psl']\n",
    "    psl_da = xc.units.convert_units_to(psl_da, 'hPa')\n",
    "#    zg_da = ds_zg.sel({'time': slice(start_date, end_date)})['zg']\n",
    "#    z500_da = zg_da.sel({'plev': 50000}, method='nearest')\n",
    "#    ua_da = ds_ua.sel({'time': slice(start_date, end_date)})['ua']\n",
    "#    ua300_da = ua_da.sel({'plev': 30000}, method='nearest')\n",
    "\n",
    "    pr_da_sum = pr_da.sum('time', keep_attrs=True)\n",
    "    psl_da_mean = psl_da.mean('time', keep_attrs=True)\n",
    "#    z500_da_mean = z500_da.mean('time', keep_attrs=True)\n",
    "#    ua300_da_mean = ua300_da.mean('time', keep_attrs=True) \n",
    "\n",
    "    plot_average(start_date, end_date, pr_da_sum, 'pr', psl_da_mean, 'psl')\n",
    "#    plot_average(start_date, end_date, pr_da_sum, 'pr', z500_da_mean, 'z500')\n",
    "#    plot_average(start_date, end_date, ua300_da_mean, 'ua300', z500_da_mean, 'z500')"
   ]
  },
  {
   "cell_type": "code",
   "execution_count": null,
   "id": "be026602",
   "metadata": {},
   "outputs": [],
   "source": []
  }
 ],
 "metadata": {
  "celltoolbar": "Tags",
  "kernelspec": {
   "display_name": "Python 3 (ipykernel)",
   "language": "python",
   "name": "python3"
  },
  "language_info": {
   "codemirror_mode": {
    "name": "ipython",
    "version": 3
   },
   "file_extension": ".py",
   "mimetype": "text/x-python",
   "name": "python",
   "nbconvert_exporter": "python",
   "pygments_lexer": "ipython3",
   "version": "3.10.9"
  },
  "papermill": {
   "default_parameters": {},
   "duration": 44.947783,
   "end_time": "2023-01-30T08:12:40.334071",
   "environment_variables": {},
   "exception": true,
   "input_path": "analysis.ipynb",
   "output_path": "analysis_MIROC6.ipynb",
   "parameters": {
    "agcd_file": "/g/data/xv83/dbi599/east-coast-rain/data/Rx15day_AGCD-CSIRO_r005_1900-2022_annual-aug-to-sep_east-coast-flood-region.zarr.zip",
    "file_list": "file_lists/MIROC6_dcppA-hindcast_files.txt",
    "independence_plot": "/g/data/xv83/dbi599/east-coast-rain/figures/independence-test_Rx15day_MIROC6-dcppA-hindcast_196011-201811_annual-aug-to-sep_east-coast-flood-region.png",
    "min_lead": 1,
    "model_bc_file": "/g/data/xv83/dbi599/east-coast-rain/data/Rx15day_MIROC6-dcppA-hindcast_196011-201811_annual-aug-to-sep_east-coast-flood-region_bias-corrected-AGCD-CSIRO-multiplicative.zarr.zip",
    "model_file": "/g/data/xv83/dbi599/east-coast-rain/data/Rx15day_MIROC6-dcppA-hindcast_196011-201811_annual-aug-to-sep_east-coast-flood-region.zarr.zip",
    "model_name": "MIROC6",
    "nino_file": "/g/data/xv83/dbi599/east-coast-rain/data/nino34-anomaly_MIROC6-dcppA-hindcast_196011-201811_base-196011-201811.zarr.zip",
    "region_name": "east-coast-flood-region",
    "shape_file": "/g/data/xv83/dbi599/east-coast-rain/shapefiles/east-coast-flood.shp",
    "similarity_bc_file": "/g/data/xv83/dbi599/east-coast-rain/data/similarity-test_Rx15day_MIROC6-dcppA-hindcast_196011-201811_annual-aug-to-sep_east-coast-flood-region_bias-corrected-AGCD-CSIRO-multiplicative.zarr.zip",
    "similarity_raw_file": "/g/data/xv83/dbi599/east-coast-rain/data/similarity-test_Rx15day_MIROC6-dcppA-hindcast_196011-201811_annual-aug-to-sep_east-coast-flood-region_AGCD-CSIRO.zarr.zip"
   },
   "start_time": "2023-01-30T08:11:55.386288",
   "version": "2.3.3"
  }
 },
 "nbformat": 4,
 "nbformat_minor": 5
}
