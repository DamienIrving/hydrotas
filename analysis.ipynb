{
 "cells": [
  {
   "cell_type": "markdown",
   "id": "4d047299",
   "metadata": {
    "papermill": {
     "duration": 0.029622,
     "end_time": "2023-04-06T16:21:27.225108",
     "exception": false,
     "start_time": "2023-04-06T16:21:27.195486",
     "status": "completed"
    },
    "tags": []
   },
   "source": [
    "# Hydro Tasmania catchment rainfall"
   ]
  },
  {
   "cell_type": "code",
   "execution_count": null,
   "id": "95569a41",
   "metadata": {
    "execution": {
     "iopub.execute_input": "2023-04-06T16:21:27.252246Z",
     "iopub.status.busy": "2023-04-06T16:21:27.251729Z",
     "iopub.status.idle": "2023-04-06T16:22:27.931154Z",
     "shell.execute_reply": "2023-04-06T16:22:27.929520Z"
    },
    "papermill": {
     "duration": 60.695174,
     "end_time": "2023-04-06T16:22:27.935089",
     "exception": false,
     "start_time": "2023-04-06T16:21:27.239915",
     "status": "completed"
    },
    "tags": []
   },
   "outputs": [],
   "source": [
    "import os\n",
    "import datetime\n",
    "import glob\n",
    "\n",
    "from collections import Counter\n",
    "import calendar\n",
    "import matplotlib.pyplot as plt\n",
    "import pandas as pd\n",
    "import numpy as np\n",
    "import cartopy\n",
    "import cartopy.crs as ccrs\n",
    "import geopandas as gp\n",
    "from IPython.display import Image\n",
    "from scipy.stats import genextreme as gev\n",
    "import xclim as xc\n",
    "import cmocean\n",
    "import seaborn as sns\n",
    "\n",
    "from unseen import fileio\n",
    "from unseen import general_utils\n",
    "from unseen import time_utils\n",
    "from unseen import indices"
   ]
  },
  {
   "cell_type": "code",
   "execution_count": null,
   "id": "56e9e0ab",
   "metadata": {
    "execution": {
     "iopub.execute_input": "2023-04-06T16:22:27.986301Z",
     "iopub.status.busy": "2023-04-06T16:22:27.985568Z",
     "iopub.status.idle": "2023-04-06T16:22:27.992102Z",
     "shell.execute_reply": "2023-04-06T16:22:27.990625Z"
    },
    "papermill": {
     "duration": 0.031504,
     "end_time": "2023-04-06T16:22:27.994157",
     "exception": false,
     "start_time": "2023-04-06T16:22:27.962653",
     "status": "completed"
    },
    "tags": [
     "parameters"
    ]
   },
   "outputs": [],
   "source": [
    "# Optional parameters \n",
    "# (This cell is tagged \"parameters\")\n",
    "dpi = 300"
   ]
  },
  {
   "cell_type": "code",
   "execution_count": null,
   "id": "b9787631",
   "metadata": {
    "execution": {
     "iopub.execute_input": "2023-04-06T16:22:28.060618Z",
     "iopub.status.busy": "2023-04-06T16:22:28.059973Z",
     "iopub.status.idle": "2023-04-06T16:22:28.079027Z",
     "shell.execute_reply": "2023-04-06T16:22:28.077620Z"
    },
    "papermill": {
     "duration": 0.035789,
     "end_time": "2023-04-06T16:22:28.082396",
     "exception": false,
     "start_time": "2023-04-06T16:22:28.046607",
     "status": "completed"
    },
    "tags": []
   },
   "outputs": [],
   "source": [
    "# Required parameters\n",
    "assert 'model_name' in locals(), \"Must provide a model name\"\n",
    "assert 'region_name' in locals(), \"Must provide a region name\"\n",
    "assert 'min_lead' in locals(), \"Must provide a minimum lead time\"\n",
    "assert os.path.isfile(file_list), \"Must provide the input model files list (papermill option -p file_list [filepath])\"\n",
    "assert os.path.isfile(shape_file), \"Must provide the shapefile (papermill option -p shape_file [filepath])\"\n",
    "assert os.path.isfile(agcd_file), \"Must provide an AGCD data file (papermill option -p agcd_file [filepath])\"\n",
    "assert os.path.isfile(model_file), \"Must provide an model data file (papermill option -p model_file [filepath])\"\n",
    "assert os.path.isfile(model_add_bc_file), \"Must provide a model additive bias corrected data file (papermill option -p model_add_bc_file [filepath])\"\n",
    "assert os.path.isfile(model_mulc_bc_file), \"Must provide a model multiplicative bias corrected data file (papermill option -p model_mulc_bc_file [filepath])\"\n",
    "assert os.path.isfile(nino_file), \"Must provide a model Nino 3.4 data file (papermill option -p nino_file [filepath])\"\n",
    "assert os.path.isfile(similarity_add_bc_file), \"Must provide an additive bias corrected similarity test file (papermill option -p similarity_add_bias_file [filepath])\"\n",
    "assert os.path.isfile(similarity_mulc_bc_file), \"Must provide an multiplicative bias corrected similarity test file (papermill option -p similarity_mulc_bias_file [filepath])\"\n",
    "assert os.path.isfile(similarity_raw_file), \"Must provide an raw data similarity test file (papermill option -p similarity_raw_file [filepath])\"\n",
    "assert os.path.isfile(independence_plot), \"Must provide an independence test plot (papermill option -p independence_plot [filepath])\""
   ]
  },
  {
   "cell_type": "markdown",
   "id": "5c8da4f2",
   "metadata": {
    "papermill": {
     "duration": 0.013048,
     "end_time": "2023-04-06T16:22:28.119431",
     "exception": false,
     "start_time": "2023-04-06T16:22:28.106383",
     "status": "completed"
    },
    "tags": []
   },
   "source": [
    "## Observations"
   ]
  },
  {
   "cell_type": "code",
   "execution_count": null,
   "id": "f40952f6",
   "metadata": {
    "execution": {
     "iopub.execute_input": "2023-04-06T16:22:28.141747Z",
     "iopub.status.busy": "2023-04-06T16:22:28.141099Z",
     "iopub.status.idle": "2023-04-06T16:22:30.205076Z",
     "shell.execute_reply": "2023-04-06T16:22:30.203524Z"
    },
    "papermill": {
     "duration": 2.079394,
     "end_time": "2023-04-06T16:22:30.208866",
     "exception": false,
     "start_time": "2023-04-06T16:22:28.129472",
     "status": "completed"
    },
    "tags": []
   },
   "outputs": [],
   "source": [
    "agcd_ds = fileio.open_dataset(agcd_file)\n",
    "agcd_ds = agcd_ds.dropna('time')"
   ]
  },
  {
   "cell_type": "code",
   "execution_count": null,
   "id": "1493ff0f",
   "metadata": {
    "execution": {
     "iopub.execute_input": "2023-04-06T16:22:30.249725Z",
     "iopub.status.busy": "2023-04-06T16:22:30.249165Z",
     "iopub.status.idle": "2023-04-06T16:22:30.553542Z",
     "shell.execute_reply": "2023-04-06T16:22:30.552080Z"
    },
    "papermill": {
     "duration": 0.325484,
     "end_time": "2023-04-06T16:22:30.558467",
     "exception": false,
     "start_time": "2023-04-06T16:22:30.232983",
     "status": "completed"
    },
    "tags": []
   },
   "outputs": [],
   "source": [
    "agcd_ds"
   ]
  },
  {
   "cell_type": "code",
   "execution_count": null,
   "id": "9c701895",
   "metadata": {
    "execution": {
     "iopub.execute_input": "2023-04-06T16:22:30.605983Z",
     "iopub.status.busy": "2023-04-06T16:22:30.605295Z",
     "iopub.status.idle": "2023-04-06T16:22:30.793958Z",
     "shell.execute_reply": "2023-04-06T16:22:30.792496Z"
    },
    "papermill": {
     "duration": 0.210404,
     "end_time": "2023-04-06T16:22:30.797451",
     "exception": false,
     "start_time": "2023-04-06T16:22:30.587047",
     "status": "completed"
    },
    "tags": []
   },
   "outputs": [],
   "source": [
    "years = agcd_ds['time'].dt.year.values\n",
    "agcd_df = pd.DataFrame(index=years)\n",
    "agcd_df['pr'] = agcd_ds['pr'].values"
   ]
  },
  {
   "cell_type": "code",
   "execution_count": null,
   "id": "c8bfcbcf",
   "metadata": {
    "execution": {
     "iopub.execute_input": "2023-04-06T16:22:30.842923Z",
     "iopub.status.busy": "2023-04-06T16:22:30.842250Z",
     "iopub.status.idle": "2023-04-06T16:22:31.024908Z",
     "shell.execute_reply": "2023-04-06T16:22:31.023368Z"
    },
    "papermill": {
     "duration": 0.203415,
     "end_time": "2023-04-06T16:22:31.028448",
     "exception": false,
     "start_time": "2023-04-06T16:22:30.825033",
     "status": "completed"
    },
    "tags": []
   },
   "outputs": [],
   "source": [
    "prmax = agcd_ds['pr'].values.max()\n",
    "print(prmax)"
   ]
  },
  {
   "cell_type": "code",
   "execution_count": null,
   "id": "38a36fa9",
   "metadata": {},
   "outputs": [],
   "source": [
    "ranked_events = agcd_ds.to_dataframe().sort_values(['pr'], ascending=False)"
   ]
  },
  {
   "cell_type": "markdown",
   "id": "d082e6af",
   "metadata": {
    "papermill": {
     "duration": 0.011778,
     "end_time": "2023-04-06T16:22:31.064864",
     "exception": false,
     "start_time": "2023-04-06T16:22:31.053086",
     "status": "completed"
    },
    "tags": []
   },
   "source": [
    "## Model ensemble"
   ]
  },
  {
   "cell_type": "markdown",
   "id": "f127f972",
   "metadata": {
    "papermill": {
     "duration": 0.012621,
     "end_time": "2023-04-06T16:22:31.089492",
     "exception": false,
     "start_time": "2023-04-06T16:22:31.076871",
     "status": "completed"
    },
    "tags": []
   },
   "source": [
    "### Region selection"
   ]
  },
  {
   "cell_type": "code",
   "execution_count": null,
   "id": "0c5bfc47",
   "metadata": {
    "execution": {
     "iopub.execute_input": "2023-04-06T16:22:31.132735Z",
     "iopub.status.busy": "2023-04-06T16:22:31.132196Z",
     "iopub.status.idle": "2023-04-06T16:22:31.209649Z",
     "shell.execute_reply": "2023-04-06T16:22:31.208325Z"
    },
    "papermill": {
     "duration": 0.103407,
     "end_time": "2023-04-06T16:22:31.213087",
     "exception": false,
     "start_time": "2023-04-06T16:22:31.109680",
     "status": "completed"
    },
    "tags": []
   },
   "outputs": [],
   "source": [
    "with open(file_list) as f:\n",
    "    all_files = f.read()\n",
    "    first_file = all_files.split('\\n', 1)[0]"
   ]
  },
  {
   "cell_type": "code",
   "execution_count": null,
   "id": "9de3847d",
   "metadata": {
    "execution": {
     "iopub.execute_input": "2023-04-06T16:22:31.263713Z",
     "iopub.status.busy": "2023-04-06T16:22:31.263250Z",
     "iopub.status.idle": "2023-04-06T16:22:31.270795Z",
     "shell.execute_reply": "2023-04-06T16:22:31.269679Z"
    },
    "papermill": {
     "duration": 0.027604,
     "end_time": "2023-04-06T16:22:31.272384",
     "exception": false,
     "start_time": "2023-04-06T16:22:31.244780",
     "status": "completed"
    },
    "tags": []
   },
   "outputs": [],
   "source": [
    "first_file"
   ]
  },
  {
   "cell_type": "code",
   "execution_count": null,
   "id": "d218574b",
   "metadata": {
    "execution": {
     "iopub.execute_input": "2023-04-06T16:22:31.298512Z",
     "iopub.status.busy": "2023-04-06T16:22:31.297863Z",
     "iopub.status.idle": "2023-04-06T16:22:31.403737Z",
     "shell.execute_reply": "2023-04-06T16:22:31.402311Z"
    },
    "papermill": {
     "duration": 0.121328,
     "end_time": "2023-04-06T16:22:31.405423",
     "exception": false,
     "start_time": "2023-04-06T16:22:31.284095",
     "status": "completed"
    },
    "tags": []
   },
   "outputs": [],
   "source": [
    "shapes = gp.read_file(shape_file)"
   ]
  },
  {
   "cell_type": "code",
   "execution_count": null,
   "id": "6b9e6200",
   "metadata": {
    "execution": {
     "iopub.execute_input": "2023-04-06T16:22:31.433935Z",
     "iopub.status.busy": "2023-04-06T16:22:31.433578Z",
     "iopub.status.idle": "2023-04-06T16:22:31.438093Z",
     "shell.execute_reply": "2023-04-06T16:22:31.437302Z"
    },
    "papermill": {
     "duration": 0.02155,
     "end_time": "2023-04-06T16:22:31.439930",
     "exception": false,
     "start_time": "2023-04-06T16:22:31.418380",
     "status": "completed"
    },
    "tags": []
   },
   "outputs": [],
   "source": [
    "isel_dict = {}\n",
    "if model_name == 'CAFE':\n",
    "    isel_dict['ensemble'] = 0\n",
    "    metadata_file = '/home/599/dbi599/unseen/config/dataset_cafe_daily.yml'\n",
    "else:\n",
    "    metadata_file = None"
   ]
  },
  {
   "cell_type": "code",
   "execution_count": null,
   "id": "3c232f49",
   "metadata": {
    "execution": {
     "iopub.execute_input": "2023-04-06T16:22:31.474096Z",
     "iopub.status.busy": "2023-04-06T16:22:31.473718Z",
     "iopub.status.idle": "2023-04-06T16:22:36.631102Z",
     "shell.execute_reply": "2023-04-06T16:22:36.629796Z"
    },
    "papermill": {
     "duration": 5.174464,
     "end_time": "2023-04-06T16:22:36.634933",
     "exception": false,
     "start_time": "2023-04-06T16:22:31.460469",
     "status": "completed"
    },
    "tags": []
   },
   "outputs": [],
   "source": [
    "region_ds = fileio.open_dataset(\n",
    "    first_file,\n",
    "    metadata_file=metadata_file,\n",
    "    variables=['pr'],\n",
    "    lat_bnds=[-47, -37],\n",
    "    lon_bnds=[141, 152],\n",
    "    shapefile=shape_file,\n",
    "    shape_overlap=0.05,\n",
    "    units={'pr': 'mm day-1'},\n",
    "    isel=isel_dict,\n",
    ")"
   ]
  },
  {
   "cell_type": "code",
   "execution_count": null,
   "id": "0eba243a",
   "metadata": {
    "execution": {
     "iopub.execute_input": "2023-04-06T16:22:36.680368Z",
     "iopub.status.busy": "2023-04-06T16:22:36.679768Z",
     "iopub.status.idle": "2023-04-06T16:22:47.945451Z",
     "shell.execute_reply": "2023-04-06T16:22:47.943842Z"
    },
    "papermill": {
     "duration": 11.288418,
     "end_time": "2023-04-06T16:22:47.950132",
     "exception": false,
     "start_time": "2023-04-06T16:22:36.661714",
     "status": "completed"
    },
    "tags": []
   },
   "outputs": [],
   "source": [
    "fig = plt.figure(figsize=[12,8])\n",
    "ax = fig.add_subplot(111, projection=ccrs.PlateCarree())\n",
    "region_ds['pr'].mean('time', keep_attrs=True).plot(\n",
    "    ax=ax,\n",
    "    transform=ccrs.PlateCarree(),\n",
    "    cmap='viridis_r',\n",
    ")\n",
    "ax.coastlines()\n",
    "ax.set_xlim([143, 150.2])\n",
    "ax.set_ylim([-44.6, -39.9])\n",
    "ax.add_feature(cartopy.feature.STATES)\n",
    "ax.add_geometries(shapes.geometry, ccrs.PlateCarree(), facecolor='none', edgecolor='orange')\n",
    "plt.show()"
   ]
  },
  {
   "cell_type": "markdown",
   "id": "146854fe",
   "metadata": {
    "papermill": {
     "duration": 0.014154,
     "end_time": "2023-04-06T16:22:47.992409",
     "exception": false,
     "start_time": "2023-04-06T16:22:47.978255",
     "status": "completed"
    },
    "tags": []
   },
   "source": [
    "### Model data"
   ]
  },
  {
   "cell_type": "code",
   "execution_count": null,
   "id": "1620b927",
   "metadata": {
    "execution": {
     "iopub.execute_input": "2023-04-06T16:22:48.020743Z",
     "iopub.status.busy": "2023-04-06T16:22:48.020029Z",
     "iopub.status.idle": "2023-04-06T16:22:48.079246Z",
     "shell.execute_reply": "2023-04-06T16:22:48.077850Z"
    },
    "papermill": {
     "duration": 0.076271,
     "end_time": "2023-04-06T16:22:48.081091",
     "exception": false,
     "start_time": "2023-04-06T16:22:48.004820",
     "status": "completed"
    },
    "tags": []
   },
   "outputs": [],
   "source": [
    "model_ds = fileio.open_dataset(model_file)\n",
    "model_add_bc_ds = fileio.open_dataset(model_add_bc_file)\n",
    "model_mulc_bc_ds = fileio.open_dataset(model_mulc_bc_file)"
   ]
  },
  {
   "cell_type": "code",
   "execution_count": null,
   "id": "b3d4100a",
   "metadata": {
    "execution": {
     "iopub.execute_input": "2023-04-06T16:22:48.111651Z",
     "iopub.status.busy": "2023-04-06T16:22:48.111287Z",
     "iopub.status.idle": "2023-04-06T16:22:48.136496Z",
     "shell.execute_reply": "2023-04-06T16:22:48.135734Z"
    },
    "papermill": {
     "duration": 0.040572,
     "end_time": "2023-04-06T16:22:48.137889",
     "exception": false,
     "start_time": "2023-04-06T16:22:48.097317",
     "status": "completed"
    },
    "tags": []
   },
   "outputs": [],
   "source": [
    "model_ds"
   ]
  },
  {
   "cell_type": "code",
   "execution_count": null,
   "id": "a5ccabe2",
   "metadata": {
    "execution": {
     "iopub.execute_input": "2023-04-06T16:22:48.235268Z",
     "iopub.status.busy": "2023-04-06T16:22:48.234789Z",
     "iopub.status.idle": "2023-04-06T16:22:48.240746Z",
     "shell.execute_reply": "2023-04-06T16:22:48.239634Z"
    },
    "papermill": {
     "duration": 0.02296,
     "end_time": "2023-04-06T16:22:48.242291",
     "exception": false,
     "start_time": "2023-04-06T16:22:48.219331",
     "status": "completed"
    },
    "tags": []
   },
   "outputs": [],
   "source": [
    "print(min_lead)"
   ]
  },
  {
   "cell_type": "code",
   "execution_count": null,
   "id": "e055048c",
   "metadata": {
    "execution": {
     "iopub.execute_input": "2023-04-06T16:22:48.274804Z",
     "iopub.status.busy": "2023-04-06T16:22:48.274163Z",
     "iopub.status.idle": "2023-04-06T16:22:48.287447Z",
     "shell.execute_reply": "2023-04-06T16:22:48.286044Z"
    },
    "papermill": {
     "duration": 0.0304,
     "end_time": "2023-04-06T16:22:48.289298",
     "exception": false,
     "start_time": "2023-04-06T16:22:48.258898",
     "status": "completed"
    },
    "tags": []
   },
   "outputs": [],
   "source": [
    "model_da = model_ds['pr'].where(model_ds['lead_time'] >= min_lead)"
   ]
  },
  {
   "cell_type": "code",
   "execution_count": null,
   "id": "6b40107c",
   "metadata": {
    "execution": {
     "iopub.execute_input": "2023-04-06T16:22:48.326712Z",
     "iopub.status.busy": "2023-04-06T16:22:48.326193Z",
     "iopub.status.idle": "2023-04-06T16:22:49.827911Z",
     "shell.execute_reply": "2023-04-06T16:22:49.826395Z"
    },
    "papermill": {
     "duration": 1.521645,
     "end_time": "2023-04-06T16:22:49.831505",
     "exception": false,
     "start_time": "2023-04-06T16:22:48.309860",
     "status": "completed"
    },
    "tags": []
   },
   "outputs": [],
   "source": [
    "model_da_stacked = model_da.dropna('lead_time').stack({'sample': ['ensemble', 'init_date', 'lead_time']})"
   ]
  },
  {
   "cell_type": "code",
   "execution_count": null,
   "id": "10aaf4a0",
   "metadata": {
    "execution": {
     "iopub.execute_input": "2023-04-06T16:22:49.879336Z",
     "iopub.status.busy": "2023-04-06T16:22:49.878723Z",
     "iopub.status.idle": "2023-04-06T16:22:49.887120Z",
     "shell.execute_reply": "2023-04-06T16:22:49.885641Z"
    },
    "papermill": {
     "duration": 0.026217,
     "end_time": "2023-04-06T16:22:49.888786",
     "exception": false,
     "start_time": "2023-04-06T16:22:49.862569",
     "status": "completed"
    },
    "tags": []
   },
   "outputs": [],
   "source": [
    "model_da_stacked.shape"
   ]
  },
  {
   "cell_type": "code",
   "execution_count": null,
   "id": "f0b0019b",
   "metadata": {
    "execution": {
     "iopub.execute_input": "2023-04-06T16:22:49.919074Z",
     "iopub.status.busy": "2023-04-06T16:22:49.918420Z",
     "iopub.status.idle": "2023-04-06T16:22:51.482199Z",
     "shell.execute_reply": "2023-04-06T16:22:51.480704Z"
    },
    "papermill": {
     "duration": 1.582882,
     "end_time": "2023-04-06T16:22:51.485724",
     "exception": false,
     "start_time": "2023-04-06T16:22:49.902842",
     "status": "completed"
    },
    "tags": []
   },
   "outputs": [],
   "source": [
    "model_add_bc_da_stacked = model_add_bc_ds.dropna('lead_time')['pr'].stack({'sample': ['ensemble', 'init_date', 'lead_time']})"
   ]
  },
  {
   "cell_type": "code",
   "execution_count": null,
   "id": "7d4fdc9e",
   "metadata": {
    "execution": {
     "iopub.execute_input": "2023-04-06T16:22:51.534633Z",
     "iopub.status.busy": "2023-04-06T16:22:51.534098Z",
     "iopub.status.idle": "2023-04-06T16:22:51.541525Z",
     "shell.execute_reply": "2023-04-06T16:22:51.540303Z"
    },
    "papermill": {
     "duration": 0.025158,
     "end_time": "2023-04-06T16:22:51.542977",
     "exception": false,
     "start_time": "2023-04-06T16:22:51.517819",
     "status": "completed"
    },
    "tags": []
   },
   "outputs": [],
   "source": [
    "model_add_bc_da_stacked.shape"
   ]
  },
  {
   "cell_type": "code",
   "execution_count": null,
   "id": "8a7afb26-20cf-43e6-b647-9f40e7586682",
   "metadata": {
    "execution": {
     "iopub.execute_input": "2023-04-06T16:22:51.575119Z",
     "iopub.status.busy": "2023-04-06T16:22:51.574466Z",
     "iopub.status.idle": "2023-04-06T16:22:53.005659Z",
     "shell.execute_reply": "2023-04-06T16:22:53.004390Z"
    },
    "papermill": {
     "duration": 1.451314,
     "end_time": "2023-04-06T16:22:53.009097",
     "exception": false,
     "start_time": "2023-04-06T16:22:51.557783",
     "status": "completed"
    },
    "tags": []
   },
   "outputs": [],
   "source": [
    "model_mulc_bc_da_stacked = model_mulc_bc_ds.dropna('lead_time')['pr'].stack({'sample': ['ensemble', 'init_date', 'lead_time']})"
   ]
  },
  {
   "cell_type": "code",
   "execution_count": null,
   "id": "80b2f212-366a-4dcd-bfbe-1f5dc232cb64",
   "metadata": {
    "execution": {
     "iopub.execute_input": "2023-04-06T16:22:53.059496Z",
     "iopub.status.busy": "2023-04-06T16:22:53.059094Z",
     "iopub.status.idle": "2023-04-06T16:22:53.066913Z",
     "shell.execute_reply": "2023-04-06T16:22:53.065434Z"
    },
    "papermill": {
     "duration": 0.026363,
     "end_time": "2023-04-06T16:22:53.068562",
     "exception": false,
     "start_time": "2023-04-06T16:22:53.042199",
     "status": "completed"
    },
    "tags": []
   },
   "outputs": [],
   "source": [
    "model_mulc_bc_da_stacked.shape"
   ]
  },
  {
   "cell_type": "markdown",
   "id": "af672ed1",
   "metadata": {
    "papermill": {
     "duration": 0.014773,
     "end_time": "2023-04-06T16:22:53.097877",
     "exception": false,
     "start_time": "2023-04-06T16:22:53.083104",
     "status": "completed"
    },
    "tags": []
   },
   "source": [
    "### Stability testing"
   ]
  },
  {
   "cell_type": "code",
   "execution_count": null,
   "id": "29240b6a",
   "metadata": {
    "execution": {
     "iopub.execute_input": "2023-04-06T16:22:53.128517Z",
     "iopub.status.busy": "2023-04-06T16:22:53.127862Z",
     "iopub.status.idle": "2023-04-06T16:22:53.141022Z",
     "shell.execute_reply": "2023-04-06T16:22:53.139596Z"
    },
    "papermill": {
     "duration": 0.030572,
     "end_time": "2023-04-06T16:22:53.142683",
     "exception": false,
     "start_time": "2023-04-06T16:22:53.112111",
     "status": "completed"
    },
    "tags": []
   },
   "outputs": [],
   "source": [
    "def plot_dist_by_lead(sample_ds, model_name):\n",
    "    \"\"\"Plot distribution curve by lead time\"\"\"\n",
    "\n",
    "    fig = plt.figure(figsize=[8, 6])\n",
    "    ax = fig.add_subplot()\n",
    "    lead_times = np.unique(model_da_stacked['lead_time'].values)\n",
    "    colors = iter(plt.cm.BuPu(np.linspace(0.3, 1, len(lead_times))))\n",
    "\n",
    "    for lead in lead_times:\n",
    "        ds_selection = sample_ds.sel({'lead_time': lead})\n",
    "        ds_selection = ds_selection.dropna('sample')\n",
    "        color = next(colors)\n",
    "        lead_df = pd.DataFrame(ds_selection.values)\n",
    "        n_values = len(ds_selection)\n",
    "        sns.kdeplot(lead_df[0], ax=ax, color=color, label=f'lead time {lead} ({n_values} samples)')\n",
    "\n",
    "    ax.grid(True)\n",
    "    #ax.set_xlim(26, 46)    \n",
    "    ax.set_title(f'Rx14day for {region_name} ({model_name})')\n",
    "    ax.set_xlabel('Rx14day precipitation (mm)')\n",
    "    ax.legend()\n",
    "    plt.show()"
   ]
  },
  {
   "cell_type": "code",
   "execution_count": null,
   "id": "96f8aeb6",
   "metadata": {
    "execution": {
     "iopub.execute_input": "2023-04-06T16:22:53.175598Z",
     "iopub.status.busy": "2023-04-06T16:22:53.174957Z",
     "iopub.status.idle": "2023-04-06T16:23:23.634601Z",
     "shell.execute_reply": "2023-04-06T16:23:23.633755Z"
    },
    "papermill": {
     "duration": 30.513993,
     "end_time": "2023-04-06T16:23:23.672994",
     "exception": false,
     "start_time": "2023-04-06T16:22:53.159001",
     "status": "completed"
    },
    "tags": []
   },
   "outputs": [],
   "source": [
    "plot_dist_by_lead(model_da_stacked, model_name)"
   ]
  },
  {
   "cell_type": "code",
   "execution_count": null,
   "id": "36ac6faf",
   "metadata": {
    "execution": {
     "iopub.execute_input": "2023-04-06T16:23:23.706604Z",
     "iopub.status.busy": "2023-04-06T16:23:23.706242Z",
     "iopub.status.idle": "2023-04-06T16:23:23.712998Z",
     "shell.execute_reply": "2023-04-06T16:23:23.711930Z"
    },
    "papermill": {
     "duration": 0.025124,
     "end_time": "2023-04-06T16:23:23.714287",
     "exception": false,
     "start_time": "2023-04-06T16:23:23.689163",
     "status": "completed"
    },
    "tags": []
   },
   "outputs": [],
   "source": [
    "def return_curve(data, method):\n",
    "    \"\"\"Return x and y data for a return period curve.\n",
    "    \n",
    "    Args:\n",
    "      data: xarray DataArray\n",
    "      method : {'gev', 'empirical'}\n",
    "          Fit a GEV or not to data\n",
    "    \"\"\"\n",
    "    \n",
    "    if method == 'gev':\n",
    "        return_periods = np.logspace(0, 4, num=10000)\n",
    "        probabilities = 1. / return_periods\n",
    "        shape, loc, scale = indices.fit_gev(data, generate_estimates=True)\n",
    "        return_values = gev.isf(probabilities, shape, loc, scale)\n",
    "    elif method == 'empirical':\n",
    "        return_values = np.sort(data, axis=None)[::-1]\n",
    "        return_periods = len(data) / np.arange(1.0, len(data) + 1.0)\n",
    "        \n",
    "    return return_periods, return_values"
   ]
  },
  {
   "cell_type": "code",
   "execution_count": null,
   "id": "c709376d",
   "metadata": {
    "execution": {
     "iopub.execute_input": "2023-04-06T16:48:30.496312Z",
     "iopub.status.busy": "2023-04-06T16:48:30.495685Z",
     "iopub.status.idle": "2023-04-06T16:48:30.506925Z",
     "shell.execute_reply": "2023-04-06T16:48:30.505724Z"
    },
    "papermill": {
     "duration": 0.036294,
     "end_time": "2023-04-06T16:48:30.508985",
     "exception": false,
     "start_time": "2023-04-06T16:48:30.472691",
     "status": "completed"
    },
    "tags": []
   },
   "outputs": [],
   "source": [
    "def plot_return(sample_ds, model_name, method, outfile=None):\n",
    "    \"\"\"Plot single return period curve.\n",
    "    \n",
    "    method: {'gev', 'empirical'}  \n",
    "    \"\"\"\n",
    "    \n",
    "    fig = plt.figure(figsize=[8, 6])\n",
    "    ax = fig.add_subplot()\n",
    "    return_periods, return_values = return_curve(sample_ds, method)\n",
    "    ax.plot(return_periods, return_values)\n",
    "    ax.set_xscale('log')\n",
    "    ax.set_title(f'Rx14day for {region_name} ({model_name})')\n",
    "    ax.set_xlabel('return period (years)')\n",
    "    ax.set_ylabel('Rx14day precipitation (mm)')\n",
    "    ax.axhline(prmax, color='0.5', linestyle='--')\n",
    "    ax.grid()\n",
    "    if outfile:\n",
    "        plt.savefig(outfile, bbox_inches='tight', facecolor='white', dpi=dpi)\n",
    "        print(outfile)\n",
    "    else:\n",
    "        plt.show()"
   ]
  },
  {
   "cell_type": "code",
   "execution_count": null,
   "id": "beceb7b9",
   "metadata": {
    "execution": {
     "iopub.execute_input": "2023-04-06T16:23:23.749858Z",
     "iopub.status.busy": "2023-04-06T16:23:23.749506Z",
     "iopub.status.idle": "2023-04-06T16:23:23.762290Z",
     "shell.execute_reply": "2023-04-06T16:23:23.761326Z"
    },
    "papermill": {
     "duration": 0.032304,
     "end_time": "2023-04-06T16:23:23.763608",
     "exception": false,
     "start_time": "2023-04-06T16:23:23.731304",
     "status": "completed"
    },
    "tags": []
   },
   "outputs": [],
   "source": [
    "def plot_return_by_lead(sample_ds, model_name, uncertainty=False):\n",
    "    \"\"\"Plot return period curve by lead time\"\"\"\n",
    "\n",
    "    fig = plt.figure(figsize=[8, 6])\n",
    "    ax = fig.add_subplot()\n",
    "    lead_times = np.unique(model_da_stacked['lead_time'].values)\n",
    "    colors = iter(plt.cm.BuPu(np.linspace(0.3, 1, len(lead_times))))\n",
    "\n",
    "    for lead in lead_times:\n",
    "        ds_selection = sample_ds.sel({'lead_time': lead})\n",
    "        ds_selection = ds_selection.dropna('sample')\n",
    "        return_periods, return_values = return_curve(ds_selection, method='empirical')\n",
    "        n_values = len(ds_selection)\n",
    "        label = f'lead time {lead} ({n_values} samples)'\n",
    "        color = next(colors)\n",
    "        ax.plot(return_periods, return_values, label=label, color=color)\n",
    "    \n",
    "    if uncertainty:\n",
    "        random_return_values = []\n",
    "        for i in range(1000):\n",
    "            random_sample = np.random.choice(sample_ds, n_values)\n",
    "            return_periods, return_values = return_curve(random_sample, method='empirical')\n",
    "            random_return_values.append(return_values)\n",
    "        random_return_values_stacked = np.stack(random_return_values)\n",
    "        upper_ci = np.percentile(random_return_values_stacked, 97.5, axis=0)\n",
    "        lower_ci = np.percentile(random_return_values_stacked, 2.5, axis=0)\n",
    "        ax.fill_between(return_periods, upper_ci, lower_ci, label='95% confidence interval', color='0.5', alpha=0.1)\n",
    "    \n",
    "    ax.grid()\n",
    "    ax.set_xscale('log')\n",
    "    ax.set_title(f'Rx14day for {region_name} ({model_name})')\n",
    "    ax.set_xlabel('return period (years)')\n",
    "    ax.set_ylabel('Rx14day precipitation (mm)')\n",
    "    ax.legend()\n",
    "    plt.show()"
   ]
  },
  {
   "cell_type": "code",
   "execution_count": null,
   "id": "fd8ba774",
   "metadata": {
    "execution": {
     "iopub.execute_input": "2023-04-06T16:23:23.797979Z",
     "iopub.status.busy": "2023-04-06T16:23:23.797459Z",
     "iopub.status.idle": "2023-04-06T16:48:16.569629Z",
     "shell.execute_reply": "2023-04-06T16:48:16.568808Z"
    },
    "papermill": {
     "duration": 1492.837493,
     "end_time": "2023-04-06T16:48:16.617152",
     "exception": false,
     "start_time": "2023-04-06T16:23:23.779659",
     "status": "completed"
    },
    "tags": []
   },
   "outputs": [],
   "source": [
    "plot_return_by_lead(model_da_stacked, model_name, uncertainty=True)"
   ]
  },
  {
   "cell_type": "code",
   "execution_count": null,
   "id": "8b76227e",
   "metadata": {},
   "outputs": [],
   "source": [
    "def plot_dist_by_decade(sample_ds, model_name):\n",
    "    \"\"\"Plot distribution curve by decade\"\"\"\n",
    "\n",
    "    fig = plt.figure(figsize=[8, 6])\n",
    "    ax = fig.add_subplot()\n",
    "    if model_name == 'CAFE':\n",
    "        start_years = [1995, 2000, 2005, 2010, 2015]\n",
    "        step = 4\n",
    "    else:\n",
    "        start_years = [1960, 1970, 1980, 1990, 2000, 2010]\n",
    "        step = 9\n",
    "    colors = iter(plt.cm.hot_r(np.linspace(0.3, 1, len(start_years))))\n",
    "\n",
    "    for start_year in start_years:\n",
    "        end_year = start_year + step\n",
    "        start_date = f'{start_year}-01-01'\n",
    "        end_date = f'{end_year}-12-25'\n",
    "        ds_selection = time_utils.select_time_period(sample_ds, [start_date, end_date])\n",
    "        ds_selection = ds_selection.dropna('sample')\n",
    "        color = next(colors)\n",
    "        decade_df = pd.DataFrame(ds_selection.values)\n",
    "        n_values = len(ds_selection) \n",
    "        sns.kdeplot(decade_df[0], ax=ax, color=color, label=f'{start_year}-{end_year} ({n_values} samples)')\n",
    "\n",
    "    ax.grid(True)\n",
    "    #ax.set_xlim(26, 46)    \n",
    "    ax.set_title(f'Rx14day for {region_name} ({model_name})')\n",
    "    ax.set_xlabel('Rx14day precipitation (mm)')\n",
    "    ax.legend()\n",
    "    plt.show()"
   ]
  },
  {
   "cell_type": "code",
   "execution_count": null,
   "id": "92481816",
   "metadata": {},
   "outputs": [],
   "source": [
    "plot_dist_by_decade(model_da_stacked, model_name)"
   ]
  },
  {
   "cell_type": "code",
   "execution_count": null,
   "id": "349f83eb",
   "metadata": {
    "execution": {
     "iopub.execute_input": "2023-04-06T16:48:30.557688Z",
     "iopub.status.busy": "2023-04-06T16:48:30.557063Z",
     "iopub.status.idle": "2023-04-06T16:48:30.575571Z",
     "shell.execute_reply": "2023-04-06T16:48:30.574320Z"
    },
    "papermill": {
     "duration": 0.040852,
     "end_time": "2023-04-06T16:48:30.576962",
     "exception": false,
     "start_time": "2023-04-06T16:48:30.536110",
     "status": "completed"
    },
    "tags": []
   },
   "outputs": [],
   "source": [
    "def plot_return_by_decade(sample_ds, model_name, method, uncertainty=False, savefig=False):\n",
    "    \"\"\"Plot return period curve by decade.\n",
    "    \n",
    "    savefig can be 'raw', 'mulc' or 'add'\n",
    "    \"\"\"\n",
    "\n",
    "    fig = plt.figure(figsize=[8, 6])\n",
    "    ax = fig.add_subplot()\n",
    "    if model_name == 'CAFE':\n",
    "        start_years = [1995, 2000, 2005, 2010, 2015]\n",
    "        step = 4\n",
    "    else:\n",
    "        start_years = [1960, 1970, 1980, 1990, 2000, 2010]\n",
    "        step = 9\n",
    "    colors = iter(plt.cm.hot_r(np.linspace(0.3, 1, len(start_years))))\n",
    "\n",
    "    for start_year in start_years:\n",
    "        end_year = start_year + step\n",
    "        start_date = f'{start_year}-01-01'\n",
    "        end_date = f'{end_year}-12-25'\n",
    "        ds_selection = time_utils.select_time_period(sample_ds, [start_date, end_date])\n",
    "        ds_selection = ds_selection.dropna('sample')\n",
    "        return_periods, return_values = return_curve(ds_selection, method)\n",
    "        n_years = len(ds_selection)\n",
    "        label = f'{start_year}-{end_year} ({n_years} samples)'\n",
    "        color = next(colors)\n",
    "        ax.plot(return_periods, return_values, label=label, color=color)\n",
    "    \n",
    "    if uncertainty:\n",
    "        random_return_values = []\n",
    "        for i in range(1000):\n",
    "            random_sample = np.random.choice(sample_ds, n_years)\n",
    "            return_periods, return_values = return_curve(random_sample, method)\n",
    "            random_return_values.append(return_values)\n",
    "        random_return_values_stacked = np.stack(random_return_values)\n",
    "        upper_ci = np.percentile(random_return_values_stacked, 97.5, axis=0)\n",
    "        lower_ci = np.percentile(random_return_values_stacked, 2.5, axis=0)\n",
    "        ax.fill_between(return_periods, upper_ci, lower_ci, label='95% confidence interval', color='0.5', alpha=0.2)\n",
    "    \n",
    "    ax.grid()\n",
    "    ax.set_xscale('log')\n",
    "    ax.set_title(f'Rx14day for {region_name} ({model_name})')\n",
    "    ax.set_xlabel('return period (years)')\n",
    "    ax.set_ylabel('Rx14day precipitation (mm)')\n",
    "    ax.legend()\n",
    "    ax.axhline(prmax, color='0.5', linestyle='--')\n",
    "    if savefig:\n",
    "        outfile = f'/g/data/xv83/dbi599/hydrotas/figures/Rx14day_return_curve_{method}_{region_name}_{model_name}_by-decade_{savefig}.png'\n",
    "        plt.savefig(outfile, bbox_inches='tight', facecolor='white', dpi=dpi)\n",
    "        print(outfile)\n",
    "    plt.show()"
   ]
  },
  {
   "cell_type": "code",
   "execution_count": null,
   "id": "6237a008",
   "metadata": {},
   "outputs": [],
   "source": [
    "plot_return_by_decade(model_da_stacked, model_name, method='empirical', uncertainty=True)"
   ]
  },
  {
   "cell_type": "markdown",
   "id": "b25bd815",
   "metadata": {
    "papermill": {
     "duration": 0.013108,
     "end_time": "2023-04-06T16:22:48.169677",
     "exception": false,
     "start_time": "2023-04-06T16:22:48.156569",
     "status": "completed"
    },
    "tags": []
   },
   "source": [
    "### Independence testing"
   ]
  },
  {
   "cell_type": "code",
   "execution_count": null,
   "id": "b819d698",
   "metadata": {
    "execution": {
     "iopub.execute_input": "2023-04-06T16:22:48.196916Z",
     "iopub.status.busy": "2023-04-06T16:22:48.196576Z",
     "iopub.status.idle": "2023-04-06T16:22:48.203320Z",
     "shell.execute_reply": "2023-04-06T16:22:48.202477Z"
    },
    "papermill": {
     "duration": 0.022265,
     "end_time": "2023-04-06T16:22:48.204601",
     "exception": false,
     "start_time": "2023-04-06T16:22:48.182336",
     "status": "completed"
    },
    "tags": []
   },
   "outputs": [],
   "source": [
    "Image(filename=independence_plot)"
   ]
  },
  {
   "cell_type": "markdown",
   "id": "1e039e61",
   "metadata": {
    "papermill": {
     "duration": 0.017183,
     "end_time": "2023-04-06T16:48:16.652753",
     "exception": false,
     "start_time": "2023-04-06T16:48:16.635570",
     "status": "completed"
    },
    "tags": []
   },
   "source": [
    "### Bias correction and fidelity testing"
   ]
  },
  {
   "cell_type": "code",
   "execution_count": null,
   "id": "6056ba03",
   "metadata": {
    "execution": {
     "iopub.execute_input": "2023-04-06T16:48:16.693454Z",
     "iopub.status.busy": "2023-04-06T16:48:16.693087Z",
     "iopub.status.idle": "2023-04-06T16:48:18.409160Z",
     "shell.execute_reply": "2023-04-06T16:48:18.408369Z"
    },
    "papermill": {
     "duration": 1.741647,
     "end_time": "2023-04-06T16:48:18.412510",
     "exception": false,
     "start_time": "2023-04-06T16:48:16.670863",
     "status": "completed"
    },
    "tags": []
   },
   "outputs": [],
   "source": [
    "model_gev_shape, model_gev_loc, model_gev_scale = indices.fit_gev(\n",
    "    model_da_stacked.values,\n",
    "    generate_estimates=True\n",
    ")"
   ]
  },
  {
   "cell_type": "code",
   "execution_count": null,
   "id": "114b3d3c",
   "metadata": {
    "execution": {
     "iopub.execute_input": "2023-04-06T16:48:18.468318Z",
     "iopub.status.busy": "2023-04-06T16:48:18.467976Z",
     "iopub.status.idle": "2023-04-06T16:48:20.424924Z",
     "shell.execute_reply": "2023-04-06T16:48:20.423492Z"
    },
    "papermill": {
     "duration": 1.980933,
     "end_time": "2023-04-06T16:48:20.428372",
     "exception": false,
     "start_time": "2023-04-06T16:48:18.447439",
     "status": "completed"
    },
    "tags": []
   },
   "outputs": [],
   "source": [
    "model_add_bc_gev_shape, model_add_bc_gev_loc, model_add_bc_gev_scale = indices.fit_gev(\n",
    "    model_add_bc_da_stacked.values,\n",
    "    generate_estimates=True\n",
    ")"
   ]
  },
  {
   "cell_type": "code",
   "execution_count": null,
   "id": "fb3c8200",
   "metadata": {
    "execution": {
     "iopub.execute_input": "2023-04-06T16:48:20.539515Z",
     "iopub.status.busy": "2023-04-06T16:48:20.538845Z",
     "iopub.status.idle": "2023-04-06T16:48:22.338099Z",
     "shell.execute_reply": "2023-04-06T16:48:22.337166Z"
    },
    "papermill": {
     "duration": 1.821222,
     "end_time": "2023-04-06T16:48:22.339511",
     "exception": false,
     "start_time": "2023-04-06T16:48:20.518289",
     "status": "completed"
    },
    "tags": []
   },
   "outputs": [],
   "source": [
    "model_mulc_bc_gev_shape, model_mulc_bc_gev_loc, model_mulc_bc_gev_scale = indices.fit_gev(\n",
    "    model_mulc_bc_da_stacked.values,\n",
    "    generate_estimates=True\n",
    ")"
   ]
  },
  {
   "cell_type": "code",
   "execution_count": null,
   "id": "9897e5c2",
   "metadata": {
    "execution": {
     "iopub.execute_input": "2023-04-06T16:48:22.378163Z",
     "iopub.status.busy": "2023-04-06T16:48:22.377829Z",
     "iopub.status.idle": "2023-04-06T16:48:22.671958Z",
     "shell.execute_reply": "2023-04-06T16:48:22.671025Z"
    },
    "papermill": {
     "duration": 0.314872,
     "end_time": "2023-04-06T16:48:22.673189",
     "exception": false,
     "start_time": "2023-04-06T16:48:22.358317",
     "status": "completed"
    },
    "tags": []
   },
   "outputs": [],
   "source": [
    "agcd_gev_shape, agcd_gev_loc, agcd_gev_scale = indices.fit_gev(\n",
    "    agcd_ds['pr'].values,\n",
    "    generate_estimates=True\n",
    ")"
   ]
  },
  {
   "cell_type": "code",
   "execution_count": null,
   "id": "41f26f8d",
   "metadata": {
    "execution": {
     "iopub.execute_input": "2023-04-06T16:48:22.713384Z",
     "iopub.status.busy": "2023-04-06T16:48:22.713167Z",
     "iopub.status.idle": "2023-04-06T16:48:22.722209Z",
     "shell.execute_reply": "2023-04-06T16:48:22.720814Z"
    },
    "papermill": {
     "duration": 0.029655,
     "end_time": "2023-04-06T16:48:22.723851",
     "exception": false,
     "start_time": "2023-04-06T16:48:22.694196",
     "status": "completed"
    },
    "tags": []
   },
   "outputs": [],
   "source": [
    "def plot_distributions(include_additive=False, include_multiplicative=False):\n",
    "    \"\"\"Plot various distributions\"\"\"\n",
    "\n",
    "    outfile = f'/g/data/xv83/dbi599/hydrotas/figures/Rx14day_histogram_{model_name}_{region_name}'\n",
    "    \n",
    "    fig = plt.figure(figsize=[10, 6])\n",
    "    gev_xvals = np.arange(0, 500)\n",
    "\n",
    "    model_da.plot.hist(\n",
    "        bins=50, density=True, label=model_name, alpha=0.7, facecolor='tab:blue',\n",
    "    )\n",
    "    model_gev_pdf = gev.pdf(gev_xvals, model_gev_shape, model_gev_loc, model_gev_scale)\n",
    "    plt.plot(gev_xvals, model_gev_pdf, color='tab:blue', linewidth=4.0)\n",
    "\n",
    "    if include_additive:\n",
    "        model_add_bc_ds['pr'].plot.hist(\n",
    "            bins=50, density=True, label=f'{model_name} additive bias corrected', facecolor='tab:red', alpha=0.7\n",
    "        )\n",
    "        model_add_bc_gev_pdf = gev.pdf(gev_xvals, model_add_bc_gev_shape, model_add_bc_gev_loc, model_add_bc_gev_scale)\n",
    "        plt.plot(gev_xvals, model_add_bc_gev_pdf, color='tab:red', linewidth=4.0)\n",
    "        outfile = outfile + '_add'\n",
    "        \n",
    "    if include_multiplicative:\n",
    "        model_mulc_bc_ds['pr'].plot.hist(\n",
    "            bins=50, density=True, label=f'{model_name} multiplicative bias corrected', facecolor='tab:orange', alpha=0.7\n",
    "        )\n",
    "        model_mulc_bc_gev_pdf = gev.pdf(gev_xvals, model_mulc_bc_gev_shape, model_mulc_bc_gev_loc, model_mulc_bc_gev_scale)\n",
    "        plt.plot(gev_xvals, model_mulc_bc_gev_pdf, color='tab:orange', linewidth=4.0)\n",
    "        outfile = outfile + '_mulc'\n",
    "        \n",
    "    agcd_ds['pr'].plot.hist(\n",
    "        bins=50, density=True, label='AGCD', facecolor='tab:gray', alpha=0.7\n",
    "    )\n",
    "    agcd_gev_pdf = gev.pdf(gev_xvals, agcd_gev_shape, agcd_gev_loc, agcd_gev_scale)\n",
    "    plt.plot(gev_xvals, agcd_gev_pdf, color='tab:gray', linewidth=4.0)\n",
    "\n",
    "    plt.xlabel('precipitation (mm)')\n",
    "    plt.ylabel('probability')\n",
    "    plt.title(f'Rx14day for {region_name} ({model_name})')\n",
    "    plt.xlim(50, 300)\n",
    "    plt.legend()\n",
    "    outfile = outfile + '.png'\n",
    "    print(outfile)\n",
    "    plt.savefig(outfile, bbox_inches='tight', facecolor='white', dpi=dpi)\n",
    "    plt.show()"
   ]
  },
  {
   "cell_type": "code",
   "execution_count": null,
   "id": "64ef687d",
   "metadata": {
    "execution": {
     "iopub.execute_input": "2023-04-06T16:48:22.761509Z",
     "iopub.status.busy": "2023-04-06T16:48:22.760879Z",
     "iopub.status.idle": "2023-04-06T16:48:25.524598Z",
     "shell.execute_reply": "2023-04-06T16:48:25.523826Z"
    },
    "papermill": {
     "duration": 2.784545,
     "end_time": "2023-04-06T16:48:25.526016",
     "exception": false,
     "start_time": "2023-04-06T16:48:22.741471",
     "status": "completed"
    },
    "tags": []
   },
   "outputs": [],
   "source": [
    "plot_distributions()"
   ]
  },
  {
   "cell_type": "code",
   "execution_count": null,
   "id": "9caddc6d",
   "metadata": {
    "execution": {
     "iopub.execute_input": "2023-04-06T16:48:25.575908Z",
     "iopub.status.busy": "2023-04-06T16:48:25.575575Z",
     "iopub.status.idle": "2023-04-06T16:48:29.622599Z",
     "shell.execute_reply": "2023-04-06T16:48:29.621819Z"
    },
    "papermill": {
     "duration": 4.073406,
     "end_time": "2023-04-06T16:48:29.627461",
     "exception": false,
     "start_time": "2023-04-06T16:48:25.554055",
     "status": "completed"
    },
    "tags": []
   },
   "outputs": [],
   "source": [
    "plot_distributions(include_multiplicative=True)"
   ]
  },
  {
   "cell_type": "code",
   "execution_count": null,
   "id": "21771116",
   "metadata": {},
   "outputs": [],
   "source": [
    "plot_distributions(include_multiplicative=True, include_additive=True)"
   ]
  },
  {
   "cell_type": "code",
   "execution_count": null,
   "id": "ea6b50a2-8e3c-45f4-9daa-43b8eeaa55fe",
   "metadata": {
    "execution": {
     "iopub.execute_input": "2023-04-06T16:48:29.689396Z",
     "iopub.status.busy": "2023-04-06T16:48:29.688778Z",
     "iopub.status.idle": "2023-04-06T16:48:29.696199Z",
     "shell.execute_reply": "2023-04-06T16:48:29.695032Z"
    },
    "papermill": {
     "duration": 0.030092,
     "end_time": "2023-04-06T16:48:29.697690",
     "exception": false,
     "start_time": "2023-04-06T16:48:29.667598",
     "status": "completed"
    },
    "tags": []
   },
   "outputs": [],
   "source": [
    "print(f'raw data shape parameter: {model_gev_shape:.3f}')\n",
    "print(f'raw data location parameter: {model_gev_loc:.3f}') \n",
    "print(f'raw data scale parameter: {model_gev_scale:.3f}')"
   ]
  },
  {
   "cell_type": "code",
   "execution_count": null,
   "id": "a3cb898e-8f5b-4ff3-95eb-a338fc379623",
   "metadata": {
    "execution": {
     "iopub.execute_input": "2023-04-06T16:48:29.739190Z",
     "iopub.status.busy": "2023-04-06T16:48:29.738555Z",
     "iopub.status.idle": "2023-04-06T16:48:29.746416Z",
     "shell.execute_reply": "2023-04-06T16:48:29.744967Z"
    },
    "papermill": {
     "duration": 0.030206,
     "end_time": "2023-04-06T16:48:29.748075",
     "exception": false,
     "start_time": "2023-04-06T16:48:29.717869",
     "status": "completed"
    },
    "tags": []
   },
   "outputs": [],
   "source": [
    "print(f'additive corrected shape parameter: {model_add_bc_gev_shape:.3f}')\n",
    "print(f'additive corrected location parameter: {model_add_bc_gev_loc:.3f}') \n",
    "print(f'additive corrected scale parameter: {model_add_bc_gev_scale:.3f}')"
   ]
  },
  {
   "cell_type": "code",
   "execution_count": null,
   "id": "c481eb09-d80c-4dc3-912e-b5d13d015910",
   "metadata": {
    "execution": {
     "iopub.execute_input": "2023-04-06T16:48:29.793067Z",
     "iopub.status.busy": "2023-04-06T16:48:29.792552Z",
     "iopub.status.idle": "2023-04-06T16:48:29.800345Z",
     "shell.execute_reply": "2023-04-06T16:48:29.798915Z"
    },
    "papermill": {
     "duration": 0.030311,
     "end_time": "2023-04-06T16:48:29.802020",
     "exception": false,
     "start_time": "2023-04-06T16:48:29.771709",
     "status": "completed"
    },
    "tags": []
   },
   "outputs": [],
   "source": [
    "print(f'multiplicative corrected shape parameter: {model_mulc_bc_gev_shape:.3f}')\n",
    "print(f'multiplicative corrected location parameter: {model_mulc_bc_gev_loc:.3f}') \n",
    "print(f'multiplicative corrected scale parameter: {model_mulc_bc_gev_scale:.3f}')"
   ]
  },
  {
   "cell_type": "markdown",
   "id": "1a8210c0",
   "metadata": {
    "papermill": {
     "duration": 0.020232,
     "end_time": "2023-04-06T16:48:29.841770",
     "exception": false,
     "start_time": "2023-04-06T16:48:29.821538",
     "status": "completed"
    },
    "tags": []
   },
   "source": [
    "We can look at p-values for the KS-test and Anderson-Darling test for each lead time.\n",
    "\n",
    "p > 0.05 means the null hypothesis (that the two samples are from the same population) can't be rejected."
   ]
  },
  {
   "cell_type": "code",
   "execution_count": null,
   "id": "a21af1f7",
   "metadata": {
    "execution": {
     "iopub.execute_input": "2023-04-06T16:48:29.884130Z",
     "iopub.status.busy": "2023-04-06T16:48:29.883492Z",
     "iopub.status.idle": "2023-04-06T16:48:29.902941Z",
     "shell.execute_reply": "2023-04-06T16:48:29.901628Z"
    },
    "papermill": {
     "duration": 0.042459,
     "end_time": "2023-04-06T16:48:29.904316",
     "exception": false,
     "start_time": "2023-04-06T16:48:29.861857",
     "status": "completed"
    },
    "tags": []
   },
   "outputs": [],
   "source": [
    "similarity_raw_ds = fileio.open_dataset(similarity_raw_file)\n",
    "ks_pval_raw = float(similarity_raw_ds['ks_pval'].values)\n",
    "ad_pval_raw = float(similarity_raw_ds['ad_pval'].values)\n",
    "print(f'additive KS test p-value: {ks_pval_raw:.3f}')\n",
    "print(f'additive AD test p-value: {ad_pval_raw:.3f}')"
   ]
  },
  {
   "cell_type": "code",
   "execution_count": null,
   "id": "e52d7e00-1510-46bc-ba47-ca75c162b03c",
   "metadata": {
    "execution": {
     "iopub.execute_input": "2023-04-06T16:48:30.258532Z",
     "iopub.status.busy": "2023-04-06T16:48:30.258020Z",
     "iopub.status.idle": "2023-04-06T16:48:30.276344Z",
     "shell.execute_reply": "2023-04-06T16:48:30.274989Z"
    },
    "papermill": {
     "duration": 0.040546,
     "end_time": "2023-04-06T16:48:30.277834",
     "exception": false,
     "start_time": "2023-04-06T16:48:30.237288",
     "status": "completed"
    },
    "tags": []
   },
   "outputs": [],
   "source": [
    "similarity_add_bias_ds = fileio.open_dataset(similarity_add_bc_file)\n",
    "ks_pval_add = float(similarity_add_bias_ds['ks_pval'].values)\n",
    "ad_pval_add = float(similarity_add_bias_ds['ad_pval'].values)\n",
    "print(f'additive KS test p-value: {ks_pval_add:.3f}')\n",
    "print(f'additive AD test p-value: {ad_pval_add:.3f}')"
   ]
  },
  {
   "cell_type": "code",
   "execution_count": null,
   "id": "0de30b63-1886-4ed8-9307-dabf49c5d484",
   "metadata": {
    "execution": {
     "iopub.execute_input": "2023-04-06T16:48:30.318987Z",
     "iopub.status.busy": "2023-04-06T16:48:30.318473Z",
     "iopub.status.idle": "2023-04-06T16:48:30.338269Z",
     "shell.execute_reply": "2023-04-06T16:48:30.336910Z"
    },
    "papermill": {
     "duration": 0.042294,
     "end_time": "2023-04-06T16:48:30.339861",
     "exception": false,
     "start_time": "2023-04-06T16:48:30.297567",
     "status": "completed"
    },
    "tags": []
   },
   "outputs": [],
   "source": [
    "similarity_mulc_bias_ds = fileio.open_dataset(similarity_mulc_bc_file)\n",
    "ks_pval_mulc = float(similarity_mulc_bias_ds['ks_pval'].values)\n",
    "ad_pval_mulc = float(similarity_mulc_bias_ds['ad_pval'].values)\n",
    "print(f'multiplicative KS test p-value: {ks_pval_mulc:.3f}')\n",
    "print(f'multiplicative AD test p-value: {ad_pval_mulc:.3f}')"
   ]
  },
  {
   "cell_type": "markdown",
   "id": "692c7b58",
   "metadata": {
    "papermill": {
     "duration": 0.019838,
     "end_time": "2023-04-06T16:48:30.450813",
     "exception": false,
     "start_time": "2023-04-06T16:48:30.430975",
     "status": "completed"
    },
    "tags": []
   },
   "source": [
    "### Return curves"
   ]
  },
  {
   "cell_type": "code",
   "execution_count": null,
   "id": "ff0f8f73",
   "metadata": {
    "execution": {
     "iopub.execute_input": "2023-04-06T16:48:30.618883Z",
     "iopub.status.busy": "2023-04-06T16:48:30.618256Z",
     "iopub.status.idle": "2023-04-06T16:48:30.626534Z",
     "shell.execute_reply": "2023-04-06T16:48:30.625129Z"
    },
    "papermill": {
     "duration": 0.031729,
     "end_time": "2023-04-06T16:48:30.628185",
     "exception": false,
     "start_time": "2023-04-06T16:48:30.596456",
     "status": "completed"
    },
    "tags": []
   },
   "outputs": [],
   "source": [
    "def gev_event_likelihood(event, shape, loc, scale):\n",
    "    \"\"\"Get likelihood stats for an event from a GEV fit\"\"\"\n",
    "\n",
    "    probability = gev.sf(event, shape, loc=loc, scale=scale)\n",
    "    return_period = 1. / probability\n",
    "    percentile = (1 - probability) * 100\n",
    "    print(f'{percentile:.2f}% percentile')\n",
    "    print(f'{return_period:.0f} year return period\\n')"
   ]
  },
  {
   "cell_type": "markdown",
   "id": "378e3988-31c5-4312-96ef-72d7820ef8e4",
   "metadata": {
    "papermill": {
     "duration": 0.023671,
     "end_time": "2023-04-06T16:48:37.992414",
     "exception": false,
     "start_time": "2023-04-06T16:48:37.968743",
     "status": "completed"
    },
    "tags": []
   },
   "source": [
    "#### Multiplicative bias corrected data"
   ]
  },
  {
   "cell_type": "code",
   "execution_count": null,
   "id": "17d6421d-1097-4775-a8da-1072eae0e792",
   "metadata": {
    "execution": {
     "iopub.execute_input": "2023-04-06T16:48:38.038333Z",
     "iopub.status.busy": "2023-04-06T16:48:38.037811Z",
     "iopub.status.idle": "2023-04-06T16:48:39.929184Z",
     "shell.execute_reply": "2023-04-06T16:48:39.928407Z"
    },
    "papermill": {
     "duration": 1.915577,
     "end_time": "2023-04-06T16:48:39.930557",
     "exception": false,
     "start_time": "2023-04-06T16:48:38.014980",
     "status": "completed"
    },
    "tags": []
   },
   "outputs": [],
   "source": [
    "plot_return(model_mulc_bc_da_stacked, model_name, method='gev')"
   ]
  },
  {
   "cell_type": "code",
   "execution_count": null,
   "id": "e0175a01-4152-4ff2-b197-f00c153e1389",
   "metadata": {
    "execution": {
     "iopub.execute_input": "2023-04-06T16:48:39.979812Z",
     "iopub.status.busy": "2023-04-06T16:48:39.979483Z",
     "iopub.status.idle": "2023-04-06T16:48:41.457210Z",
     "shell.execute_reply": "2023-04-06T16:48:41.456026Z"
    },
    "papermill": {
     "duration": 1.503657,
     "end_time": "2023-04-06T16:48:41.459082",
     "exception": false,
     "start_time": "2023-04-06T16:48:39.955425",
     "status": "completed"
    },
    "tags": []
   },
   "outputs": [],
   "source": [
    "n_events_mulc_bc, n_population_mulc_bc, return_period_mulc_bc, percentile_mulc_bc = general_utils.event_in_context(model_add_bc_da_stacked.values, prmax, 'above')\n",
    "print('MULTIPLICATIVE BIAS CORRECTED DATA')\n",
    "print(f'{n_events_mulc_bc} events in {n_population_mulc_bc} samples')\n",
    "print(f'{percentile_mulc_bc:.2f}% percentile')\n",
    "print(f'{return_period_mulc_bc:.0f} year return period')"
   ]
  },
  {
   "cell_type": "code",
   "execution_count": null,
   "id": "bd2f4347-4051-45a1-be36-e1a69617439a",
   "metadata": {
    "execution": {
     "iopub.execute_input": "2023-04-06T16:48:41.513874Z",
     "iopub.status.busy": "2023-04-06T16:48:41.513333Z",
     "iopub.status.idle": "2023-04-06T16:48:41.521927Z",
     "shell.execute_reply": "2023-04-06T16:48:41.520439Z"
    },
    "papermill": {
     "duration": 0.035581,
     "end_time": "2023-04-06T16:48:41.523775",
     "exception": false,
     "start_time": "2023-04-06T16:48:41.488194",
     "status": "completed"
    },
    "tags": []
   },
   "outputs": [],
   "source": [
    "print('MULTIPLICATIVE BIAS CORRECTED GEV')\n",
    "for rank in range(5):\n",
    "    event = float(ranked_events.iloc[[rank]]['pr'].values)\n",
    "    date = ranked_events.iloc[[rank]]['event_time'].values[0]\n",
    "    print(f'{date}: {event:.1f}mm')\n",
    "    gev_event_likelihood(event, model_mulc_bc_gev_shape, model_mulc_bc_gev_loc, model_mulc_bc_gev_scale)"
   ]
  },
  {
   "cell_type": "code",
   "execution_count": null,
   "id": "6f110cea",
   "metadata": {
    "execution": {
     "iopub.execute_input": "2023-04-06T17:14:11.320399Z",
     "iopub.status.busy": "2023-04-06T17:14:11.320054Z",
     "iopub.status.idle": "2023-04-06T17:42:11.713893Z",
     "shell.execute_reply": "2023-04-06T17:42:11.713102Z"
    },
    "papermill": {
     "duration": 1680.421418,
     "end_time": "2023-04-06T17:42:11.715240",
     "exception": false,
     "start_time": "2023-04-06T17:14:11.293822",
     "status": "completed"
    },
    "tags": []
   },
   "outputs": [],
   "source": [
    "plot_return_by_decade(model_mulc_bc_da_stacked, model_name, method='gev', uncertainty=True, savefig='mulc')"
   ]
  },
  {
   "cell_type": "markdown",
   "id": "8bcb7462",
   "metadata": {
    "papermill": {
     "duration": 0.02542,
     "end_time": "2023-04-06T17:42:13.413414",
     "exception": false,
     "start_time": "2023-04-06T17:42:13.387994",
     "status": "completed"
    },
    "tags": []
   },
   "source": [
    "### Seasonality"
   ]
  },
  {
   "cell_type": "code",
   "execution_count": null,
   "id": "8e28f48c",
   "metadata": {
    "execution": {
     "iopub.execute_input": "2023-04-06T17:42:13.465363Z",
     "iopub.status.busy": "2023-04-06T17:42:13.464735Z",
     "iopub.status.idle": "2023-04-06T17:42:14.956129Z",
     "shell.execute_reply": "2023-04-06T17:42:14.954765Z"
    },
    "papermill": {
     "duration": 1.521263,
     "end_time": "2023-04-06T17:42:14.959539",
     "exception": false,
     "start_time": "2023-04-06T17:42:13.438276",
     "status": "completed"
    },
    "tags": []
   },
   "outputs": [],
   "source": [
    "model_df = model_da_stacked.to_dataframe()\n",
    "model_df = model_df.dropna()"
   ]
  },
  {
   "cell_type": "code",
   "execution_count": null,
   "id": "c1a16c7e",
   "metadata": {
    "execution": {
     "iopub.execute_input": "2023-04-06T17:42:15.033450Z",
     "iopub.status.busy": "2023-04-06T17:42:15.032978Z",
     "iopub.status.idle": "2023-04-06T17:42:15.048994Z",
     "shell.execute_reply": "2023-04-06T17:42:15.047591Z"
    },
    "papermill": {
     "duration": 0.043677,
     "end_time": "2023-04-06T17:42:15.050561",
     "exception": false,
     "start_time": "2023-04-06T17:42:15.006884",
     "status": "completed"
    },
    "tags": []
   },
   "outputs": [],
   "source": [
    "event_months = [int(date[5:7]) for date in model_df['event_time'].values]\n",
    "event_years = [int(date[0:4]) for date in model_df['event_time'].values]"
   ]
  },
  {
   "cell_type": "code",
   "execution_count": null,
   "id": "0f5fe86c",
   "metadata": {},
   "outputs": [],
   "source": [
    "model_df['month'] = event_months\n",
    "monthly_ave = model_df.groupby('month').mean(['pr'])"
   ]
  },
  {
   "cell_type": "code",
   "execution_count": null,
   "id": "a8d46fba",
   "metadata": {
    "execution": {
     "iopub.execute_input": "2023-04-06T17:42:15.101239Z",
     "iopub.status.busy": "2023-04-06T17:42:15.100604Z",
     "iopub.status.idle": "2023-04-06T17:42:15.251500Z",
     "shell.execute_reply": "2023-04-06T17:42:15.250770Z"
    },
    "papermill": {
     "duration": 0.177557,
     "end_time": "2023-04-06T17:42:15.252791",
     "exception": false,
     "start_time": "2023-04-06T17:42:15.075234",
     "status": "completed"
    },
    "tags": []
   },
   "outputs": [],
   "source": [
    "month_counts = Counter(event_months)\n",
    "months = np.arange(1, 13)\n",
    "counts = [month_counts[month] for month in months]\n",
    "\n",
    "plt.bar(months, counts)\n",
    "plt.title(f'Rx14day timing for {region_name} ({model_name})')\n",
    "plt.ylabel('number of events')\n",
    "plt.xlabel('month')\n",
    "xlabels = [calendar.month_abbr[i] for i in months]\n",
    "plt.xticks(months, xlabels)\n",
    "#plt.savefig(\n",
    "#    f'/g/data/xv83/dbi599/east-coast-rain/figures/Rx15day_timing_AGCD_{region_name}.png',\n",
    "#    bbox_inches='tight',\n",
    "#    facecolor='white',\n",
    "#    dpi=dpi\n",
    "#)\n",
    "plt.show()"
   ]
  },
  {
   "cell_type": "code",
   "execution_count": null,
   "id": "20189663",
   "metadata": {},
   "outputs": [],
   "source": [
    "months = np.arange(1, 13)\n",
    "averages = monthly_ave['pr'].values\n",
    "\n",
    "plt.bar(months, averages)\n",
    "plt.title(f'Rx14day average magnitude for {region_name} ({model_name})')\n",
    "plt.ylabel('precipitation (mm)')\n",
    "plt.xlabel('month')\n",
    "xlabels = [calendar.month_abbr[i] for i in months]\n",
    "plt.xticks(months, xlabels)\n",
    "plt.show()"
   ]
  },
  {
   "cell_type": "markdown",
   "id": "c23fb2ae",
   "metadata": {
    "papermill": {
     "duration": 0.026006,
     "end_time": "2023-04-06T17:42:15.303799",
     "exception": false,
     "start_time": "2023-04-06T17:42:15.277793",
     "status": "completed"
    },
    "tags": []
   },
   "source": [
    "### Relationship with ENSO"
   ]
  },
  {
   "cell_type": "code",
   "execution_count": null,
   "id": "79e46142",
   "metadata": {
    "execution": {
     "iopub.execute_input": "2023-04-06T17:42:15.358848Z",
     "iopub.status.busy": "2023-04-06T17:42:15.358512Z",
     "iopub.status.idle": "2023-04-06T17:42:15.433984Z",
     "shell.execute_reply": "2023-04-06T17:42:15.433193Z"
    },
    "papermill": {
     "duration": 0.109168,
     "end_time": "2023-04-06T17:42:15.438246",
     "exception": false,
     "start_time": "2023-04-06T17:42:15.329078",
     "status": "completed"
    },
    "tags": []
   },
   "outputs": [],
   "source": [
    "nino_ds = fileio.open_dataset(nino_file)\n",
    "nino_ds = nino_ds.assign_coords({'init_date': [date.strftime('%Y%m') for date in nino_ds['init_date'].values]})\n",
    "nino_ds"
   ]
  },
  {
   "cell_type": "code",
   "execution_count": null,
   "id": "4255f5c0",
   "metadata": {
    "execution": {
     "iopub.execute_input": "2023-04-06T17:42:15.509719Z",
     "iopub.status.busy": "2023-04-06T17:42:15.509352Z",
     "iopub.status.idle": "2023-04-06T17:43:39.434018Z",
     "shell.execute_reply": "2023-04-06T17:43:39.432515Z"
    },
    "papermill": {
     "duration": 83.95398,
     "end_time": "2023-04-06T17:43:39.437426",
     "exception": false,
     "start_time": "2023-04-06T17:42:15.483446",
     "status": "completed"
    },
    "tags": []
   },
   "outputs": [],
   "source": [
    "nino_values = []\n",
    "for index, row in model_df.iterrows():\n",
    "    event_init_date = row['init_date'].strftime('%Y%m')\n",
    "    event_ensemble = row['ensemble']\n",
    "    event_year_month = row['time'].strftime('%Y-%m')\n",
    "    nino_selection = nino_ds.sel({'init_date': event_init_date, 'ensemble': event_ensemble})\n",
    "    nino_selection = nino_selection.swap_dims({'lead_time': 'time'})\n",
    "    nino_year_month = [date.strftime('%Y-%m') for date in nino_selection['time'].values]\n",
    "    nino_selection = nino_selection.assign_coords({'time': nino_year_month})\n",
    "    nino_value = float(nino_selection['tos'].sel({'time': event_year_month}).values)\n",
    "    nino_values.append(nino_value)"
   ]
  },
  {
   "cell_type": "code",
   "execution_count": null,
   "id": "917c0dfb",
   "metadata": {
    "execution": {
     "iopub.execute_input": "2023-04-06T17:43:39.515748Z",
     "iopub.status.busy": "2023-04-06T17:43:39.515222Z",
     "iopub.status.idle": "2023-04-06T17:43:39.524316Z",
     "shell.execute_reply": "2023-04-06T17:43:39.522913Z"
    },
    "papermill": {
     "duration": 0.038365,
     "end_time": "2023-04-06T17:43:39.525873",
     "exception": false,
     "start_time": "2023-04-06T17:43:39.487508",
     "status": "completed"
    },
    "tags": []
   },
   "outputs": [],
   "source": [
    "model_df['nino34'] = nino_values"
   ]
  },
  {
   "cell_type": "code",
   "execution_count": null,
   "id": "734a17b8",
   "metadata": {
    "execution": {
     "iopub.execute_input": "2023-04-06T17:43:39.578999Z",
     "iopub.status.busy": "2023-04-06T17:43:39.578478Z",
     "iopub.status.idle": "2023-04-06T17:43:48.172351Z",
     "shell.execute_reply": "2023-04-06T17:43:48.171263Z"
    },
    "papermill": {
     "duration": 8.627215,
     "end_time": "2023-04-06T17:43:48.178558",
     "exception": false,
     "start_time": "2023-04-06T17:43:39.551343",
     "status": "completed"
    },
    "tags": []
   },
   "outputs": [],
   "source": [
    "fig = plt.figure(figsize=[8, 6])\n",
    "ax = fig.add_subplot(111)\n",
    "\n",
    "sns.scatterplot(ax=ax, data=model_df, x='nino34', y='pr')\n",
    "sns.kdeplot(ax=ax, data=model_df, x='nino34', y='pr', color='0.9', linewidth=1)\n",
    "\n",
    "ax.set_ylabel('Rx15day (mm)')\n",
    "ax.set_xlabel('Nino 3.4 SST anomaly (C)')\n",
    "ax.axvline(0.65)\n",
    "ax.axvline(-0.65)\n",
    "plt.show()"
   ]
  },
  {
   "cell_type": "markdown",
   "id": "d9405e65",
   "metadata": {
    "papermill": {
     "duration": 0.029555,
     "end_time": "2023-04-06T17:43:48.257271",
     "exception": false,
     "start_time": "2023-04-06T17:43:48.227716",
     "status": "completed"
    },
    "tags": []
   },
   "source": [
    "### Meteorology"
   ]
  },
  {
   "cell_type": "code",
   "execution_count": null,
   "id": "9ed38598",
   "metadata": {
    "execution": {
     "iopub.execute_input": "2023-04-06T17:43:48.317201Z",
     "iopub.status.busy": "2023-04-06T17:43:48.316539Z",
     "iopub.status.idle": "2023-04-06T17:43:48.335959Z",
     "shell.execute_reply": "2023-04-06T17:43:48.334685Z"
    },
    "papermill": {
     "duration": 0.05093,
     "end_time": "2023-04-06T17:43:48.337329",
     "exception": false,
     "start_time": "2023-04-06T17:43:48.286399",
     "status": "completed"
    },
    "tags": []
   },
   "outputs": [],
   "source": [
    "def plot_average(start_date, end_date, color_da=None, color_var=None, contour_da=None, contour_var=None):\n",
    "    \"\"\"Plot average\"\"\"\n",
    "    \n",
    "    fig = plt.figure(figsize=[10, 5])\n",
    "    map_proj=ccrs.PlateCarree(central_longitude=180)\n",
    "    ax1 = fig.add_subplot(1, 1, 1, projection=map_proj)       \n",
    "    \n",
    "    if color_var:\n",
    "        if color_var == 'pr':\n",
    "            levels = [0, 100, 200, 300, 400, 500, 600, 700, 800]\n",
    "            label = 'total precipitation (mm)'\n",
    "            cmap = cmocean.cm.rain\n",
    "            extend = 'max'\n",
    "        elif color_var == 'ua300':\n",
    "            levels = [-30, -25, -20, -15, -10, -5, 0, 5, 10, 15, 20, 25, 30]\n",
    "            label = '300hPa zonal wind'\n",
    "            cmap='RdBu_r'\n",
    "            extend = 'both'\n",
    "        else:\n",
    "            raise ValueError('Invalid color variable')\n",
    "        color_da.plot(\n",
    "            ax=ax1,\n",
    "            transform=ccrs.PlateCarree(),\n",
    "            cmap=cmap,\n",
    "            levels=levels,\n",
    "            extend=extend,\n",
    "            cbar_kwargs={'label': label},\n",
    "        )\n",
    "    \n",
    "    if contour_var:\n",
    "        if contour_var == 'z500':\n",
    "            levels = np.arange(5000, 6300, 50)\n",
    "        elif contour_var == 'psl':\n",
    "            levels = np.arange(900, 1100, 2.5)\n",
    "        elif contour_var == 'ua300':\n",
    "            levels = np.arange(15, 60, 5)\n",
    "        else:\n",
    "            raise ValueError('Invalid contour variable')\n",
    "        lines = contour_da.plot.contour(\n",
    "            ax=ax1,\n",
    "            transform=ccrs.PlateCarree(),\n",
    "            levels=levels,\n",
    "            colors=['0.1']\n",
    "        )\n",
    "        ax1.clabel(lines, colors=['0.1'], manual=False, inline=True)\n",
    "    \n",
    "    ax1.coastlines()\n",
    "    ax1.set_extent([90, 205, -55, 10], crs=ccrs.PlateCarree())\n",
    "    ax1.gridlines(linestyle='--', draw_labels=True)\n",
    "    if contour_var:\n",
    "        ax1.set_title(f'Average {contour_var} ({contour_da.units}), {start_date} to {end_date}')\n",
    "    else:\n",
    "        ax1.set_title(f'{start_date} to {end_date}')\n",
    "#    plt.savefig(\n",
    "#        f'/home/599/dbi599/east-coast-rain/{color_var}-{contour_var}_mean_BARRA2_{start_date}_{end_date}.png',\n",
    "#        bbox_inches='tight',\n",
    "#        facecolor='white',\n",
    "#        dpi=300\n",
    "#    )\n",
    "    plt.show()"
   ]
  },
  {
   "cell_type": "code",
   "execution_count": null,
   "id": "ac05f6f2",
   "metadata": {
    "execution": {
     "iopub.execute_input": "2023-04-06T17:43:48.396095Z",
     "iopub.status.busy": "2023-04-06T17:43:48.395454Z",
     "iopub.status.idle": "2023-04-06T17:43:49.425450Z",
     "shell.execute_reply": "2023-04-06T17:43:49.423985Z"
    },
    "papermill": {
     "duration": 1.063677,
     "end_time": "2023-04-06T17:43:49.428778",
     "exception": false,
     "start_time": "2023-04-06T17:43:48.365101",
     "status": "completed"
    },
    "tags": []
   },
   "outputs": [],
   "source": [
    "ranked_events = model_df.sort_values(by=['pr'], ascending=False)\n",
    "ranked_events.head(n=10)"
   ]
  },
  {
   "cell_type": "code",
   "execution_count": null,
   "id": "aaa93741",
   "metadata": {
    "execution": {
     "iopub.execute_input": "2023-04-06T17:43:49.653796Z",
     "iopub.status.busy": "2023-04-06T17:43:49.653116Z",
     "iopub.status.idle": "2023-04-06T17:43:50.856640Z",
     "shell.execute_reply": "2023-04-06T17:43:50.855763Z"
    },
    "papermill": {
     "duration": 1.237844,
     "end_time": "2023-04-06T17:43:50.859408",
     "exception": false,
     "start_time": "2023-04-06T17:43:49.621564",
     "status": "completed"
    },
    "tags": []
   },
   "outputs": [],
   "source": [
    "model_add_bc_df = model_add_bc_ds['pr'].to_dataframe()\n",
    "model_add_bc_df = model_add_bc_df.dropna()\n",
    "model_add_bc_df = model_add_bc_df.reset_index()\n",
    "ranked_add_bc_events = model_add_bc_df.sort_values(by=['pr'], ascending=False)\n",
    "ranked_add_bc_events.head(n=10)"
   ]
  },
  {
   "cell_type": "code",
   "execution_count": null,
   "id": "4fe3506d-7703-4271-960f-1cc7b3f7aa19",
   "metadata": {
    "execution": {
     "iopub.execute_input": "2023-04-06T17:43:50.940707Z",
     "iopub.status.busy": "2023-04-06T17:43:50.940385Z",
     "iopub.status.idle": "2023-04-06T17:43:52.360507Z",
     "shell.execute_reply": "2023-04-06T17:43:52.359687Z"
    },
    "papermill": {
     "duration": 1.454498,
     "end_time": "2023-04-06T17:43:52.363671",
     "exception": false,
     "start_time": "2023-04-06T17:43:50.909173",
     "status": "completed"
    },
    "tags": []
   },
   "outputs": [],
   "source": [
    "model_mulc_bc_df = model_mulc_bc_ds['pr'].to_dataframe()\n",
    "model_mulc_bc_df = model_mulc_bc_df.dropna()\n",
    "model_mulc_bc_df = model_mulc_bc_df.reset_index()\n",
    "ranked_mulc_bc_events = model_mulc_bc_df.sort_values(by=['pr'], ascending=False)\n",
    "ranked_mulc_bc_events.head(n=10)"
   ]
  },
  {
   "cell_type": "code",
   "execution_count": null,
   "id": "29d990f5",
   "metadata": {
    "execution": {
     "iopub.execute_input": "2023-04-06T17:43:52.440271Z",
     "iopub.status.busy": "2023-04-06T17:43:52.439822Z",
     "iopub.status.idle": "2023-04-06T17:43:55.885790Z",
     "shell.execute_reply": "2023-04-06T17:43:55.884832Z"
    },
    "papermill": {
     "duration": 3.480125,
     "end_time": "2023-04-06T17:43:55.889175",
     "exception": true,
     "start_time": "2023-04-06T17:43:52.409050",
     "status": "failed"
    },
    "tags": []
   },
   "outputs": [],
   "source": [
    "for index, row in ranked_events.head(n=4).iterrows():\n",
    "    init_date = int(row['init_date'].strftime('%Y'))\n",
    "    ensemble = int(row['ensemble']) + 1\n",
    "    end_date = row['event_time']\n",
    "    rx_value = row['pr']\n",
    "    if ensemble <= 10:\n",
    "        ri = f'r{ensemble}i1'\n",
    "    else:\n",
    "        run = ensemble - 5\n",
    "        ri = f'r{run}i2'\n",
    "        \n",
    "    print(f'{init_date} ({end_date}), ensemble: {ri}, {rx_value}mm')\n",
    "    \n",
    "    start_datetime = datetime.datetime.strptime(end_date, \"%Y-%m-%d\") - datetime.timedelta(days=14)\n",
    "    start_date = start_datetime.strftime(\"%Y-%m-%d\")\n",
    "    \n",
    "    pr_files = glob.glob(f'/g/data/oi10/replicas/CMIP6/DCPP/*/{model_name}/dcppA-hindcast/s{init_date}-{ri}p1f1/day/pr/*/*/*.nc')\n",
    "    pr_files.sort()\n",
    "    ds_pr = fileio.open_dataset(pr_files, variables=['pr'],)\n",
    "    \n",
    "    psl_files = glob.glob(f'/g/data/oi10/replicas/CMIP6/DCPP/*/{model_name}/dcppA-hindcast/s{init_date}-{ri}p1f1/day/psl/*/*/*.nc')\n",
    "    psl_files.sort()\n",
    "    ds_psl = fileio.open_dataset(psl_files, variables=['psl'],)\n",
    "    \n",
    "#    zg_files = glob.glob(f'/g/data/oi10/replicas/CMIP6/DCPP/*/{model_name}/dcppA-hindcast/s{init_date}-r{ensemble}i1p1f1/day/zg/*/*/*.nc')\n",
    "#    zg_files.sort()\n",
    "#    ds_zg = fileio.open_dataset(zg_files, variables=['zg'],)\n",
    "    \n",
    "#    ua_files = glob.glob(f'/g/data/oi10/replicas/CMIP6/DCPP/*/{model_name}/dcppA-hindcast/s{init_date}-r{ensemble}i1p1f1/day/ua/*/*/*.nc')\n",
    "#    ua_files.sort()\n",
    "#    ds_ua = fileio.open_dataset(ua_files, variables=['ua'],)\n",
    "\n",
    "    pr_da = ds_pr.sel({'time': slice(start_date, end_date)})['pr']\n",
    "    pr_da = xc.units.convert_units_to(pr_da, 'mm d-1')\n",
    "    psl_da = ds_psl.sel({'time': slice(start_date, end_date)})['psl']\n",
    "    psl_da = xc.units.convert_units_to(psl_da, 'hPa')\n",
    "#    zg_da = ds_zg.sel({'time': slice(start_date, end_date)})['zg']\n",
    "#    z500_da = zg_da.sel({'plev': 50000}, method='nearest')\n",
    "#    ua_da = ds_ua.sel({'time': slice(start_date, end_date)})['ua']\n",
    "#    ua300_da = ua_da.sel({'plev': 30000}, method='nearest')\n",
    "\n",
    "    pr_da_sum = pr_da.sum('time', keep_attrs=True)\n",
    "    psl_da_mean = psl_da.mean('time', keep_attrs=True)\n",
    "#    z500_da_mean = z500_da.mean('time', keep_attrs=True)\n",
    "#    ua300_da_mean = ua300_da.mean('time', keep_attrs=True) \n",
    "\n",
    "    plot_average(start_date, end_date, pr_da_sum, 'pr', psl_da_mean, 'psl')\n",
    "#    plot_average(start_date, end_date, pr_da_sum, 'pr', z500_da_mean, 'z500')\n",
    "#    plot_average(start_date, end_date, ua300_da_mean, 'ua300', z500_da_mean, 'z500')"
   ]
  }
 ],
 "metadata": {
  "celltoolbar": "Tags",
  "kernelspec": {
   "display_name": "Python 3 (ipykernel)",
   "language": "python",
   "name": "python3"
  },
  "language_info": {
   "codemirror_mode": {
    "name": "ipython",
    "version": 3
   },
   "file_extension": ".py",
   "mimetype": "text/x-python",
   "name": "python",
   "nbconvert_exporter": "python",
   "pygments_lexer": "ipython3",
   "version": "3.10.9"
  },
  "papermill": {
   "default_parameters": {},
   "duration": 4977.090941,
   "end_time": "2023-04-06T17:43:58.555563",
   "environment_variables": {},
   "exception": true,
   "input_path": "analysis.ipynb",
   "output_path": "analysis_EC-Earth3.ipynb",
   "parameters": {
    "agcd_file": "/g/data/xv83/dbi599/hydrotas/data/Rx14day_AGCD-CSIRO_r005_1900-2022_annual_hydro-tas.zarr.zip",
    "file_list": "/home/599/dbi599/hydrotas/file_lists/EC-Earth3_dcppA-hindcast_pr_files.txt",
    "independence_plot": "/g/data/xv83/dbi599/hydrotas/figures/independence-test_Rx14day_EC-Earth3-dcppA-hindcast_196011-201711_annual_hydro-tas.png",
    "min_lead": 0,
    "model_add_bc_file": "/g/data/xv83/dbi599/hydrotas/data/Rx14day_EC-Earth3-dcppA-hindcast_196011-201711_annual_hydro-tas_bias-corrected-AGCD-CSIRO-additive.zarr.zip",
    "model_file": "/g/data/xv83/dbi599/hydrotas/data/Rx14day_EC-Earth3-dcppA-hindcast_196011-201711_annual_hydro-tas.zarr.zip",
    "model_mulc_bc_file": "/g/data/xv83/dbi599/hydrotas/data/Rx14day_EC-Earth3-dcppA-hindcast_196011-201711_annual_hydro-tas_bias-corrected-AGCD-CSIRO-multiplicative.zarr.zip",
    "model_name": "EC-Earth3",
    "nino_file": "/g/data/xv83/dbi599/hydrotas/data/nino34-anomaly_EC-Earth3-dcppA-hindcast_196011-201711_base-1960-2017.nc",
    "region_name": "hydro-tas",
    "shape_file": "/home/599/dbi599/hydrotas/shapefiles/hydro-combined.shp",
    "similarity_add_bc_file": "/g/data/xv83/dbi599/hydrotas/data/similarity-test_Rx14day_EC-Earth3-dcppA-hindcast_1960-2017_annual_hydro-tas_bias-corrected-AGCD-CSIRO-additive.zarr.zip",
    "similarity_mulc_bc_file": "/g/data/xv83/dbi599/hydrotas/data/similarity-test_Rx14day_EC-Earth3-dcppA-hindcast_1960-2017_annual_hydro-tas_bias-corrected-AGCD-CSIRO-multiplicative.zarr.zip",
    "similarity_raw_file": "/g/data/xv83/dbi599/hydrotas/data/similarity-test_Rx14day_EC-Earth3-dcppA-hindcast_1960-2017_annual_hydro-tas_AGCD-CSIRO.zarr.zip"
   },
   "start_time": "2023-04-06T16:21:01.464622",
   "version": "2.3.3"
  }
 },
 "nbformat": 4,
 "nbformat_minor": 5
}
