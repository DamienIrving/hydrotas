{
 "cells": [
  {
   "cell_type": "code",
   "execution_count": null,
   "id": "a2eae9cd",
   "metadata": {
    "execution": {
     "iopub.execute_input": "2023-01-04T04:30:04.696141Z",
     "iopub.status.busy": "2023-01-04T04:30:04.695395Z",
     "iopub.status.idle": "2023-01-04T04:30:21.804911Z",
     "shell.execute_reply": "2023-01-04T04:30:21.805871Z"
    },
    "papermill": {
     "duration": 17.154615,
     "end_time": "2023-01-04T04:30:21.806412",
     "exception": false,
     "start_time": "2023-01-04T04:30:04.651797",
     "status": "completed"
    },
    "scrolled": true,
    "tags": []
   },
   "outputs": [],
   "source": [
    "import os\n",
    "import glob\n",
    "from collections import Counter\n",
    "import calendar\n",
    "\n",
    "import matplotlib.pyplot as plt\n",
    "import numpy as np\n",
    "import pandas as pd\n",
    "import xarray as xr\n",
    "from scipy.stats import genextreme as gev\n",
    "import xclim as xc\n",
    "import numpy as np\n",
    "import cartopy.crs as ccrs\n",
    "import cmocean\n",
    "\n",
    "from unseen import fileio\n",
    "from unseen import indices"
   ]
  },
  {
   "cell_type": "code",
   "execution_count": null,
   "id": "302d1804",
   "metadata": {
    "execution": {
     "iopub.execute_input": "2023-01-04T04:30:21.872879Z",
     "iopub.status.busy": "2023-01-04T04:30:21.872197Z",
     "iopub.status.idle": "2023-01-04T04:30:21.875323Z",
     "shell.execute_reply": "2023-01-04T04:30:21.875841Z"
    },
    "papermill": {
     "duration": 0.033178,
     "end_time": "2023-01-04T04:30:21.876022",
     "exception": false,
     "start_time": "2023-01-04T04:30:21.842844",
     "status": "completed"
    },
    "tags": [
     "parameters"
    ]
   },
   "outputs": [],
   "source": [
    "# Parameters\n",
    "dpi = 300"
   ]
  },
  {
   "cell_type": "code",
   "execution_count": null,
   "id": "27c43066",
   "metadata": {
    "execution": {
     "iopub.execute_input": "2023-01-04T04:30:21.938192Z",
     "iopub.status.busy": "2023-01-04T04:30:21.937850Z",
     "iopub.status.idle": "2023-01-04T04:30:21.942634Z",
     "shell.execute_reply": "2023-01-04T04:30:21.942959Z"
    },
    "papermill": {
     "duration": 0.020087,
     "end_time": "2023-01-04T04:30:21.943072",
     "exception": false,
     "start_time": "2023-01-04T04:30:21.922985",
     "status": "completed"
    },
    "tags": []
   },
   "outputs": [],
   "source": [
    "assert os.path.isfile(rx14day_file), \"Must provide an rx14day file (papermill option -p rx14day_file [filepath])\"\n",
    "assert os.path.isfile(nino_file), \"Must provide a Nino 3.4 file (papermill option -p nino_file [filepath])\"\n",
    "assert 'region_name' in locals(), \"Must provide a region name (papermill option -p region_name [name])\""
   ]
  },
  {
   "cell_type": "markdown",
   "id": "acf59549",
   "metadata": {
    "papermill": {
     "duration": 0.009705,
     "end_time": "2023-01-04T04:30:21.964938",
     "exception": false,
     "start_time": "2023-01-04T04:30:21.955233",
     "status": "completed"
    },
    "tags": []
   },
   "source": [
    "#### Analyse and plot Rx14day data"
   ]
  },
  {
   "cell_type": "code",
   "execution_count": null,
   "id": "f43ef502",
   "metadata": {
    "execution": {
     "iopub.execute_input": "2023-01-04T04:30:21.988825Z",
     "iopub.status.busy": "2023-01-04T04:30:21.988485Z",
     "iopub.status.idle": "2023-01-04T04:30:22.526129Z",
     "shell.execute_reply": "2023-01-04T04:30:22.527022Z"
    },
    "papermill": {
     "duration": 0.552239,
     "end_time": "2023-01-04T04:30:22.527335",
     "exception": false,
     "start_time": "2023-01-04T04:30:21.975096",
     "status": "completed"
    },
    "tags": []
   },
   "outputs": [],
   "source": [
    "ds_rx14day = fileio.open_dataset(rx14day_file)\n",
    "ds_rx14day = ds_rx14day.dropna('time')"
   ]
  },
  {
   "cell_type": "code",
   "execution_count": null,
   "id": "0d2cc2da",
   "metadata": {
    "execution": {
     "iopub.execute_input": "2023-01-04T04:30:22.589286Z",
     "iopub.status.busy": "2023-01-04T04:30:22.588452Z",
     "iopub.status.idle": "2023-01-04T04:30:23.306292Z",
     "shell.execute_reply": "2023-01-04T04:30:23.307206Z"
    },
    "papermill": {
     "duration": 0.758657,
     "end_time": "2023-01-04T04:30:23.307496",
     "exception": false,
     "start_time": "2023-01-04T04:30:22.548839",
     "status": "completed"
    },
    "tags": []
   },
   "outputs": [],
   "source": [
    "ds_rx14day['pr'].plot()\n",
    "plt.title(f'Rx14day for {region_name} (AGCD)')\n",
    "plt.ylabel('precipitation (mm)')\n",
    "plt.xlabel('year')\n",
    "plt.savefig(\n",
    "    f'/g/data/xv83/dbi599/hydrotas/figures/Rx14day_timeseries_AGCD_{region_name}.png',\n",
    "    bbox_inches='tight',\n",
    "    facecolor='white',\n",
    "    dpi=dpi\n",
    ")\n",
    "plt.show()"
   ]
  },
  {
   "cell_type": "code",
   "execution_count": null,
   "id": "da74470a",
   "metadata": {
    "execution": {
     "iopub.execute_input": "2023-01-04T04:30:23.380139Z",
     "iopub.status.busy": "2023-01-04T04:30:23.373548Z",
     "iopub.status.idle": "2023-01-04T04:30:23.506571Z",
     "shell.execute_reply": "2023-01-04T04:30:23.507424Z"
    },
    "papermill": {
     "duration": 0.176279,
     "end_time": "2023-01-04T04:30:23.507720",
     "exception": false,
     "start_time": "2023-01-04T04:30:23.331441",
     "status": "completed"
    },
    "tags": []
   },
   "outputs": [],
   "source": [
    "years = ds_rx14day['time'].dt.year.values\n",
    "df_rx14day = pd.DataFrame(index=years)\n",
    "df_rx14day['pr'] = ds_rx14day['pr'].values\n",
    "df_rx14day['event_time'] = ds_rx14day['event_time'].values"
   ]
  },
  {
   "cell_type": "code",
   "execution_count": null,
   "id": "2fcc10ae",
   "metadata": {},
   "outputs": [],
   "source": [
    "df_rx14day"
   ]
  },
  {
   "cell_type": "code",
   "execution_count": null,
   "id": "39050e49",
   "metadata": {
    "execution": {
     "iopub.execute_input": "2023-01-04T04:30:23.556631Z",
     "iopub.status.busy": "2023-01-04T04:30:23.556131Z",
     "iopub.status.idle": "2023-01-04T04:30:23.561310Z",
     "shell.execute_reply": "2023-01-04T04:30:23.562172Z"
    },
    "papermill": {
     "duration": 0.030675,
     "end_time": "2023-01-04T04:30:23.562456",
     "exception": false,
     "start_time": "2023-01-04T04:30:23.531781",
     "status": "completed"
    },
    "tags": []
   },
   "outputs": [],
   "source": [
    "ranked_events = df_rx14day.sort_values(['pr'], ascending=False)\n",
    "ranked_events.head(n=10)"
   ]
  },
  {
   "cell_type": "code",
   "execution_count": null,
   "id": "8eba155b",
   "metadata": {
    "execution": {
     "iopub.execute_input": "2023-01-04T04:30:23.605798Z",
     "iopub.status.busy": "2023-01-04T04:30:23.605323Z",
     "iopub.status.idle": "2023-01-04T04:30:23.609946Z",
     "shell.execute_reply": "2023-01-04T04:30:23.610727Z"
    },
    "papermill": {
     "duration": 0.024932,
     "end_time": "2023-01-04T04:30:23.611010",
     "exception": false,
     "start_time": "2023-01-04T04:30:23.586078",
     "status": "completed"
    },
    "tags": []
   },
   "outputs": [],
   "source": [
    "rx14day_max = df_rx14day['pr'].values.max()\n",
    "print(rx14day_max)"
   ]
  },
  {
   "cell_type": "code",
   "execution_count": null,
   "id": "7acec122",
   "metadata": {
    "execution": {
     "iopub.execute_input": "2023-01-04T04:30:23.654921Z",
     "iopub.status.busy": "2023-01-04T04:30:23.654508Z",
     "iopub.status.idle": "2023-01-04T04:30:23.663482Z",
     "shell.execute_reply": "2023-01-04T04:30:23.662993Z"
    },
    "papermill": {
     "duration": 0.029879,
     "end_time": "2023-01-04T04:30:23.663601",
     "exception": false,
     "start_time": "2023-01-04T04:30:23.633722",
     "status": "completed"
    },
    "tags": []
   },
   "outputs": [],
   "source": [
    "event_months = [int(date[5:7]) for date in ds_rx14day['event_time'].values]\n",
    "event_years = [int(date[0:4]) for date in ds_rx14day['event_time'].values]"
   ]
  },
  {
   "cell_type": "code",
   "execution_count": null,
   "id": "ae45f47f",
   "metadata": {
    "execution": {
     "iopub.execute_input": "2023-01-04T04:30:23.728870Z",
     "iopub.status.busy": "2023-01-04T04:30:23.728009Z",
     "iopub.status.idle": "2023-01-04T04:30:23.953266Z",
     "shell.execute_reply": "2023-01-04T04:30:23.954166Z"
    },
    "papermill": {
     "duration": 0.27577,
     "end_time": "2023-01-04T04:30:23.954462",
     "exception": false,
     "start_time": "2023-01-04T04:30:23.678692",
     "status": "completed"
    },
    "tags": []
   },
   "outputs": [],
   "source": [
    "month_counts = Counter(event_months)\n",
    "months = np.arange(1, 13)\n",
    "counts = [month_counts[month] for month in months]\n",
    "\n",
    "plt.bar(months, counts)\n",
    "plt.title(f'Rx14day timing for {region_name} (AGCD)')\n",
    "plt.ylabel('number of events')\n",
    "plt.xlabel('month')\n",
    "xlabels = [calendar.month_abbr[i] for i in months]\n",
    "plt.xticks(months, xlabels)\n",
    "plt.savefig(\n",
    "    f'/g/data/xv83/dbi599/hydrotas/figures/Rx14day_timing_AGCD_{region_name}.png',\n",
    "    bbox_inches='tight',\n",
    "    facecolor='white',\n",
    "    dpi=dpi\n",
    ")\n",
    "plt.show()"
   ]
  },
  {
   "cell_type": "code",
   "execution_count": null,
   "id": "b4d131ed",
   "metadata": {},
   "outputs": [],
   "source": [
    "nino34_ds = xr.open_dataset(nino_file)"
   ]
  },
  {
   "cell_type": "code",
   "execution_count": null,
   "id": "5c420d76",
   "metadata": {},
   "outputs": [],
   "source": [
    "event_nino34 = []\n",
    "for month, year in zip(event_months, event_years):\n",
    "    value = nino34_ds['sst'][(nino34_ds['time'].dt.month == month) & (nino34_ds['time'].dt.year == year)].values[0]\n",
    "    event_nino34.append(value)\n",
    "event_nino34 = np.array(event_nino34)"
   ]
  },
  {
   "cell_type": "code",
   "execution_count": null,
   "id": "92b3afa1",
   "metadata": {
    "execution": {
     "iopub.execute_input": "2023-01-04T04:30:24.275395Z",
     "iopub.status.busy": "2023-01-04T04:30:24.274894Z",
     "iopub.status.idle": "2023-01-04T04:30:24.699783Z",
     "shell.execute_reply": "2023-01-04T04:30:24.700716Z"
    },
    "papermill": {
     "duration": 0.458373,
     "end_time": "2023-01-04T04:30:24.701060",
     "exception": false,
     "start_time": "2023-01-04T04:30:24.242687",
     "status": "completed"
    },
    "tags": []
   },
   "outputs": [],
   "source": [
    "plt.scatter(event_nino34, ds_rx14day['pr'].values)\n",
    "plt.title(f'Rx14day vs Nino 3.4 (AGCD)')\n",
    "plt.ylabel('Rx14day (mm)')\n",
    "plt.xlabel('Nino 3.4 SST anomaly (C)')\n",
    "plt.axvline(0.65)\n",
    "plt.axvline(-0.65)\n",
    "plt.savefig(\n",
    "    f'/g/data/xv83/dbi599/hydrotas/figures/Rx14day_ENSO_AGCD_{region_name}.png',\n",
    "    bbox_inches='tight',\n",
    "    facecolor='white',\n",
    "    dpi=dpi\n",
    ")\n",
    "plt.show()"
   ]
  },
  {
   "cell_type": "code",
   "execution_count": null,
   "id": "79f51c83",
   "metadata": {
    "execution": {
     "iopub.execute_input": "2023-01-04T04:30:24.748189Z",
     "iopub.status.busy": "2023-01-04T04:30:24.747849Z",
     "iopub.status.idle": "2023-01-04T04:30:24.750550Z",
     "shell.execute_reply": "2023-01-04T04:30:24.750252Z"
    },
    "papermill": {
     "duration": 0.022061,
     "end_time": "2023-01-04T04:30:24.750618",
     "exception": false,
     "start_time": "2023-01-04T04:30:24.728557",
     "status": "completed"
    },
    "tags": []
   },
   "outputs": [],
   "source": [
    "def gev_analysis(ds, event, region, savefig=False):\n",
    "    \"\"\"Perform GEV analysis\n",
    "    \n",
    "    Args:\n",
    "      ds (Pandas Series): Data sample\n",
    "      event (float) : Event of interest\n",
    "      region (str) : Name of spatial region\n",
    "    \"\"\"\n",
    "\n",
    "    gev_shape, gev_loc, gev_scale = indices.fit_gev(ds.values)\n",
    "    print(f'Shape parameter: {gev_shape:.2f}')\n",
    "    print(f'Location parameter: {gev_loc:.2f}')\n",
    "    print(f'Scale parameter: {gev_scale:.2f}')\n",
    "\n",
    "    fig, ax = plt.subplots(figsize=[10, 8])\n",
    "    gev_xvals = np.arange(0, 700)\n",
    "    ds.plot.hist(bins=40, density=True, color='tab:green', alpha=0.5)\n",
    "    gev_pdf = gev.pdf(gev_xvals, gev_shape, gev_loc, gev_scale)\n",
    "    plt.plot(gev_xvals, gev_pdf, color='tab:green', linewidth=4.0)\n",
    "    plt.xlabel('precipitation (mm)')\n",
    "    plt.ylabel('probability')\n",
    "    plt.title(f'Rx14day for {region} (AGCD)')\n",
    "    if savefig:\n",
    "        plt.savefig(\n",
    "            f'/g/data/xv83/dbi599/hydro/figures/Rx14day_histogram_AGCD_{region}.png',\n",
    "            bbox_inches='tight',\n",
    "            facecolor='white',\n",
    "            dpi=dpi\n",
    "        )\n",
    "    plt.show()\n",
    "    \n",
    "    event_probability = gev.sf(event, gev_shape, loc=gev_loc, scale=gev_scale)\n",
    "    event_return_period = 1. / event_probability\n",
    "    event_percentile = (1 - event_probability) * 100\n",
    "    print(f'{event_return_period:.0f} year return period\\n')\n",
    "    print(f'{event_percentile:.2f}% percentile')"
   ]
  },
  {
   "cell_type": "code",
   "execution_count": null,
   "id": "ef2629df",
   "metadata": {
    "execution": {
     "iopub.execute_input": "2023-01-04T04:30:24.782731Z",
     "iopub.status.busy": "2023-01-04T04:30:24.782404Z",
     "iopub.status.idle": "2023-01-04T04:30:25.620164Z",
     "shell.execute_reply": "2023-01-04T04:30:25.619191Z"
    },
    "papermill": {
     "duration": 0.856225,
     "end_time": "2023-01-04T04:30:25.620408",
     "exception": false,
     "start_time": "2023-01-04T04:30:24.764183",
     "status": "completed"
    },
    "tags": []
   },
   "outputs": [],
   "source": [
    "gev_analysis(df_rx14day['pr'], rx14day_max, region_name, savefig=True)"
   ]
  },
  {
   "cell_type": "code",
   "execution_count": null,
   "id": "4845448d",
   "metadata": {
    "execution": {
     "iopub.execute_input": "2023-01-04T04:30:25.667528Z",
     "iopub.status.busy": "2023-01-04T04:30:25.667202Z",
     "iopub.status.idle": "2023-01-04T04:30:25.903500Z",
     "shell.execute_reply": "2023-01-04T04:30:25.902540Z"
    },
    "papermill": {
     "duration": 0.254326,
     "end_time": "2023-01-04T04:30:25.903736",
     "exception": false,
     "start_time": "2023-01-04T04:30:25.649410",
     "status": "completed"
    },
    "tags": []
   },
   "outputs": [],
   "source": [
    "gev_analysis(df_rx14day['pr'][:-1], rx14day_max, region_name)"
   ]
  },
  {
   "cell_type": "markdown",
   "id": "7bb982d7",
   "metadata": {
    "papermill": {
     "duration": 0.013607,
     "end_time": "2023-01-04T04:30:25.947849",
     "exception": false,
     "start_time": "2023-01-04T04:30:25.934242",
     "status": "completed"
    },
    "tags": []
   },
   "source": [
    "#### Meteorology of the most extreme events\n",
    "\n",
    "### 14-day aggregates"
   ]
  },
  {
   "cell_type": "code",
   "execution_count": null,
   "id": "3cd881f4",
   "metadata": {},
   "outputs": [],
   "source": [
    "def plot_average(color_da, color_var, contour_da, contour_var, start_date, end_date):\n",
    "    \"\"\"Plot average\"\"\"\n",
    "    \n",
    "    fig = plt.figure(figsize=[10, 5])\n",
    "    map_proj=ccrs.PlateCarree(central_longitude=180)\n",
    "    ax1 = fig.add_subplot(1, 1, 1, projection=map_proj)       \n",
    "    \n",
    "    if color_var == 'pr':\n",
    "        levels = [0, 100, 200, 300, 400, 500, 600, 700, 800]\n",
    "        label = 'total precipitation (mm)'\n",
    "        cmap = cmocean.cm.rain\n",
    "        extend = 'max'\n",
    "    elif color_var == 'ua300':\n",
    "        levels = [-30, -25, -20, -15, -10, -5, 0, 5, 10, 15, 20, 25, 30]\n",
    "        label = '300hPa zonal wind'\n",
    "        cmap='RdBu_r'\n",
    "        extend = 'both'\n",
    "    else:\n",
    "        raise ValueError('Invalid color variable')\n",
    "    color_da.plot(\n",
    "        ax=ax1,\n",
    "        transform=ccrs.PlateCarree(),\n",
    "        cmap=cmap,\n",
    "        levels=levels,\n",
    "        extend=extend,\n",
    "        cbar_kwargs={'label': label},\n",
    "    )\n",
    "    \n",
    "    if contour_var == 'z500':\n",
    "        levels = np.arange(5000, 6300, 50)\n",
    "    elif contour_var == 'psl':\n",
    "        levels = np.arange(900, 1100, 2.5)\n",
    "    elif contour_var == 'ua300':\n",
    "        levels = np.arange(15, 60, 5)\n",
    "    else:\n",
    "        raise ValueError('Invalid contour variable')\n",
    "    lines = contour_da.plot.contour(\n",
    "        ax=ax1,\n",
    "        transform=ccrs.PlateCarree(),\n",
    "        levels=levels,\n",
    "        colors=['0.1']\n",
    "    )\n",
    "    ax1.clabel(lines, colors=['0.1'], manual=False, inline=True)\n",
    "    \n",
    "    ax1.coastlines()\n",
    "    ax1.set_extent([90, 205, -55, 10], crs=ccrs.PlateCarree())\n",
    "    ax1.gridlines(linestyle='--', draw_labels=True)\n",
    "    ax1.set_title(f'Average {contour_var} ({contour_da.units}), {start_date} to {end_date}')\n",
    "    #plt.savefig(\n",
    "    #    f'/home/599/dbi599/east-coast-rain/{color_var}-{contour_var}_mean_BARRA2_{start_date}_{end_date}.png',\n",
    "    #    bbox_inches='tight',\n",
    "    #    facecolor='white',\n",
    "    #    dpi=300\n",
    "    #)\n",
    "    plt.show()"
   ]
  },
  {
   "cell_type": "code",
   "execution_count": null,
   "id": "ce5d6634",
   "metadata": {},
   "outputs": [],
   "source": [
    "z500_files = glob.glob('/g/data/yb19/australian-climate-service/release/ACS-BARRA2/output/AUS-11/BOM/ECMWF-ERA5/historical/hres/BOM-BARRA-R2/v1/day/zg500/zg500_AUS-11_ECMWF-ERA5_historical_hres_BOM-BARRA-R2_v1_day_*.nc')\n",
    "z500_files.sort()\n",
    "\n",
    "pr_files = glob.glob('/g/data/yb19/australian-climate-service/release/ACS-BARRA2/output/AUS-11/BOM/ECMWF-ERA5/historical/hres/BOM-BARRA-R2/v1/day/pr/pr_AUS-11_ECMWF-ERA5_historical_hres_BOM-BARRA-R2_v1_day_*.nc')\n",
    "pr_files.sort()\n",
    "\n",
    "psl_files = glob.glob('/g/data/yb19/australian-climate-service/release/ACS-BARRA2/output/AUS-11/BOM/ECMWF-ERA5/historical/hres/BOM-BARRA-R2/v1/day/psl/psl_AUS-11_ECMWF-ERA5_historical_hres_BOM-BARRA-R2_v1_day_*.nc')\n",
    "psl_files.sort()\n",
    "\n",
    "ua300_files = glob.glob('/g/data/yb19/australian-climate-service/release/ACS-BARRA2/output/AUS-11/BOM/ECMWF-ERA5/historical/hres/BOM-BARRA-R2/v1/day/ua300/ua300_AUS-11_ECMWF-ERA5_historical_hres_BOM-BARRA-R2_v1_day_*.nc')\n",
    "ua300_files.sort()"
   ]
  },
  {
   "cell_type": "code",
   "execution_count": null,
   "id": "fdd24b8d",
   "metadata": {},
   "outputs": [],
   "source": [
    "z500_ds = xr.open_mfdataset(z500_files)\n",
    "pr_ds = xr.open_mfdataset(pr_files)\n",
    "psl_ds = xr.open_mfdataset(psl_files)\n",
    "ua300_ds = xr.open_mfdataset(ua300_files)"
   ]
  },
  {
   "cell_type": "code",
   "execution_count": null,
   "id": "1d099bf2",
   "metadata": {},
   "outputs": [],
   "source": [
    "for index, row in ranked_events.head(n=5).iterrows():\n",
    "    end_date = row['event_time']\n",
    "    if int(end_date[0:4]) > 2007:\n",
    "        rx_value = row['pr']\n",
    "        print(f'{index} ({end_date}): {rx_value}mm')\n",
    "        start_datetime = datetime.datetime.strptime(end_date, \"%Y-%m-%d\") - datetime.timedelta(days=14)\n",
    "        start_date = start_datetime.strftime(\"%Y-%m-%d\")\n",
    "        z500_da = z500_ds.sel({'time': slice(start_date, end_date)})['zg500']\n",
    "        pr_da = pr_ds.sel({'time': slice(start_date, end_date)})['pr']\n",
    "        pr_da = xc.units.convert_units_to(pr_da, 'mm d-1')\n",
    "        psl_da = psl_ds.sel({'time': slice(start_date, end_date)})['psl']\n",
    "        psl_da = xc.units.convert_units_to(psl_da, 'hPa')\n",
    "        ua300_da = ua300_ds.sel({'time': slice(start_date, end_date)})['ua300']\n",
    "\n",
    "        z500_da_mean = z500_da.mean('time', keep_attrs=True)\n",
    "        pr_da_sum = pr_da.sum('time', keep_attrs=True)\n",
    "        psl_da_mean = psl_da.mean('time', keep_attrs=True)\n",
    "        ua300_da_mean = ua300_da.mean('time', keep_attrs=True)    \n",
    "\n",
    "        plot_average(pr_da_sum, 'pr', z500_da_mean, 'z500', start_date, end_date)\n",
    "        plot_average(pr_da_sum, 'pr', psl_da_mean, 'psl', start_date, end_date)\n",
    "        plot_average(ua300_da_mean, 'ua300', z500_da_mean, 'z500', start_date, end_date)"
   ]
  },
  {
   "cell_type": "markdown",
   "id": "1bf4aa7c",
   "metadata": {},
   "source": [
    "### Day-by-day"
   ]
  },
  {
   "cell_type": "code",
   "execution_count": null,
   "id": "fc175cce",
   "metadata": {},
   "outputs": [],
   "source": [
    "def plot_days(contour_var, start_date, end_date):\n",
    "    \"\"\"Plot days\"\"\"\n",
    "\n",
    "    pr_da = pr_ds.sel({'time': slice(start_date, end_date)})['pr']\n",
    "    pr_da = xc.units.convert_units_to(pr_da, 'mm d-1')\n",
    "    \n",
    "    if contour_var == 'z500':\n",
    "        contour_da = z500_ds.sel({'time': slice(start_date, end_date)})['zg500']\n",
    "    elif contour_var == 'psl':\n",
    "        contour_da = psl_ds.sel({'time': slice(start_date, end_date)})['psl']\n",
    "        contour_da = xc.units.convert_units_to(contour_da, 'hPa')\n",
    "    else:\n",
    "        raise ValueError('Invalid contour variable')\n",
    "    \n",
    "    fig = plt.figure(figsize=[20, 18])\n",
    "    map_proj=ccrs.PlateCarree(central_longitude=180)\n",
    "    \n",
    "    if contour_var == 'z500':\n",
    "        levels = np.arange(5000, 6300, 75)\n",
    "    elif contour_var == 'psl':\n",
    "        levels = np.arange(900, 1100, 5)\n",
    "\n",
    "    plot_order = [1, 4, 7, 10, 13, 2, 5, 8, 11, 14, 3, 6, 9, 12, 15]\n",
    "    for day in range(15):\n",
    "        ax = fig.add_subplot(5, 3, plot_order[day], projection=map_proj)\n",
    "        pr_da.isel({'time': day}).plot(\n",
    "            ax=ax,\n",
    "            transform=ccrs.PlateCarree(),\n",
    "            cmap=cmocean.cm.rain,\n",
    "            levels=[0, 10, 20, 30, 40, 50, 60, 70, 80, 90, 100],\n",
    "            extend='max',\n",
    "            cbar_kwargs={'label': 'total precipitation (mm)'},\n",
    "        )\n",
    "    \n",
    "        lines = contour_da.isel({'time': day}).plot.contour(\n",
    "            ax=ax,\n",
    "            transform=ccrs.PlateCarree(),\n",
    "            levels=levels,\n",
    "            colors=['0.1']\n",
    "        )\n",
    "        ax.clabel(lines, colors=['0.1'], manual=False, inline=True)\n",
    "        ax.coastlines()\n",
    "        ax.gridlines(linestyle='--', draw_labels=True)\n",
    "        date = str(pr_da.isel({'time': day})['time'].dt.strftime('%d %b').values)\n",
    "        ax.set_title(date)\n",
    "        ax.set_extent([90, 205, -55, 10], crs=ccrs.PlateCarree())\n",
    "    plt.suptitle(f'Daily {contour_var} ({contour_da.units})')\n",
    "#    plt.savefig(\n",
    "#        f'{contour_var}_days_BARRA2_{start_date}_{end_date}.png',\n",
    "#        bbox_inches='tight',\n",
    "#        facecolor='white',\n",
    "#        dpi=300\n",
    "#    )\n",
    "    plt.show()"
   ]
  },
  {
   "cell_type": "code",
   "execution_count": null,
   "id": "e0b3d155",
   "metadata": {},
   "outputs": [],
   "source": [
    "plot_days('z500', '2022-02-23', '2022-03-09')"
   ]
  },
  {
   "cell_type": "code",
   "execution_count": null,
   "id": "b60e3682",
   "metadata": {},
   "outputs": [],
   "source": [
    "plot_days('psl', '2022-02-23', '2022-03-09')"
   ]
  },
  {
   "cell_type": "code",
   "execution_count": null,
   "id": "c11435d6",
   "metadata": {},
   "outputs": [],
   "source": []
  }
 ],
 "metadata": {
  "kernelspec": {
   "display_name": "Python 3 (ipykernel)",
   "language": "python",
   "name": "python3"
  },
  "language_info": {
   "codemirror_mode": {
    "name": "ipython",
    "version": 3
   },
   "file_extension": ".py",
   "mimetype": "text/x-python",
   "name": "python",
   "nbconvert_exporter": "python",
   "pygments_lexer": "ipython3",
   "version": "3.10.9"
  },
  "papermill": {
   "default_parameters": {},
   "duration": 25.910592,
   "end_time": "2023-01-04T04:30:26.570013",
   "environment_variables": {},
   "exception": null,
   "input_path": "AGCD.ipynb",
   "output_path": "AGCD_east-coast-flood-region.ipynb",
   "parameters": {
    "nino_file": "/home/599/dbi599/east-coast-rain/nino34.txt",
    "region_name": "east-coast-flood-region",
    "rx15day_file": "/g/data/xv83/dbi599/east-coast-rain/data/Rx15day_AGCD-CSIRO_r005_1900-2022_annual-aug-to-sep_east-coast-flood-region.zarr.zip"
   },
   "start_time": "2023-01-04T04:30:00.659421",
   "version": "2.3.3"
  }
 },
 "nbformat": 4,
 "nbformat_minor": 5
}
