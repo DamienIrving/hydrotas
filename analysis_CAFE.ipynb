{
 "cells": [
  {
   "cell_type": "markdown",
   "id": "4d047299",
   "metadata": {
    "papermill": {
     "duration": 0.026986,
     "end_time": "2023-04-05T03:37:55.991543",
     "exception": false,
     "start_time": "2023-04-05T03:37:55.964557",
     "status": "completed"
    },
    "tags": []
   },
   "source": [
    "# East coast floods\n"
   ]
  },
  {
   "cell_type": "code",
   "execution_count": 1,
   "id": "95569a41",
   "metadata": {
    "execution": {
     "iopub.execute_input": "2023-04-05T03:37:56.020671Z",
     "iopub.status.busy": "2023-04-05T03:37:56.020109Z",
     "iopub.status.idle": "2023-04-05T03:38:32.207709Z",
     "shell.execute_reply": "2023-04-05T03:38:32.205563Z"
    },
    "papermill": {
     "duration": 36.205953,
     "end_time": "2023-04-05T03:38:32.211876",
     "exception": false,
     "start_time": "2023-04-05T03:37:56.005923",
     "status": "completed"
    },
    "tags": []
   },
   "outputs": [],
   "source": [
    "import os\n",
    "import datetime\n",
    "import glob\n",
    "\n",
    "from collections import Counter\n",
    "import calendar\n",
    "import matplotlib.pyplot as plt\n",
    "import pandas as pd\n",
    "import numpy as np\n",
    "import cartopy\n",
    "import cartopy.crs as ccrs\n",
    "import geopandas as gp\n",
    "from IPython.display import Image\n",
    "from scipy.stats import genextreme as gev\n",
    "import xclim as xc\n",
    "import cmocean\n",
    "import seaborn as sns\n",
    "\n",
    "from unseen import fileio\n",
    "from unseen import general_utils\n",
    "from unseen import time_utils\n",
    "from unseen import indices"
   ]
  },
  {
   "cell_type": "code",
   "execution_count": 2,
   "id": "56e9e0ab",
   "metadata": {
    "execution": {
     "iopub.execute_input": "2023-04-05T03:38:32.254016Z",
     "iopub.status.busy": "2023-04-05T03:38:32.253428Z",
     "iopub.status.idle": "2023-04-05T03:38:32.260594Z",
     "shell.execute_reply": "2023-04-05T03:38:32.259083Z"
    },
    "papermill": {
     "duration": 0.025092,
     "end_time": "2023-04-05T03:38:32.262515",
     "exception": false,
     "start_time": "2023-04-05T03:38:32.237423",
     "status": "completed"
    },
    "tags": [
     "parameters"
    ]
   },
   "outputs": [],
   "source": [
    "# Optional parameters \n",
    "# (This cell is tagged \"parameters\")\n",
    "dpi = 300"
   ]
  },
  {
   "cell_type": "code",
   "execution_count": 7,
   "id": "c6b2551b",
   "metadata": {
    "execution": {
     "iopub.execute_input": "2023-04-05T03:38:32.288417Z",
     "iopub.status.busy": "2023-04-05T03:38:32.287752Z",
     "iopub.status.idle": "2023-04-05T03:38:32.297703Z",
     "shell.execute_reply": "2023-04-05T03:38:32.296256Z"
    },
    "papermill": {
     "duration": 0.026973,
     "end_time": "2023-04-05T03:38:32.299679",
     "exception": false,
     "start_time": "2023-04-05T03:38:32.272706",
     "status": "completed"
    },
    "tags": [
     "injected-parameters"
    ]
   },
   "outputs": [],
   "source": [
    "# Parameters\n",
    "agcd_file = \"/g/data/xv83/dbi599/hydrotas/data/Rx14day_AGCD-CSIRO_r005_1900-2022_annual_hydro-tas.zarr.zip\"\n",
    "model_file = \"/g/data/xv83/dbi599/hydrotas/data/Rx14day_CAFE-c5-d60-pX-f6_19950501-20201101_annual_hydro-tas.zarr.zip\"\n",
    "model_add_bc_file = \"/g/data/xv83/dbi599/hydrotas/data/Rx14day_CAFE-c5-d60-pX-f6_19950501-20201101_annual_hydro-tas_bias-corrected-AGCD-CSIRO-additive.zarr.zip\"\n",
    "model_mulc_bc_file = \"/g/data/xv83/dbi599/hydrotas/data/Rx14day_CAFE-c5-d60-pX-f6_19950501-20201101_annual_hydro-tas_bias-corrected-AGCD-CSIRO-multiplicative.zarr.zip\"\n",
    "similarity_add_bc_file = \"/g/data/xv83/dbi599/hydrotas/data/similarity-test_Rx14day_CAFE-c5-d60-pX-f6_1995-2020_annual_hydro-tas_bias-corrected-AGCD-CSIRO-additive.zarr.zip\"\n",
    "similarity_mulc_bc_file = \"/g/data/xv83/dbi599/hydrotas/data/similarity-test_Rx14day_CAFE-c5-d60-pX-f6_1995-2020_annual_hydro-tas_bias-corrected-AGCD-CSIRO-multiplicative.zarr.zip\"\n",
    "similarity_raw_file = \"/g/data/xv83/dbi599/hydrotas/data/similarity-test_Rx14day_CAFE-c5-d60-pX-f6_1995-2020_annual_hydro-tas_AGCD-CSIRO.zarr.zip\"\n",
    "independence_plot = \"/g/data/xv83/dbi599/hydrotas/figures/independence-test_Rx14day_CAFE-c5-d60-pX-f6_19950501-20201101_annual_hydro-tas.png\"\n",
    "model_name = \"CAFE\"\n",
    "min_lead = 3\n",
    "region_name = \"hydro-tas\"\n",
    "shape_file = \"/home/599/dbi599/hydrotas/shapefiles/hydro-combined.shp\"\n",
    "file_list = \"/home/599/dbi599/hydrotas/file_lists/CAFE_c5-d60-pX-f6_pr_files.txt\"\n",
    "nino_file = \"/g/data/xv83/dbi599/hydrotas/data/nino34-anomaly_CAFE-c5-d60-pX-f6_19950501-20201101_base-1995-2020.nc\"\n"
   ]
  },
  {
   "cell_type": "code",
   "execution_count": 8,
   "id": "b9787631",
   "metadata": {
    "execution": {
     "iopub.execute_input": "2023-04-05T03:38:32.328050Z",
     "iopub.status.busy": "2023-04-05T03:38:32.327526Z",
     "iopub.status.idle": "2023-04-05T03:38:32.344278Z",
     "shell.execute_reply": "2023-04-05T03:38:32.342879Z"
    },
    "papermill": {
     "duration": 0.032603,
     "end_time": "2023-04-05T03:38:32.346216",
     "exception": false,
     "start_time": "2023-04-05T03:38:32.313613",
     "status": "completed"
    },
    "tags": []
   },
   "outputs": [],
   "source": [
    "# Required parameters\n",
    "assert 'model_name' in locals(), \"Must provide a model name\"\n",
    "assert 'region_name' in locals(), \"Must provide a region name\"\n",
    "assert 'min_lead' in locals(), \"Must provide a minimum lead time\"\n",
    "assert os.path.isfile(file_list), \"Must provide the input model files list (papermill option -p file_list [filepath])\"\n",
    "assert os.path.isfile(shape_file), \"Must provide the shapefile (papermill option -p shape_file [filepath])\"\n",
    "assert os.path.isfile(agcd_file), \"Must provide an AGCD data file (papermill option -p agcd_file [filepath])\"\n",
    "assert os.path.isfile(model_file), \"Must provide an model data file (papermill option -p model_file [filepath])\"\n",
    "assert os.path.isfile(model_add_bc_file), \"Must provide a model additive bias corrected data file (papermill option -p model_add_bc_file [filepath])\"\n",
    "assert os.path.isfile(model_mulc_bc_file), \"Must provide a model multiplicative bias corrected data file (papermill option -p model_mulc_bc_file [filepath])\"\n",
    "assert os.path.isfile(nino_file), \"Must provide a model Nino 3.4 data file (papermill option -p nino_file [filepath])\"\n",
    "assert os.path.isfile(similarity_add_bc_file), \"Must provide an additive bias corrected similarity test file (papermill option -p similarity_add_bias_file [filepath])\"\n",
    "assert os.path.isfile(similarity_mulc_bc_file), \"Must provide an multiplicative bias corrected similarity test file (papermill option -p similarity_mulc_bias_file [filepath])\"\n",
    "assert os.path.isfile(similarity_raw_file), \"Must provide an raw data similarity test file (papermill option -p similarity_raw_file [filepath])\"\n",
    "assert os.path.isfile(independence_plot), \"Must provide an independence test plot (papermill option -p independence_plot [filepath])\""
   ]
  },
  {
   "cell_type": "markdown",
   "id": "5c8da4f2",
   "metadata": {
    "papermill": {
     "duration": 0.00995,
     "end_time": "2023-04-05T03:38:32.369436",
     "exception": false,
     "start_time": "2023-04-05T03:38:32.359486",
     "status": "completed"
    },
    "tags": []
   },
   "source": [
    "## Observations"
   ]
  },
  {
   "cell_type": "code",
   "execution_count": 9,
   "id": "f40952f6",
   "metadata": {
    "execution": {
     "iopub.execute_input": "2023-04-05T03:38:32.393067Z",
     "iopub.status.busy": "2023-04-05T03:38:32.392408Z",
     "iopub.status.idle": "2023-04-05T03:38:34.131751Z",
     "shell.execute_reply": "2023-04-05T03:38:34.130189Z"
    },
    "papermill": {
     "duration": 1.755113,
     "end_time": "2023-04-05T03:38:34.135392",
     "exception": false,
     "start_time": "2023-04-05T03:38:32.380279",
     "status": "completed"
    },
    "tags": []
   },
   "outputs": [],
   "source": [
    "agcd_ds = fileio.open_dataset(agcd_file)\n",
    "agcd_ds = agcd_ds.dropna('time')"
   ]
  },
  {
   "cell_type": "code",
   "execution_count": 10,
   "id": "1493ff0f",
   "metadata": {
    "execution": {
     "iopub.execute_input": "2023-04-05T03:38:34.179441Z",
     "iopub.status.busy": "2023-04-05T03:38:34.178757Z",
     "iopub.status.idle": "2023-04-05T03:38:34.389265Z",
     "shell.execute_reply": "2023-04-05T03:38:34.387814Z"
    },
    "papermill": {
     "duration": 0.232026,
     "end_time": "2023-04-05T03:38:34.394558",
     "exception": false,
     "start_time": "2023-04-05T03:38:34.162532",
     "status": "completed"
    },
    "tags": []
   },
   "outputs": [
    {
     "data": {
      "text/html": [
       "<div><svg style=\"position: absolute; width: 0; height: 0; overflow: hidden\">\n",
       "<defs>\n",
       "<symbol id=\"icon-database\" viewBox=\"0 0 32 32\">\n",
       "<path d=\"M16 0c-8.837 0-16 2.239-16 5v4c0 2.761 7.163 5 16 5s16-2.239 16-5v-4c0-2.761-7.163-5-16-5z\"></path>\n",
       "<path d=\"M16 17c-8.837 0-16-2.239-16-5v6c0 2.761 7.163 5 16 5s16-2.239 16-5v-6c0 2.761-7.163 5-16 5z\"></path>\n",
       "<path d=\"M16 26c-8.837 0-16-2.239-16-5v6c0 2.761 7.163 5 16 5s16-2.239 16-5v-6c0 2.761-7.163 5-16 5z\"></path>\n",
       "</symbol>\n",
       "<symbol id=\"icon-file-text2\" viewBox=\"0 0 32 32\">\n",
       "<path d=\"M28.681 7.159c-0.694-0.947-1.662-2.053-2.724-3.116s-2.169-2.030-3.116-2.724c-1.612-1.182-2.393-1.319-2.841-1.319h-15.5c-1.378 0-2.5 1.121-2.5 2.5v27c0 1.378 1.122 2.5 2.5 2.5h23c1.378 0 2.5-1.122 2.5-2.5v-19.5c0-0.448-0.137-1.23-1.319-2.841zM24.543 5.457c0.959 0.959 1.712 1.825 2.268 2.543h-4.811v-4.811c0.718 0.556 1.584 1.309 2.543 2.268zM28 29.5c0 0.271-0.229 0.5-0.5 0.5h-23c-0.271 0-0.5-0.229-0.5-0.5v-27c0-0.271 0.229-0.5 0.5-0.5 0 0 15.499-0 15.5 0v7c0 0.552 0.448 1 1 1h7v19.5z\"></path>\n",
       "<path d=\"M23 26h-14c-0.552 0-1-0.448-1-1s0.448-1 1-1h14c0.552 0 1 0.448 1 1s-0.448 1-1 1z\"></path>\n",
       "<path d=\"M23 22h-14c-0.552 0-1-0.448-1-1s0.448-1 1-1h14c0.552 0 1 0.448 1 1s-0.448 1-1 1z\"></path>\n",
       "<path d=\"M23 18h-14c-0.552 0-1-0.448-1-1s0.448-1 1-1h14c0.552 0 1 0.448 1 1s-0.448 1-1 1z\"></path>\n",
       "</symbol>\n",
       "</defs>\n",
       "</svg>\n",
       "<style>/* CSS stylesheet for displaying xarray objects in jupyterlab.\n",
       " *\n",
       " */\n",
       "\n",
       ":root {\n",
       "  --xr-font-color0: var(--jp-content-font-color0, rgba(0, 0, 0, 1));\n",
       "  --xr-font-color2: var(--jp-content-font-color2, rgba(0, 0, 0, 0.54));\n",
       "  --xr-font-color3: var(--jp-content-font-color3, rgba(0, 0, 0, 0.38));\n",
       "  --xr-border-color: var(--jp-border-color2, #e0e0e0);\n",
       "  --xr-disabled-color: var(--jp-layout-color3, #bdbdbd);\n",
       "  --xr-background-color: var(--jp-layout-color0, white);\n",
       "  --xr-background-color-row-even: var(--jp-layout-color1, white);\n",
       "  --xr-background-color-row-odd: var(--jp-layout-color2, #eeeeee);\n",
       "}\n",
       "\n",
       "html[theme=dark],\n",
       "body[data-theme=dark],\n",
       "body.vscode-dark {\n",
       "  --xr-font-color0: rgba(255, 255, 255, 1);\n",
       "  --xr-font-color2: rgba(255, 255, 255, 0.54);\n",
       "  --xr-font-color3: rgba(255, 255, 255, 0.38);\n",
       "  --xr-border-color: #1F1F1F;\n",
       "  --xr-disabled-color: #515151;\n",
       "  --xr-background-color: #111111;\n",
       "  --xr-background-color-row-even: #111111;\n",
       "  --xr-background-color-row-odd: #313131;\n",
       "}\n",
       "\n",
       ".xr-wrap {\n",
       "  display: block !important;\n",
       "  min-width: 300px;\n",
       "  max-width: 700px;\n",
       "}\n",
       "\n",
       ".xr-text-repr-fallback {\n",
       "  /* fallback to plain text repr when CSS is not injected (untrusted notebook) */\n",
       "  display: none;\n",
       "}\n",
       "\n",
       ".xr-header {\n",
       "  padding-top: 6px;\n",
       "  padding-bottom: 6px;\n",
       "  margin-bottom: 4px;\n",
       "  border-bottom: solid 1px var(--xr-border-color);\n",
       "}\n",
       "\n",
       ".xr-header > div,\n",
       ".xr-header > ul {\n",
       "  display: inline;\n",
       "  margin-top: 0;\n",
       "  margin-bottom: 0;\n",
       "}\n",
       "\n",
       ".xr-obj-type,\n",
       ".xr-array-name {\n",
       "  margin-left: 2px;\n",
       "  margin-right: 10px;\n",
       "}\n",
       "\n",
       ".xr-obj-type {\n",
       "  color: var(--xr-font-color2);\n",
       "}\n",
       "\n",
       ".xr-sections {\n",
       "  padding-left: 0 !important;\n",
       "  display: grid;\n",
       "  grid-template-columns: 150px auto auto 1fr 20px 20px;\n",
       "}\n",
       "\n",
       ".xr-section-item {\n",
       "  display: contents;\n",
       "}\n",
       "\n",
       ".xr-section-item input {\n",
       "  display: none;\n",
       "}\n",
       "\n",
       ".xr-section-item input + label {\n",
       "  color: var(--xr-disabled-color);\n",
       "}\n",
       "\n",
       ".xr-section-item input:enabled + label {\n",
       "  cursor: pointer;\n",
       "  color: var(--xr-font-color2);\n",
       "}\n",
       "\n",
       ".xr-section-item input:enabled + label:hover {\n",
       "  color: var(--xr-font-color0);\n",
       "}\n",
       "\n",
       ".xr-section-summary {\n",
       "  grid-column: 1;\n",
       "  color: var(--xr-font-color2);\n",
       "  font-weight: 500;\n",
       "}\n",
       "\n",
       ".xr-section-summary > span {\n",
       "  display: inline-block;\n",
       "  padding-left: 0.5em;\n",
       "}\n",
       "\n",
       ".xr-section-summary-in:disabled + label {\n",
       "  color: var(--xr-font-color2);\n",
       "}\n",
       "\n",
       ".xr-section-summary-in + label:before {\n",
       "  display: inline-block;\n",
       "  content: '►';\n",
       "  font-size: 11px;\n",
       "  width: 15px;\n",
       "  text-align: center;\n",
       "}\n",
       "\n",
       ".xr-section-summary-in:disabled + label:before {\n",
       "  color: var(--xr-disabled-color);\n",
       "}\n",
       "\n",
       ".xr-section-summary-in:checked + label:before {\n",
       "  content: '▼';\n",
       "}\n",
       "\n",
       ".xr-section-summary-in:checked + label > span {\n",
       "  display: none;\n",
       "}\n",
       "\n",
       ".xr-section-summary,\n",
       ".xr-section-inline-details {\n",
       "  padding-top: 4px;\n",
       "  padding-bottom: 4px;\n",
       "}\n",
       "\n",
       ".xr-section-inline-details {\n",
       "  grid-column: 2 / -1;\n",
       "}\n",
       "\n",
       ".xr-section-details {\n",
       "  display: none;\n",
       "  grid-column: 1 / -1;\n",
       "  margin-bottom: 5px;\n",
       "}\n",
       "\n",
       ".xr-section-summary-in:checked ~ .xr-section-details {\n",
       "  display: contents;\n",
       "}\n",
       "\n",
       ".xr-array-wrap {\n",
       "  grid-column: 1 / -1;\n",
       "  display: grid;\n",
       "  grid-template-columns: 20px auto;\n",
       "}\n",
       "\n",
       ".xr-array-wrap > label {\n",
       "  grid-column: 1;\n",
       "  vertical-align: top;\n",
       "}\n",
       "\n",
       ".xr-preview {\n",
       "  color: var(--xr-font-color3);\n",
       "}\n",
       "\n",
       ".xr-array-preview,\n",
       ".xr-array-data {\n",
       "  padding: 0 5px !important;\n",
       "  grid-column: 2;\n",
       "}\n",
       "\n",
       ".xr-array-data,\n",
       ".xr-array-in:checked ~ .xr-array-preview {\n",
       "  display: none;\n",
       "}\n",
       "\n",
       ".xr-array-in:checked ~ .xr-array-data,\n",
       ".xr-array-preview {\n",
       "  display: inline-block;\n",
       "}\n",
       "\n",
       ".xr-dim-list {\n",
       "  display: inline-block !important;\n",
       "  list-style: none;\n",
       "  padding: 0 !important;\n",
       "  margin: 0;\n",
       "}\n",
       "\n",
       ".xr-dim-list li {\n",
       "  display: inline-block;\n",
       "  padding: 0;\n",
       "  margin: 0;\n",
       "}\n",
       "\n",
       ".xr-dim-list:before {\n",
       "  content: '(';\n",
       "}\n",
       "\n",
       ".xr-dim-list:after {\n",
       "  content: ')';\n",
       "}\n",
       "\n",
       ".xr-dim-list li:not(:last-child):after {\n",
       "  content: ',';\n",
       "  padding-right: 5px;\n",
       "}\n",
       "\n",
       ".xr-has-index {\n",
       "  font-weight: bold;\n",
       "}\n",
       "\n",
       ".xr-var-list,\n",
       ".xr-var-item {\n",
       "  display: contents;\n",
       "}\n",
       "\n",
       ".xr-var-item > div,\n",
       ".xr-var-item label,\n",
       ".xr-var-item > .xr-var-name span {\n",
       "  background-color: var(--xr-background-color-row-even);\n",
       "  margin-bottom: 0;\n",
       "}\n",
       "\n",
       ".xr-var-item > .xr-var-name:hover span {\n",
       "  padding-right: 5px;\n",
       "}\n",
       "\n",
       ".xr-var-list > li:nth-child(odd) > div,\n",
       ".xr-var-list > li:nth-child(odd) > label,\n",
       ".xr-var-list > li:nth-child(odd) > .xr-var-name span {\n",
       "  background-color: var(--xr-background-color-row-odd);\n",
       "}\n",
       "\n",
       ".xr-var-name {\n",
       "  grid-column: 1;\n",
       "}\n",
       "\n",
       ".xr-var-dims {\n",
       "  grid-column: 2;\n",
       "}\n",
       "\n",
       ".xr-var-dtype {\n",
       "  grid-column: 3;\n",
       "  text-align: right;\n",
       "  color: var(--xr-font-color2);\n",
       "}\n",
       "\n",
       ".xr-var-preview {\n",
       "  grid-column: 4;\n",
       "}\n",
       "\n",
       ".xr-index-preview {\n",
       "  grid-column: 2 / 5;\n",
       "  color: var(--xr-font-color2);\n",
       "}\n",
       "\n",
       ".xr-var-name,\n",
       ".xr-var-dims,\n",
       ".xr-var-dtype,\n",
       ".xr-preview,\n",
       ".xr-attrs dt {\n",
       "  white-space: nowrap;\n",
       "  overflow: hidden;\n",
       "  text-overflow: ellipsis;\n",
       "  padding-right: 10px;\n",
       "}\n",
       "\n",
       ".xr-var-name:hover,\n",
       ".xr-var-dims:hover,\n",
       ".xr-var-dtype:hover,\n",
       ".xr-attrs dt:hover {\n",
       "  overflow: visible;\n",
       "  width: auto;\n",
       "  z-index: 1;\n",
       "}\n",
       "\n",
       ".xr-var-attrs,\n",
       ".xr-var-data,\n",
       ".xr-index-data {\n",
       "  display: none;\n",
       "  background-color: var(--xr-background-color) !important;\n",
       "  padding-bottom: 5px !important;\n",
       "}\n",
       "\n",
       ".xr-var-attrs-in:checked ~ .xr-var-attrs,\n",
       ".xr-var-data-in:checked ~ .xr-var-data,\n",
       ".xr-index-data-in:checked ~ .xr-index-data {\n",
       "  display: block;\n",
       "}\n",
       "\n",
       ".xr-var-data > table {\n",
       "  float: right;\n",
       "}\n",
       "\n",
       ".xr-var-name span,\n",
       ".xr-var-data,\n",
       ".xr-index-name div,\n",
       ".xr-index-data,\n",
       ".xr-attrs {\n",
       "  padding-left: 25px !important;\n",
       "}\n",
       "\n",
       ".xr-attrs,\n",
       ".xr-var-attrs,\n",
       ".xr-var-data,\n",
       ".xr-index-data {\n",
       "  grid-column: 1 / -1;\n",
       "}\n",
       "\n",
       "dl.xr-attrs {\n",
       "  padding: 0;\n",
       "  margin: 0;\n",
       "  display: grid;\n",
       "  grid-template-columns: 125px auto;\n",
       "}\n",
       "\n",
       ".xr-attrs dt,\n",
       ".xr-attrs dd {\n",
       "  padding: 0;\n",
       "  margin: 0;\n",
       "  float: left;\n",
       "  padding-right: 10px;\n",
       "  width: auto;\n",
       "}\n",
       "\n",
       ".xr-attrs dt {\n",
       "  font-weight: normal;\n",
       "  grid-column: 1;\n",
       "}\n",
       "\n",
       ".xr-attrs dt:hover span {\n",
       "  display: inline-block;\n",
       "  background: var(--xr-background-color);\n",
       "  padding-right: 10px;\n",
       "}\n",
       "\n",
       ".xr-attrs dd {\n",
       "  grid-column: 2;\n",
       "  white-space: pre-wrap;\n",
       "  word-break: break-all;\n",
       "}\n",
       "\n",
       ".xr-icon-database,\n",
       ".xr-icon-file-text2,\n",
       ".xr-no-icon {\n",
       "  display: inline-block;\n",
       "  vertical-align: middle;\n",
       "  width: 1em;\n",
       "  height: 1.5em !important;\n",
       "  stroke-width: 0;\n",
       "  stroke: currentColor;\n",
       "  fill: currentColor;\n",
       "}\n",
       "</style><pre class='xr-text-repr-fallback'>&lt;xarray.Dataset&gt;\n",
       "Dimensions:     (time: 122)\n",
       "Coordinates:\n",
       "    event_time  (time) &lt;U28 dask.array&lt;chunksize=(122,), meta=np.ndarray&gt;\n",
       "  * time        (time) object 1901-01-01 09:00:00 ... 2022-01-01 09:00:00\n",
       "Data variables:\n",
       "    pr          (time) float32 dask.array&lt;chunksize=(1,), meta=np.ndarray&gt;\n",
       "Attributes: (12/33)\n",
       "    CDI:                           Climate Data Interface version ?? (http://...\n",
       "    CDO:                           Climate Data Operators version 1.7.0 (http...\n",
       "    Conventions:                   CF-1.6\n",
       "    acknowledgment:                The Australian Government, Bureau of Meteo...\n",
       "    analysis_components:           total: the gridded accumulation of rainfall.\n",
       "    bom-cmp-awap_version:          bom-cmp-awap-1.00-89.0.x86_64\n",
       "    ...                            ...\n",
       "    summary:                       The daily and monthly rainfall data repres...\n",
       "    time_coverage_end:             1900-01-01T09:00:00\n",
       "    time_coverage_start:           1899-12-31T09:00:00\n",
       "    title:                         Interpolated Rain Gauge Precipitation\n",
       "    url:                           http://www.bom.gov.au/climate/\n",
       "    uuid:                          14333ae2-28fe-4cb6-9f00-677adc94f25e</pre><div class='xr-wrap' style='display:none'><div class='xr-header'><div class='xr-obj-type'>xarray.Dataset</div></div><ul class='xr-sections'><li class='xr-section-item'><input id='section-a472b122-5b44-4535-ae7c-9435dbe5718a' class='xr-section-summary-in' type='checkbox' disabled ><label for='section-a472b122-5b44-4535-ae7c-9435dbe5718a' class='xr-section-summary'  title='Expand/collapse section'>Dimensions:</label><div class='xr-section-inline-details'><ul class='xr-dim-list'><li><span class='xr-has-index'>time</span>: 122</li></ul></div><div class='xr-section-details'></div></li><li class='xr-section-item'><input id='section-78ec78a3-19c7-4739-9a9f-0b48d81ab9dc' class='xr-section-summary-in' type='checkbox'  checked><label for='section-78ec78a3-19c7-4739-9a9f-0b48d81ab9dc' class='xr-section-summary' >Coordinates: <span>(2)</span></label><div class='xr-section-inline-details'></div><div class='xr-section-details'><ul class='xr-var-list'><li class='xr-var-item'><div class='xr-var-name'><span>event_time</span></div><div class='xr-var-dims'>(time)</div><div class='xr-var-dtype'>&lt;U28</div><div class='xr-var-preview xr-preview'>dask.array&lt;chunksize=(122,), meta=np.ndarray&gt;</div><input id='attrs-9c32eb59-d4c5-4d5d-904a-6b5ffa9db843' class='xr-var-attrs-in' type='checkbox' disabled><label for='attrs-9c32eb59-d4c5-4d5d-904a-6b5ffa9db843' title='Show/Hide attributes'><svg class='icon xr-icon-file-text2'><use xlink:href='#icon-file-text2'></use></svg></label><input id='data-2a1d114e-820e-4ffa-ad2d-d42cec8ff1f5' class='xr-var-data-in' type='checkbox'><label for='data-2a1d114e-820e-4ffa-ad2d-d42cec8ff1f5' title='Show/Hide data repr'><svg class='icon xr-icon-database'><use xlink:href='#icon-database'></use></svg></label><div class='xr-var-attrs'><dl class='xr-attrs'></dl></div><div class='xr-var-data'><table>\n",
       "    <tr>\n",
       "        <td>\n",
       "            <table style=\"border-collapse: collapse;\">\n",
       "                <thead>\n",
       "                    <tr>\n",
       "                        <td> </td>\n",
       "                        <th> Array </th>\n",
       "                        <th> Chunk </th>\n",
       "                    </tr>\n",
       "                </thead>\n",
       "                <tbody>\n",
       "                    \n",
       "                    <tr>\n",
       "                        <th> Bytes </th>\n",
       "                        <td> 13.34 kiB </td>\n",
       "                        <td> 13.34 kiB </td>\n",
       "                    </tr>\n",
       "                    \n",
       "                    <tr>\n",
       "                        <th> Shape </th>\n",
       "                        <td> (122,) </td>\n",
       "                        <td> (122,) </td>\n",
       "                    </tr>\n",
       "                    <tr>\n",
       "                        <th> Dask graph </th>\n",
       "                        <td colspan=\"2\"> 1 chunks in 3 graph layers </td>\n",
       "                    </tr>\n",
       "                    <tr>\n",
       "                        <th> Data type </th>\n",
       "                        <td colspan=\"2\"> <U28 numpy.ndarray </td>\n",
       "                    </tr>\n",
       "                </tbody>\n",
       "            </table>\n",
       "        </td>\n",
       "        <td>\n",
       "        <svg width=\"170\" height=\"75\" style=\"stroke:rgb(0,0,0);stroke-width:1\" >\n",
       "\n",
       "  <!-- Horizontal lines -->\n",
       "  <line x1=\"0\" y1=\"0\" x2=\"120\" y2=\"0\" style=\"stroke-width:2\" />\n",
       "  <line x1=\"0\" y1=\"25\" x2=\"120\" y2=\"25\" style=\"stroke-width:2\" />\n",
       "\n",
       "  <!-- Vertical lines -->\n",
       "  <line x1=\"0\" y1=\"0\" x2=\"0\" y2=\"25\" style=\"stroke-width:2\" />\n",
       "  <line x1=\"120\" y1=\"0\" x2=\"120\" y2=\"25\" style=\"stroke-width:2\" />\n",
       "\n",
       "  <!-- Colored Rectangle -->\n",
       "  <polygon points=\"0.0,0.0 120.0,0.0 120.0,25.412616514582485 0.0,25.412616514582485\" style=\"fill:#ECB172A0;stroke-width:0\"/>\n",
       "\n",
       "  <!-- Text -->\n",
       "  <text x=\"60.000000\" y=\"45.412617\" font-size=\"1.0rem\" font-weight=\"100\" text-anchor=\"middle\" >122</text>\n",
       "  <text x=\"140.000000\" y=\"12.706308\" font-size=\"1.0rem\" font-weight=\"100\" text-anchor=\"middle\" transform=\"rotate(0,140.000000,12.706308)\">1</text>\n",
       "</svg>\n",
       "        </td>\n",
       "    </tr>\n",
       "</table></div></li><li class='xr-var-item'><div class='xr-var-name'><span class='xr-has-index'>time</span></div><div class='xr-var-dims'>(time)</div><div class='xr-var-dtype'>object</div><div class='xr-var-preview xr-preview'>1901-01-01 09:00:00 ... 2022-01-...</div><input id='attrs-fd02209c-2205-44cb-b740-592a21f34260' class='xr-var-attrs-in' type='checkbox' ><label for='attrs-fd02209c-2205-44cb-b740-592a21f34260' title='Show/Hide attributes'><svg class='icon xr-icon-file-text2'><use xlink:href='#icon-file-text2'></use></svg></label><input id='data-e8fbfd9e-0a11-4175-8ea6-22166a2fb4c6' class='xr-var-data-in' type='checkbox'><label for='data-e8fbfd9e-0a11-4175-8ea6-22166a2fb4c6' title='Show/Hide data repr'><svg class='icon xr-icon-database'><use xlink:href='#icon-database'></use></svg></label><div class='xr-var-attrs'><dl class='xr-attrs'><dt><span>frequency :</span></dt><dd>A</dd></dl></div><div class='xr-var-data'><pre>array([cftime.DatetimeGregorian(1901, 1, 1, 9, 0, 0, 0, has_year_zero=False),\n",
       "       cftime.DatetimeGregorian(1902, 1, 1, 9, 0, 0, 0, has_year_zero=False),\n",
       "       cftime.DatetimeGregorian(1903, 1, 1, 9, 0, 0, 0, has_year_zero=False),\n",
       "       cftime.DatetimeGregorian(1904, 1, 2, 9, 0, 0, 0, has_year_zero=False),\n",
       "       cftime.DatetimeGregorian(1905, 1, 1, 9, 0, 0, 0, has_year_zero=False),\n",
       "       cftime.DatetimeGregorian(1906, 1, 1, 9, 0, 0, 0, has_year_zero=False),\n",
       "       cftime.DatetimeGregorian(1907, 1, 1, 9, 0, 0, 0, has_year_zero=False),\n",
       "       cftime.DatetimeGregorian(1908, 1, 2, 9, 0, 0, 0, has_year_zero=False),\n",
       "       cftime.DatetimeGregorian(1909, 1, 1, 9, 0, 0, 0, has_year_zero=False),\n",
       "       cftime.DatetimeGregorian(1910, 1, 1, 9, 0, 0, 0, has_year_zero=False),\n",
       "       cftime.DatetimeGregorian(1911, 1, 1, 9, 0, 0, 0, has_year_zero=False),\n",
       "       cftime.DatetimeGregorian(1912, 1, 2, 9, 0, 0, 0, has_year_zero=False),\n",
       "       cftime.DatetimeGregorian(1913, 1, 1, 9, 0, 0, 0, has_year_zero=False),\n",
       "       cftime.DatetimeGregorian(1914, 1, 1, 9, 0, 0, 0, has_year_zero=False),\n",
       "       cftime.DatetimeGregorian(1915, 1, 1, 9, 0, 0, 0, has_year_zero=False),\n",
       "       cftime.DatetimeGregorian(1916, 1, 2, 9, 0, 0, 0, has_year_zero=False),\n",
       "       cftime.DatetimeGregorian(1917, 1, 1, 9, 0, 0, 0, has_year_zero=False),\n",
       "       cftime.DatetimeGregorian(1918, 1, 1, 9, 0, 0, 0, has_year_zero=False),\n",
       "       cftime.DatetimeGregorian(1919, 1, 1, 9, 0, 0, 0, has_year_zero=False),\n",
       "       cftime.DatetimeGregorian(1920, 1, 2, 9, 0, 0, 0, has_year_zero=False),\n",
       "       cftime.DatetimeGregorian(1921, 1, 1, 9, 0, 0, 0, has_year_zero=False),\n",
       "       cftime.DatetimeGregorian(1922, 1, 1, 9, 0, 0, 0, has_year_zero=False),\n",
       "       cftime.DatetimeGregorian(1923, 1, 1, 9, 0, 0, 0, has_year_zero=False),\n",
       "       cftime.DatetimeGregorian(1924, 1, 2, 9, 0, 0, 0, has_year_zero=False),\n",
       "       cftime.DatetimeGregorian(1925, 1, 1, 9, 0, 0, 0, has_year_zero=False),\n",
       "       cftime.DatetimeGregorian(1926, 1, 1, 9, 0, 0, 0, has_year_zero=False),\n",
       "       cftime.DatetimeGregorian(1927, 1, 1, 9, 0, 0, 0, has_year_zero=False),\n",
       "       cftime.DatetimeGregorian(1928, 1, 2, 9, 0, 0, 0, has_year_zero=False),\n",
       "       cftime.DatetimeGregorian(1929, 1, 1, 9, 0, 0, 0, has_year_zero=False),\n",
       "       cftime.DatetimeGregorian(1930, 1, 1, 9, 0, 0, 0, has_year_zero=False),\n",
       "       cftime.DatetimeGregorian(1931, 1, 1, 9, 0, 0, 0, has_year_zero=False),\n",
       "       cftime.DatetimeGregorian(1932, 1, 2, 9, 0, 0, 0, has_year_zero=False),\n",
       "       cftime.DatetimeGregorian(1933, 1, 1, 9, 0, 0, 0, has_year_zero=False),\n",
       "       cftime.DatetimeGregorian(1934, 1, 1, 9, 0, 0, 0, has_year_zero=False),\n",
       "       cftime.DatetimeGregorian(1935, 1, 1, 9, 0, 0, 0, has_year_zero=False),\n",
       "       cftime.DatetimeGregorian(1936, 1, 2, 9, 0, 0, 0, has_year_zero=False),\n",
       "       cftime.DatetimeGregorian(1937, 1, 1, 9, 0, 0, 0, has_year_zero=False),\n",
       "       cftime.DatetimeGregorian(1938, 1, 1, 9, 0, 0, 0, has_year_zero=False),\n",
       "       cftime.DatetimeGregorian(1939, 1, 1, 9, 0, 0, 0, has_year_zero=False),\n",
       "       cftime.DatetimeGregorian(1940, 1, 2, 9, 0, 0, 0, has_year_zero=False),\n",
       "       cftime.DatetimeGregorian(1941, 1, 1, 9, 0, 0, 0, has_year_zero=False),\n",
       "       cftime.DatetimeGregorian(1942, 1, 1, 9, 0, 0, 0, has_year_zero=False),\n",
       "       cftime.DatetimeGregorian(1943, 1, 1, 9, 0, 0, 0, has_year_zero=False),\n",
       "       cftime.DatetimeGregorian(1944, 1, 2, 9, 0, 0, 0, has_year_zero=False),\n",
       "       cftime.DatetimeGregorian(1945, 1, 1, 9, 0, 0, 0, has_year_zero=False),\n",
       "       cftime.DatetimeGregorian(1946, 1, 1, 9, 0, 0, 0, has_year_zero=False),\n",
       "       cftime.DatetimeGregorian(1947, 1, 1, 9, 0, 0, 0, has_year_zero=False),\n",
       "       cftime.DatetimeGregorian(1948, 1, 2, 9, 0, 0, 0, has_year_zero=False),\n",
       "       cftime.DatetimeGregorian(1949, 1, 1, 9, 0, 0, 0, has_year_zero=False),\n",
       "       cftime.DatetimeGregorian(1950, 1, 1, 9, 0, 0, 0, has_year_zero=False),\n",
       "       cftime.DatetimeGregorian(1951, 1, 1, 9, 0, 0, 0, has_year_zero=False),\n",
       "       cftime.DatetimeGregorian(1952, 1, 2, 9, 0, 0, 0, has_year_zero=False),\n",
       "       cftime.DatetimeGregorian(1953, 1, 1, 9, 0, 0, 0, has_year_zero=False),\n",
       "       cftime.DatetimeGregorian(1954, 1, 1, 9, 0, 0, 0, has_year_zero=False),\n",
       "       cftime.DatetimeGregorian(1955, 1, 1, 9, 0, 0, 0, has_year_zero=False),\n",
       "       cftime.DatetimeGregorian(1956, 1, 2, 9, 0, 0, 0, has_year_zero=False),\n",
       "       cftime.DatetimeGregorian(1957, 1, 1, 9, 0, 0, 0, has_year_zero=False),\n",
       "       cftime.DatetimeGregorian(1958, 1, 1, 9, 0, 0, 0, has_year_zero=False),\n",
       "       cftime.DatetimeGregorian(1959, 1, 1, 9, 0, 0, 0, has_year_zero=False),\n",
       "       cftime.DatetimeGregorian(1960, 1, 2, 9, 0, 0, 0, has_year_zero=False),\n",
       "       cftime.DatetimeGregorian(1961, 1, 1, 9, 0, 0, 0, has_year_zero=False),\n",
       "       cftime.DatetimeGregorian(1962, 1, 1, 9, 0, 0, 0, has_year_zero=False),\n",
       "       cftime.DatetimeGregorian(1963, 1, 1, 9, 0, 0, 0, has_year_zero=False),\n",
       "       cftime.DatetimeGregorian(1964, 1, 2, 9, 0, 0, 0, has_year_zero=False),\n",
       "       cftime.DatetimeGregorian(1965, 1, 1, 9, 0, 0, 0, has_year_zero=False),\n",
       "       cftime.DatetimeGregorian(1966, 1, 1, 9, 0, 0, 0, has_year_zero=False),\n",
       "       cftime.DatetimeGregorian(1967, 1, 1, 9, 0, 0, 0, has_year_zero=False),\n",
       "       cftime.DatetimeGregorian(1968, 1, 2, 9, 0, 0, 0, has_year_zero=False),\n",
       "       cftime.DatetimeGregorian(1969, 1, 1, 9, 0, 0, 0, has_year_zero=False),\n",
       "       cftime.DatetimeGregorian(1970, 1, 1, 9, 0, 0, 0, has_year_zero=False),\n",
       "       cftime.DatetimeGregorian(1971, 1, 1, 9, 0, 0, 0, has_year_zero=False),\n",
       "       cftime.DatetimeGregorian(1972, 1, 2, 9, 0, 0, 0, has_year_zero=False),\n",
       "       cftime.DatetimeGregorian(1973, 1, 1, 9, 0, 0, 0, has_year_zero=False),\n",
       "       cftime.DatetimeGregorian(1974, 1, 1, 9, 0, 0, 0, has_year_zero=False),\n",
       "       cftime.DatetimeGregorian(1975, 1, 1, 9, 0, 0, 0, has_year_zero=False),\n",
       "       cftime.DatetimeGregorian(1976, 1, 2, 9, 0, 0, 0, has_year_zero=False),\n",
       "       cftime.DatetimeGregorian(1977, 1, 1, 9, 0, 0, 0, has_year_zero=False),\n",
       "       cftime.DatetimeGregorian(1978, 1, 1, 9, 0, 0, 0, has_year_zero=False),\n",
       "       cftime.DatetimeGregorian(1979, 1, 1, 9, 0, 0, 0, has_year_zero=False),\n",
       "       cftime.DatetimeGregorian(1980, 1, 2, 9, 0, 0, 0, has_year_zero=False),\n",
       "       cftime.DatetimeGregorian(1981, 1, 1, 9, 0, 0, 0, has_year_zero=False),\n",
       "       cftime.DatetimeGregorian(1982, 1, 1, 9, 0, 0, 0, has_year_zero=False),\n",
       "       cftime.DatetimeGregorian(1983, 1, 1, 9, 0, 0, 0, has_year_zero=False),\n",
       "       cftime.DatetimeGregorian(1984, 1, 2, 9, 0, 0, 0, has_year_zero=False),\n",
       "       cftime.DatetimeGregorian(1985, 1, 1, 9, 0, 0, 0, has_year_zero=False),\n",
       "       cftime.DatetimeGregorian(1986, 1, 1, 9, 0, 0, 0, has_year_zero=False),\n",
       "       cftime.DatetimeGregorian(1987, 1, 1, 9, 0, 0, 0, has_year_zero=False),\n",
       "       cftime.DatetimeGregorian(1988, 1, 2, 9, 0, 0, 0, has_year_zero=False),\n",
       "       cftime.DatetimeGregorian(1989, 1, 1, 9, 0, 0, 0, has_year_zero=False),\n",
       "       cftime.DatetimeGregorian(1990, 1, 1, 9, 0, 0, 0, has_year_zero=False),\n",
       "       cftime.DatetimeGregorian(1991, 1, 1, 9, 0, 0, 0, has_year_zero=False),\n",
       "       cftime.DatetimeGregorian(1992, 1, 2, 9, 0, 0, 0, has_year_zero=False),\n",
       "       cftime.DatetimeGregorian(1993, 1, 1, 9, 0, 0, 0, has_year_zero=False),\n",
       "       cftime.DatetimeGregorian(1994, 1, 1, 9, 0, 0, 0, has_year_zero=False),\n",
       "       cftime.DatetimeGregorian(1995, 1, 1, 9, 0, 0, 0, has_year_zero=False),\n",
       "       cftime.DatetimeGregorian(1996, 1, 2, 9, 0, 0, 0, has_year_zero=False),\n",
       "       cftime.DatetimeGregorian(1997, 1, 1, 9, 0, 0, 0, has_year_zero=False),\n",
       "       cftime.DatetimeGregorian(1998, 1, 1, 9, 0, 0, 0, has_year_zero=False),\n",
       "       cftime.DatetimeGregorian(1999, 1, 1, 9, 0, 0, 0, has_year_zero=False),\n",
       "       cftime.DatetimeGregorian(2000, 1, 2, 9, 0, 0, 0, has_year_zero=False),\n",
       "       cftime.DatetimeGregorian(2001, 1, 1, 9, 0, 0, 0, has_year_zero=False),\n",
       "       cftime.DatetimeGregorian(2002, 1, 1, 9, 0, 0, 0, has_year_zero=False),\n",
       "       cftime.DatetimeGregorian(2003, 1, 1, 9, 0, 0, 0, has_year_zero=False),\n",
       "       cftime.DatetimeGregorian(2004, 1, 2, 9, 0, 0, 0, has_year_zero=False),\n",
       "       cftime.DatetimeGregorian(2005, 1, 1, 9, 0, 0, 0, has_year_zero=False),\n",
       "       cftime.DatetimeGregorian(2006, 1, 1, 9, 0, 0, 0, has_year_zero=False),\n",
       "       cftime.DatetimeGregorian(2007, 1, 1, 9, 0, 0, 0, has_year_zero=False),\n",
       "       cftime.DatetimeGregorian(2008, 1, 2, 9, 0, 0, 0, has_year_zero=False),\n",
       "       cftime.DatetimeGregorian(2009, 1, 1, 9, 0, 0, 0, has_year_zero=False),\n",
       "       cftime.DatetimeGregorian(2010, 1, 1, 9, 0, 0, 0, has_year_zero=False),\n",
       "       cftime.DatetimeGregorian(2011, 1, 1, 9, 0, 0, 0, has_year_zero=False),\n",
       "       cftime.DatetimeGregorian(2012, 1, 2, 9, 0, 0, 0, has_year_zero=False),\n",
       "       cftime.DatetimeGregorian(2013, 1, 1, 9, 0, 0, 0, has_year_zero=False),\n",
       "       cftime.DatetimeGregorian(2014, 1, 1, 9, 0, 0, 0, has_year_zero=False),\n",
       "       cftime.DatetimeGregorian(2015, 1, 1, 9, 0, 0, 0, has_year_zero=False),\n",
       "       cftime.DatetimeGregorian(2016, 1, 2, 9, 0, 0, 0, has_year_zero=False),\n",
       "       cftime.DatetimeGregorian(2017, 1, 1, 9, 0, 0, 0, has_year_zero=False),\n",
       "       cftime.DatetimeGregorian(2018, 1, 1, 9, 0, 0, 0, has_year_zero=False),\n",
       "       cftime.DatetimeGregorian(2019, 1, 1, 9, 0, 0, 0, has_year_zero=False),\n",
       "       cftime.DatetimeGregorian(2020, 1, 2, 9, 0, 0, 0, has_year_zero=False),\n",
       "       cftime.DatetimeGregorian(2021, 1, 1, 9, 0, 0, 0, has_year_zero=False),\n",
       "       cftime.DatetimeGregorian(2022, 1, 1, 9, 0, 0, 0, has_year_zero=False)],\n",
       "      dtype=object)</pre></div></li></ul></div></li><li class='xr-section-item'><input id='section-083b1c18-fcf0-4bba-a928-df2e8400f507' class='xr-section-summary-in' type='checkbox'  checked><label for='section-083b1c18-fcf0-4bba-a928-df2e8400f507' class='xr-section-summary' >Data variables: <span>(1)</span></label><div class='xr-section-inline-details'></div><div class='xr-section-details'><ul class='xr-var-list'><li class='xr-var-item'><div class='xr-var-name'><span>pr</span></div><div class='xr-var-dims'>(time)</div><div class='xr-var-dtype'>float32</div><div class='xr-var-preview xr-preview'>dask.array&lt;chunksize=(1,), meta=np.ndarray&gt;</div><input id='attrs-8e7897c6-95ef-41a2-9513-1d157778e2dc' class='xr-var-attrs-in' type='checkbox' ><label for='attrs-8e7897c6-95ef-41a2-9513-1d157778e2dc' title='Show/Hide attributes'><svg class='icon xr-icon-file-text2'><use xlink:href='#icon-file-text2'></use></svg></label><input id='data-33a224bf-5eb0-4e62-9996-814563977c57' class='xr-var-data-in' type='checkbox'><label for='data-33a224bf-5eb0-4e62-9996-814563977c57' title='Show/Hide data repr'><svg class='icon xr-icon-database'><use xlink:href='#icon-database'></use></svg></label><div class='xr-var-attrs'><dl class='xr-attrs'><dt><span>analysis_time :</span></dt><dd>2010-10-23 14:49:46 UTC</dd><dt><span>analysis_version_number :</span></dt><dd>3.01</dd><dt><span>cell_methods :</span></dt><dd>time: sum</dd><dt><span>frequency :</span></dt><dd>daily</dd><dt><span>length_scale_for_analysis :</span></dt><dd>80.0</dd><dt><span>long_name :</span></dt><dd>Daily precipitation</dd><dt><span>number_of_stations_reporting :</span></dt><dd>2757</dd><dt><span>source :</span></dt><dd>Interpolated surface observations</dd><dt><span>standard_name :</span></dt><dd>lwe_thickness_of_precipitation_amount</dd><dt><span>units :</span></dt><dd>mm d-1</dd></dl></div><div class='xr-var-data'><table>\n",
       "    <tr>\n",
       "        <td>\n",
       "            <table style=\"border-collapse: collapse;\">\n",
       "                <thead>\n",
       "                    <tr>\n",
       "                        <td> </td>\n",
       "                        <th> Array </th>\n",
       "                        <th> Chunk </th>\n",
       "                    </tr>\n",
       "                </thead>\n",
       "                <tbody>\n",
       "                    \n",
       "                    <tr>\n",
       "                        <th> Bytes </th>\n",
       "                        <td> 488 B </td>\n",
       "                        <td> 4 B </td>\n",
       "                    </tr>\n",
       "                    \n",
       "                    <tr>\n",
       "                        <th> Shape </th>\n",
       "                        <td> (122,) </td>\n",
       "                        <td> (1,) </td>\n",
       "                    </tr>\n",
       "                    <tr>\n",
       "                        <th> Dask graph </th>\n",
       "                        <td colspan=\"2\"> 122 chunks in 3 graph layers </td>\n",
       "                    </tr>\n",
       "                    <tr>\n",
       "                        <th> Data type </th>\n",
       "                        <td colspan=\"2\"> float32 numpy.ndarray </td>\n",
       "                    </tr>\n",
       "                </tbody>\n",
       "            </table>\n",
       "        </td>\n",
       "        <td>\n",
       "        <svg width=\"170\" height=\"75\" style=\"stroke:rgb(0,0,0);stroke-width:1\" >\n",
       "\n",
       "  <!-- Horizontal lines -->\n",
       "  <line x1=\"0\" y1=\"0\" x2=\"120\" y2=\"0\" style=\"stroke-width:2\" />\n",
       "  <line x1=\"0\" y1=\"25\" x2=\"120\" y2=\"25\" style=\"stroke-width:2\" />\n",
       "\n",
       "  <!-- Vertical lines -->\n",
       "  <line x1=\"0\" y1=\"0\" x2=\"0\" y2=\"25\" style=\"stroke-width:2\" />\n",
       "  <line x1=\"5\" y1=\"0\" x2=\"5\" y2=\"25\" />\n",
       "  <line x1=\"11\" y1=\"0\" x2=\"11\" y2=\"25\" />\n",
       "  <line x1=\"18\" y1=\"0\" x2=\"18\" y2=\"25\" />\n",
       "  <line x1=\"24\" y1=\"0\" x2=\"24\" y2=\"25\" />\n",
       "  <line x1=\"31\" y1=\"0\" x2=\"31\" y2=\"25\" />\n",
       "  <line x1=\"37\" y1=\"0\" x2=\"37\" y2=\"25\" />\n",
       "  <line x1=\"43\" y1=\"0\" x2=\"43\" y2=\"25\" />\n",
       "  <line x1=\"50\" y1=\"0\" x2=\"50\" y2=\"25\" />\n",
       "  <line x1=\"56\" y1=\"0\" x2=\"56\" y2=\"25\" />\n",
       "  <line x1=\"62\" y1=\"0\" x2=\"62\" y2=\"25\" />\n",
       "  <line x1=\"68\" y1=\"0\" x2=\"68\" y2=\"25\" />\n",
       "  <line x1=\"75\" y1=\"0\" x2=\"75\" y2=\"25\" />\n",
       "  <line x1=\"81\" y1=\"0\" x2=\"81\" y2=\"25\" />\n",
       "  <line x1=\"87\" y1=\"0\" x2=\"87\" y2=\"25\" />\n",
       "  <line x1=\"94\" y1=\"0\" x2=\"94\" y2=\"25\" />\n",
       "  <line x1=\"100\" y1=\"0\" x2=\"100\" y2=\"25\" />\n",
       "  <line x1=\"107\" y1=\"0\" x2=\"107\" y2=\"25\" />\n",
       "  <line x1=\"113\" y1=\"0\" x2=\"113\" y2=\"25\" />\n",
       "  <line x1=\"120\" y1=\"0\" x2=\"120\" y2=\"25\" style=\"stroke-width:2\" />\n",
       "\n",
       "  <!-- Colored Rectangle -->\n",
       "  <polygon points=\"0.0,0.0 120.0,0.0 120.0,25.412616514582485 0.0,25.412616514582485\" style=\"fill:#8B4903A0;stroke-width:0\"/>\n",
       "\n",
       "  <!-- Text -->\n",
       "  <text x=\"60.000000\" y=\"45.412617\" font-size=\"1.0rem\" font-weight=\"100\" text-anchor=\"middle\" >122</text>\n",
       "  <text x=\"140.000000\" y=\"12.706308\" font-size=\"1.0rem\" font-weight=\"100\" text-anchor=\"middle\" transform=\"rotate(0,140.000000,12.706308)\">1</text>\n",
       "</svg>\n",
       "        </td>\n",
       "    </tr>\n",
       "</table></div></li></ul></div></li><li class='xr-section-item'><input id='section-e43ee6db-2973-4364-a1c9-7ecc41c0d63e' class='xr-section-summary-in' type='checkbox'  ><label for='section-e43ee6db-2973-4364-a1c9-7ecc41c0d63e' class='xr-section-summary' >Indexes: <span>(1)</span></label><div class='xr-section-inline-details'></div><div class='xr-section-details'><ul class='xr-var-list'><li class='xr-var-item'><div class='xr-index-name'><div>time</div></div><div class='xr-index-preview'>PandasIndex</div><div></div><input id='index-2b3c65d7-9afc-46bf-a258-66e911d3fa40' class='xr-index-data-in' type='checkbox'/><label for='index-2b3c65d7-9afc-46bf-a258-66e911d3fa40' title='Show/Hide index repr'><svg class='icon xr-icon-database'><use xlink:href='#icon-database'></use></svg></label><div class='xr-index-data'><pre>PandasIndex(CFTimeIndex([1901-01-01 09:00:00, 1902-01-01 09:00:00, 1903-01-01 09:00:00,\n",
       "             1904-01-02 09:00:00, 1905-01-01 09:00:00, 1906-01-01 09:00:00,\n",
       "             1907-01-01 09:00:00, 1908-01-02 09:00:00, 1909-01-01 09:00:00,\n",
       "             1910-01-01 09:00:00,\n",
       "             ...\n",
       "             2013-01-01 09:00:00, 2014-01-01 09:00:00, 2015-01-01 09:00:00,\n",
       "             2016-01-02 09:00:00, 2017-01-01 09:00:00, 2018-01-01 09:00:00,\n",
       "             2019-01-01 09:00:00, 2020-01-02 09:00:00, 2021-01-01 09:00:00,\n",
       "             2022-01-01 09:00:00],\n",
       "            dtype=&#x27;object&#x27;, length=122, calendar=&#x27;standard&#x27;, freq=&#x27;None&#x27;))</pre></div></li></ul></div></li><li class='xr-section-item'><input id='section-d4e5601f-88a6-4e4a-8e1c-2f7e84e41db0' class='xr-section-summary-in' type='checkbox'  ><label for='section-d4e5601f-88a6-4e4a-8e1c-2f7e84e41db0' class='xr-section-summary' >Attributes: <span>(33)</span></label><div class='xr-section-inline-details'></div><div class='xr-section-details'><dl class='xr-attrs'><dt><span>CDI :</span></dt><dd>Climate Data Interface version ?? (http://mpimet.mpg.de/cdi)</dd><dt><span>CDO :</span></dt><dd>Climate Data Operators version 1.7.0 (http://mpimet.mpg.de/cdo)</dd><dt><span>Conventions :</span></dt><dd>CF-1.6</dd><dt><span>acknowledgment :</span></dt><dd>The Australian Government, Bureau of Meteorology; The Australian Water Availability Project; The AusCover facility of the Terrestrial Ecosystem Research Network (TERN)</dd><dt><span>analysis_components :</span></dt><dd>total: the gridded accumulation of rainfall.</dd><dt><span>bom-cmp-awap_version :</span></dt><dd>bom-cmp-awap-1.00-89.0.x86_64</dd><dt><span>bom-cmp-util_aifs2nc_version :</span></dt><dd>bom-cmp-util_aifs2nc-v1.1.0-2.x86_64</dd><dt><span>cdm_data_type :</span></dt><dd>Grid</dd><dt><span>copyright :</span></dt><dd>(C) Copyright Commonwealth of Australia 2017, Bureau of Meteorology (ABN 92637 533532), see http://www.bom.gov.au/other/copyright.shtml for terms and conditions of reuse.</dd><dt><span>data_format :</span></dt><dd>netCDF4 with zlib compression</dd><dt><span>date_created :</span></dt><dd>2017-01-17T22:13:51.976225</dd><dt><span>geospatial_lat_max :</span></dt><dd>-9.975000381469727</dd><dt><span>geospatial_lat_min :</span></dt><dd>-44.525001525878906</dd><dt><span>geospatial_lon_max :</span></dt><dd>156.27499389648438</dd><dt><span>geospatial_lon_min :</span></dt><dd>111.9749984741211</dd><dt><span>history :</span></dt><dd>Wed Apr 05 10:37:13 2023: /g/data/xv83/dbi599/miniconda3/envs/unseen-processing/bin/python3.10 /g/data/xv83/dbi599/miniconda3/envs/unseen-processing/bin/fileio /g/data/xv83/agcd-csiro/precip/daily/precip-total_AGCD-CSIRO_r005_19000101-19001231_daily.nc /g/data/xv83/agcd-csiro/precip/daily/precip-total_AGCD-CSIRO_r005_19010101-19011231_daily.nc /g/data/xv83/agcd-csiro/precip/daily/precip-total_AGCD-CSIRO_r005_19020101-19021231_daily.nc /g/data/xv83/agcd-csiro/precip/daily/precip-total_AGCD-CSIRO_r005_19030101-19031231_daily.nc /g/data/xv83/agcd-csiro/precip/daily/precip-total_AGCD-CSIRO_r005_19040101-19041231_daily.nc /g/data/xv83/agcd-csiro/precip/daily/precip-total_AGCD-CSIRO_r005_19050101-19051231_daily.nc /g/data/xv83/agcd-csiro/precip/daily/precip-total_AGCD-CSIRO_r005_19060101-19061231_daily.nc /g/data/xv83/agcd-csiro/precip/daily/precip-total_AGCD-CSIRO_r005_19070101-19071231_daily.nc /g/data/xv83/agcd-csiro/precip/daily/precip-total_AGCD-CSIRO_r005_19080101-19081231_daily.nc /g/data/xv83/agcd-csiro/precip/daily/precip-total_AGCD-CSIRO_r005_19090101-19091231_daily.nc /g/data/xv83/agcd-csiro/precip/daily/precip-total_AGCD-CSIRO_r005_19100101-19101231_daily.nc /g/data/xv83/agcd-csiro/precip/daily/precip-total_AGCD-CSIRO_r005_19110101-19111231_daily.nc /g/data/xv83/agcd-csiro/precip/daily/precip-total_AGCD-CSIRO_r005_19120101-19121231_daily.nc /g/data/xv83/agcd-csiro/precip/daily/precip-total_AGCD-CSIRO_r005_19130101-19131231_daily.nc /g/data/xv83/agcd-csiro/precip/daily/precip-total_AGCD-CSIRO_r005_19140101-19141231_daily.nc /g/data/xv83/agcd-csiro/precip/daily/precip-total_AGCD-CSIRO_r005_19150101-19151231_daily.nc /g/data/xv83/agcd-csiro/precip/daily/precip-total_AGCD-CSIRO_r005_19160101-19161231_daily.nc /g/data/xv83/agcd-csiro/precip/daily/precip-total_AGCD-CSIRO_r005_19170101-19171231_daily.nc /g/data/xv83/agcd-csiro/precip/daily/precip-total_AGCD-CSIRO_r005_19180101-19181231_daily.nc /g/data/xv83/agcd-csiro/precip/daily/precip-total_AGCD-CSIRO_r005_19190101-19191231_daily.nc /g/data/xv83/agcd-csiro/precip/daily/precip-total_AGCD-CSIRO_r005_19200101-19201231_daily.nc /g/data/xv83/agcd-csiro/precip/daily/precip-total_AGCD-CSIRO_r005_19210101-19211231_daily.nc /g/data/xv83/agcd-csiro/precip/daily/precip-total_AGCD-CSIRO_r005_19220101-19221231_daily.nc /g/data/xv83/agcd-csiro/precip/daily/precip-total_AGCD-CSIRO_r005_19230101-19231231_daily.nc /g/data/xv83/agcd-csiro/precip/daily/precip-total_AGCD-CSIRO_r005_19240101-19241231_daily.nc /g/data/xv83/agcd-csiro/precip/daily/precip-total_AGCD-CSIRO_r005_19250101-19251231_daily.nc /g/data/xv83/agcd-csiro/precip/daily/precip-total_AGCD-CSIRO_r005_19260101-19261231_daily.nc /g/data/xv83/agcd-csiro/precip/daily/precip-total_AGCD-CSIRO_r005_19270101-19271231_daily.nc /g/data/xv83/agcd-csiro/precip/daily/precip-total_AGCD-CSIRO_r005_19280101-19281231_daily.nc /g/data/xv83/agcd-csiro/precip/daily/precip-total_AGCD-CSIRO_r005_19290101-19291231_daily.nc /g/data/xv83/agcd-csiro/precip/daily/precip-total_AGCD-CSIRO_r005_19300101-19301231_daily.nc /g/data/xv83/agcd-csiro/precip/daily/precip-total_AGCD-CSIRO_r005_19310101-19311231_daily.nc /g/data/xv83/agcd-csiro/precip/daily/precip-total_AGCD-CSIRO_r005_19320101-19321231_daily.nc /g/data/xv83/agcd-csiro/precip/daily/precip-total_AGCD-CSIRO_r005_19330101-19331231_daily.nc /g/data/xv83/agcd-csiro/precip/daily/precip-total_AGCD-CSIRO_r005_19340101-19341231_daily.nc /g/data/xv83/agcd-csiro/precip/daily/precip-total_AGCD-CSIRO_r005_19350101-19351231_daily.nc /g/data/xv83/agcd-csiro/precip/daily/precip-total_AGCD-CSIRO_r005_19360101-19361231_daily.nc /g/data/xv83/agcd-csiro/precip/daily/precip-total_AGCD-CSIRO_r005_19370101-19371231_daily.nc /g/data/xv83/agcd-csiro/precip/daily/precip-total_AGCD-CSIRO_r005_19380101-19381231_daily.nc /g/data/xv83/agcd-csiro/precip/daily/precip-total_AGCD-CSIRO_r005_19390101-19391231_daily.nc /g/data/xv83/agcd-csiro/precip/daily/precip-total_AGCD-CSIRO_r005_19400101-19401231_daily.nc /g/data/xv83/agcd-csiro/precip/daily/precip-total_AGCD-CSIRO_r005_19410101-19411231_daily.nc /g/data/xv83/agcd-csiro/precip/daily/precip-total_AGCD-CSIRO_r005_19420101-19421231_daily.nc /g/data/xv83/agcd-csiro/precip/daily/precip-total_AGCD-CSIRO_r005_19430101-19431231_daily.nc /g/data/xv83/agcd-csiro/precip/daily/precip-total_AGCD-CSIRO_r005_19440101-19441231_daily.nc /g/data/xv83/agcd-csiro/precip/daily/precip-total_AGCD-CSIRO_r005_19450101-19451231_daily.nc /g/data/xv83/agcd-csiro/precip/daily/precip-total_AGCD-CSIRO_r005_19460101-19461231_daily.nc /g/data/xv83/agcd-csiro/precip/daily/precip-total_AGCD-CSIRO_r005_19470101-19471231_daily.nc /g/data/xv83/agcd-csiro/precip/daily/precip-total_AGCD-CSIRO_r005_19480101-19481231_daily.nc /g/data/xv83/agcd-csiro/precip/daily/precip-total_AGCD-CSIRO_r005_19490101-19491231_daily.nc /g/data/xv83/agcd-csiro/precip/daily/precip-total_AGCD-CSIRO_r005_19500101-19501231_daily.nc /g/data/xv83/agcd-csiro/precip/daily/precip-total_AGCD-CSIRO_r005_19510101-19511231_daily.nc /g/data/xv83/agcd-csiro/precip/daily/precip-total_AGCD-CSIRO_r005_19520101-19521231_daily.nc /g/data/xv83/agcd-csiro/precip/daily/precip-total_AGCD-CSIRO_r005_19530101-19531231_daily.nc /g/data/xv83/agcd-csiro/precip/daily/precip-total_AGCD-CSIRO_r005_19540101-19541231_daily.nc /g/data/xv83/agcd-csiro/precip/daily/precip-total_AGCD-CSIRO_r005_19550101-19551231_daily.nc /g/data/xv83/agcd-csiro/precip/daily/precip-total_AGCD-CSIRO_r005_19560101-19561231_daily.nc /g/data/xv83/agcd-csiro/precip/daily/precip-total_AGCD-CSIRO_r005_19570101-19571231_daily.nc /g/data/xv83/agcd-csiro/precip/daily/precip-total_AGCD-CSIRO_r005_19580101-19581231_daily.nc /g/data/xv83/agcd-csiro/precip/daily/precip-total_AGCD-CSIRO_r005_19590101-19591231_daily.nc /g/data/xv83/agcd-csiro/precip/daily/precip-total_AGCD-CSIRO_r005_19600101-19601231_daily.nc /g/data/xv83/agcd-csiro/precip/daily/precip-total_AGCD-CSIRO_r005_19610101-19611231_daily.nc /g/data/xv83/agcd-csiro/precip/daily/precip-total_AGCD-CSIRO_r005_19620101-19621231_daily.nc /g/data/xv83/agcd-csiro/precip/daily/precip-total_AGCD-CSIRO_r005_19630101-19631231_daily.nc /g/data/xv83/agcd-csiro/precip/daily/precip-total_AGCD-CSIRO_r005_19640101-19641231_daily.nc /g/data/xv83/agcd-csiro/precip/daily/precip-total_AGCD-CSIRO_r005_19650101-19651231_daily.nc /g/data/xv83/agcd-csiro/precip/daily/precip-total_AGCD-CSIRO_r005_19660101-19661231_daily.nc /g/data/xv83/agcd-csiro/precip/daily/precip-total_AGCD-CSIRO_r005_19670101-19671231_daily.nc /g/data/xv83/agcd-csiro/precip/daily/precip-total_AGCD-CSIRO_r005_19680101-19681231_daily.nc /g/data/xv83/agcd-csiro/precip/daily/precip-total_AGCD-CSIRO_r005_19690101-19691231_daily.nc /g/data/xv83/agcd-csiro/precip/daily/precip-total_AGCD-CSIRO_r005_19700101-19701231_daily.nc /g/data/xv83/agcd-csiro/precip/daily/precip-total_AGCD-CSIRO_r005_19710101-19711231_daily.nc /g/data/xv83/agcd-csiro/precip/daily/precip-total_AGCD-CSIRO_r005_19720101-19721231_daily.nc /g/data/xv83/agcd-csiro/precip/daily/precip-total_AGCD-CSIRO_r005_19730101-19731231_daily.nc /g/data/xv83/agcd-csiro/precip/daily/precip-total_AGCD-CSIRO_r005_19740101-19741231_daily.nc /g/data/xv83/agcd-csiro/precip/daily/precip-total_AGCD-CSIRO_r005_19750101-19751231_daily.nc /g/data/xv83/agcd-csiro/precip/daily/precip-total_AGCD-CSIRO_r005_19760101-19761231_daily.nc /g/data/xv83/agcd-csiro/precip/daily/precip-total_AGCD-CSIRO_r005_19770101-19771231_daily.nc /g/data/xv83/agcd-csiro/precip/daily/precip-total_AGCD-CSIRO_r005_19780101-19781231_daily.nc /g/data/xv83/agcd-csiro/precip/daily/precip-total_AGCD-CSIRO_r005_19790101-19791231_daily.nc /g/data/xv83/agcd-csiro/precip/daily/precip-total_AGCD-CSIRO_r005_19800101-19801231_daily.nc /g/data/xv83/agcd-csiro/precip/daily/precip-total_AGCD-CSIRO_r005_19810101-19811231_daily.nc /g/data/xv83/agcd-csiro/precip/daily/precip-total_AGCD-CSIRO_r005_19820101-19821231_daily.nc /g/data/xv83/agcd-csiro/precip/daily/precip-total_AGCD-CSIRO_r005_19830101-19831231_daily.nc /g/data/xv83/agcd-csiro/precip/daily/precip-total_AGCD-CSIRO_r005_19840101-19841231_daily.nc /g/data/xv83/agcd-csiro/precip/daily/precip-total_AGCD-CSIRO_r005_19850101-19851231_daily.nc /g/data/xv83/agcd-csiro/precip/daily/precip-total_AGCD-CSIRO_r005_19860101-19861231_daily.nc /g/data/xv83/agcd-csiro/precip/daily/precip-total_AGCD-CSIRO_r005_19870101-19871231_daily.nc /g/data/xv83/agcd-csiro/precip/daily/precip-total_AGCD-CSIRO_r005_19880101-19881231_daily.nc /g/data/xv83/agcd-csiro/precip/daily/precip-total_AGCD-CSIRO_r005_19890101-19891231_daily.nc /g/data/xv83/agcd-csiro/precip/daily/precip-total_AGCD-CSIRO_r005_19900101-19901231_daily.nc /g/data/xv83/agcd-csiro/precip/daily/precip-total_AGCD-CSIRO_r005_19910101-19911231_daily.nc /g/data/xv83/agcd-csiro/precip/daily/precip-total_AGCD-CSIRO_r005_19920101-19921231_daily.nc /g/data/xv83/agcd-csiro/precip/daily/precip-total_AGCD-CSIRO_r005_19930101-19931231_daily.nc /g/data/xv83/agcd-csiro/precip/daily/precip-total_AGCD-CSIRO_r005_19940101-19941231_daily.nc /g/data/xv83/agcd-csiro/precip/daily/precip-total_AGCD-CSIRO_r005_19950101-19951231_daily.nc /g/data/xv83/agcd-csiro/precip/daily/precip-total_AGCD-CSIRO_r005_19960101-19961231_daily.nc /g/data/xv83/agcd-csiro/precip/daily/precip-total_AGCD-CSIRO_r005_19970101-19971231_daily.nc /g/data/xv83/agcd-csiro/precip/daily/precip-total_AGCD-CSIRO_r005_19980101-19981231_daily.nc /g/data/xv83/agcd-csiro/precip/daily/precip-total_AGCD-CSIRO_r005_19990101-19991231_daily.nc /g/data/xv83/agcd-csiro/precip/daily/precip-total_AGCD-CSIRO_r005_20000101-20001231_daily.nc /g/data/xv83/agcd-csiro/precip/daily/precip-total_AGCD-CSIRO_r005_20010101-20011231_daily.nc /g/data/xv83/agcd-csiro/precip/daily/precip-total_AGCD-CSIRO_r005_20020101-20021231_daily.nc /g/data/xv83/agcd-csiro/precip/daily/precip-total_AGCD-CSIRO_r005_20030101-20031231_daily.nc /g/data/xv83/agcd-csiro/precip/daily/precip-total_AGCD-CSIRO_r005_20040101-20041231_daily.nc /g/data/xv83/agcd-csiro/precip/daily/precip-total_AGCD-CSIRO_r005_20050101-20051231_daily.nc /g/data/xv83/agcd-csiro/precip/daily/precip-total_AGCD-CSIRO_r005_20060101-20061231_daily.nc /g/data/xv83/agcd-csiro/precip/daily/precip-total_AGCD-CSIRO_r005_20070101-20071231_daily.nc /g/data/xv83/agcd-csiro/precip/daily/precip-total_AGCD-CSIRO_r005_20080101-20081231_daily.nc /g/data/xv83/agcd-csiro/precip/daily/precip-total_AGCD-CSIRO_r005_20090101-20091231_daily.nc /g/data/xv83/agcd-csiro/precip/daily/precip-total_AGCD-CSIRO_r005_20100101-20101231_daily.nc /g/data/xv83/agcd-csiro/precip/daily/precip-total_AGCD-CSIRO_r005_20110101-20111231_daily.nc /g/data/xv83/agcd-csiro/precip/daily/precip-total_AGCD-CSIRO_r005_20120101-20121231_daily.nc /g/data/xv83/agcd-csiro/precip/daily/precip-total_AGCD-CSIRO_r005_20130101-20131231_daily.nc /g/data/xv83/agcd-csiro/precip/daily/precip-total_AGCD-CSIRO_r005_20140101-20141231_daily.nc /g/data/xv83/agcd-csiro/precip/daily/precip-total_AGCD-CSIRO_r005_20150101-20151231_daily.nc /g/data/xv83/agcd-csiro/precip/daily/precip-total_AGCD-CSIRO_r005_20160101-20161231_daily.nc /g/data/xv83/agcd-csiro/precip/daily/precip-total_AGCD-CSIRO_r005_20170101-20171231_daily.nc /g/data/xv83/agcd-csiro/precip/daily/precip-total_AGCD-CSIRO_r005_20180101-20181231_daily.nc /g/data/xv83/agcd-csiro/precip/daily/precip-total_AGCD-CSIRO_r005_20190101-20191231_daily.nc /g/data/xv83/agcd-csiro/precip/daily/precip-total_AGCD-CSIRO_r005_20200101-20201231_daily.nc /g/data/xv83/agcd-csiro/precip/daily/precip-total_AGCD-CSIRO_r005_20210101-20211231_daily.nc /g/data/xv83/agcd-csiro/precip/daily/precip-total_AGCD-CSIRO_r005_20220101-20221231_daily.nc /g/data/xv83/dbi599/hydrotas/data/Rx15day_AGCD-CSIRO_r005_1900-2022_annual_hydro-tas.zarr.zip --variables pr --spatial_agg weighted_mean --rolling_sum_window 14 --shapefile /home/599/dbi599/hydrotas/shapefiles/hydro-combined.shp --time_freq A-DEC --time_agg max --input_freq D --units_timing middle --reset_times --complete_time_agg_periods --dask_config dask_local.yml --verbose --time_agg_dates --units pr=mm day-1 --metadata_file /home/599/dbi599/unseen/config/dataset_agcd_daily.yml (git@github.com:DamienIrving/hydrotas)</dd><dt><span>id :</span></dt><dd>Australian Gridded Climate Data (AGCD)</dd><dt><span>institution :</span></dt><dd>Australian Bureau of Meteorology, GPO Box 1289, Melbourne VIC 3001, Australia</dd><dt><span>keywords :</span></dt><dd>Earth Science, Atmosphere, Precipitation, Precipitation Amount, Liquid Water Equivalent</dd><dt><span>keywords_reference :</span></dt><dd>Global Change Master Directory (GCMD). 2015. GCMD Keywords, Version 8.1. Greenbelt, MD: Global Change Data Center, Science and Exploration Directorate, Goddard Space Flight Center (GSFC) National Aeronautics and Space Administration (NASA). URL:http://gcmd.nasa.gov/learn/keywords.html</dd><dt><span>keywords_vocabulary :</span></dt><dd>GCMD Science Keywords, Version 8.1</dd><dt><span>licence :</span></dt><dd>Copyright for any data supplied by the Bureau of Meteorology is held in the Commonwealth of Australia and the purchaser shall give acknowledgement of the source in reference to the data. Apart from dealings under the Copyright Act 1968, the purchaser shall not reproduce (electronically or otherwise), modify or supply (by sale or otherwise) these data without written permission from the supplier.</dd><dt><span>naming_authority :</span></dt><dd>au.gov.bom</dd><dt><span>netcdf_version :</span></dt><dd>4.3.0 of Jul 16 2013 05:46:56 $</dd><dt><span>original_AIFS_header :</span></dt><dd>SOUTHWEST_LATITUDE: 44.5, SOUTHWEST_LONGITUDE: 112.0, NUMBER_OF_LONGITUDES_IN_GRID: 886, RAINFALL_ANALYSIS: 1900010119000101, LENGTH_SCALE_FOR_ANALYSIS: 80.0, BUREAU_OF_METEOROLOGY, NUMBER_OF_LATITUDES_IN_GRID: 691, GRID_INCREMENT_OF_LONGITUDE: 0.05, GRID_INCREMENT_OF_LATITUDE: 0.05, ROW_CHANGES_WITH_LONGITUDE, NUMBER_OF_STATIONS_REPORTING: 2757, ANALYSIS_TIME: 2010-10-23 14:49:46 UTC, COLUMN_NUMBER_AT_SOUTHWEST_CORNER: 1, ROW_NUMBER_AT_SOUTHWEST_CORNER: 1, ANALYSIS_VERSION_NUMBER: 3.01, LATITUDE_-_LONGITUDE_GRID</dd><dt><span>references :</span></dt><dd>http://www.bom.gov.au/amm/docs/2009/jones_hres.pdf; http://www.csiro.au/awap; http://www.cawcr.gov.au/technical-reports/CTR_013.pdf</dd><dt><span>standard_name_vocabulary :</span></dt><dd>CF Standard Names, v28</dd><dt><span>summary :</span></dt><dd>The daily and monthly rainfall data represents the amount of precipitation of any type (including the liquid equivalent of frozen hydrometeors such as hail and snow) observed by means of rain gauges stationed across Australia. These gauges measure millimetres of liquid water depth over a 24-hour period running from 9am local clock time the previous day to 9am on the observed day. Rainfall data from up to 6500 sites across the country are analysed, with limited quality control, onto 0.05x0.05 degree grids using the technique described in Jones et al. (2009). Monthly rainfall totals are calculated from the accumulation of the contributing daily rainfall totals, and may incorporate multi-day rainfall totals if observations were missing on any one day. Weekly rainfall totals are calculated from the sum of the daily grids. Multi-month rainfall totals are calculated from the sum of monthly grids. Month-to-date and Year-to-date rainfall grids are calculated from the sum of the contributing monthly and daily grids. </dd><dt><span>time_coverage_end :</span></dt><dd>1900-01-01T09:00:00</dd><dt><span>time_coverage_start :</span></dt><dd>1899-12-31T09:00:00</dd><dt><span>title :</span></dt><dd>Interpolated Rain Gauge Precipitation</dd><dt><span>url :</span></dt><dd>http://www.bom.gov.au/climate/</dd><dt><span>uuid :</span></dt><dd>14333ae2-28fe-4cb6-9f00-677adc94f25e</dd></dl></div></li></ul></div></div>"
      ],
      "text/plain": [
       "<xarray.Dataset>\n",
       "Dimensions:     (time: 122)\n",
       "Coordinates:\n",
       "    event_time  (time) <U28 dask.array<chunksize=(122,), meta=np.ndarray>\n",
       "  * time        (time) object 1901-01-01 09:00:00 ... 2022-01-01 09:00:00\n",
       "Data variables:\n",
       "    pr          (time) float32 dask.array<chunksize=(1,), meta=np.ndarray>\n",
       "Attributes: (12/33)\n",
       "    CDI:                           Climate Data Interface version ?? (http://...\n",
       "    CDO:                           Climate Data Operators version 1.7.0 (http...\n",
       "    Conventions:                   CF-1.6\n",
       "    acknowledgment:                The Australian Government, Bureau of Meteo...\n",
       "    analysis_components:           total: the gridded accumulation of rainfall.\n",
       "    bom-cmp-awap_version:          bom-cmp-awap-1.00-89.0.x86_64\n",
       "    ...                            ...\n",
       "    summary:                       The daily and monthly rainfall data repres...\n",
       "    time_coverage_end:             1900-01-01T09:00:00\n",
       "    time_coverage_start:           1899-12-31T09:00:00\n",
       "    title:                         Interpolated Rain Gauge Precipitation\n",
       "    url:                           http://www.bom.gov.au/climate/\n",
       "    uuid:                          14333ae2-28fe-4cb6-9f00-677adc94f25e"
      ]
     },
     "execution_count": 10,
     "metadata": {},
     "output_type": "execute_result"
    }
   ],
   "source": [
    "agcd_ds"
   ]
  },
  {
   "cell_type": "code",
   "execution_count": 11,
   "id": "9c701895",
   "metadata": {
    "execution": {
     "iopub.execute_input": "2023-04-05T03:38:34.438127Z",
     "iopub.status.busy": "2023-04-05T03:38:34.437449Z",
     "iopub.status.idle": "2023-04-05T03:38:34.635721Z",
     "shell.execute_reply": "2023-04-05T03:38:34.634241Z"
    },
    "papermill": {
     "duration": 0.218106,
     "end_time": "2023-04-05T03:38:34.639251",
     "exception": false,
     "start_time": "2023-04-05T03:38:34.421145",
     "status": "completed"
    },
    "tags": []
   },
   "outputs": [],
   "source": [
    "years = agcd_ds['time'].dt.year.values\n",
    "agcd_df = pd.DataFrame(index=years)\n",
    "agcd_df['pr'] = agcd_ds['pr'].values"
   ]
  },
  {
   "cell_type": "code",
   "execution_count": 12,
   "id": "c8bfcbcf",
   "metadata": {
    "execution": {
     "iopub.execute_input": "2023-04-05T03:38:34.692822Z",
     "iopub.status.busy": "2023-04-05T03:38:34.692150Z",
     "iopub.status.idle": "2023-04-05T03:38:34.879304Z",
     "shell.execute_reply": "2023-04-05T03:38:34.877781Z"
    },
    "papermill": {
     "duration": 0.2162,
     "end_time": "2023-04-05T03:38:34.882852",
     "exception": false,
     "start_time": "2023-04-05T03:38:34.666652",
     "status": "completed"
    },
    "tags": []
   },
   "outputs": [
    {
     "name": "stdout",
     "output_type": "stream",
     "text": [
      "277.08005\n"
     ]
    }
   ],
   "source": [
    "prmax = agcd_ds['pr'].values.max()\n",
    "print(prmax)"
   ]
  },
  {
   "cell_type": "markdown",
   "id": "d082e6af",
   "metadata": {
    "papermill": {
     "duration": 0.015528,
     "end_time": "2023-04-05T03:38:34.923854",
     "exception": false,
     "start_time": "2023-04-05T03:38:34.908326",
     "status": "completed"
    },
    "tags": []
   },
   "source": [
    "## Model ensemble"
   ]
  },
  {
   "cell_type": "markdown",
   "id": "f127f972",
   "metadata": {
    "papermill": {
     "duration": 0.011331,
     "end_time": "2023-04-05T03:38:34.947426",
     "exception": false,
     "start_time": "2023-04-05T03:38:34.936095",
     "status": "completed"
    },
    "tags": []
   },
   "source": [
    "### Region selection"
   ]
  },
  {
   "cell_type": "code",
   "execution_count": 13,
   "id": "0c5bfc47",
   "metadata": {
    "execution": {
     "iopub.execute_input": "2023-04-05T03:38:34.973484Z",
     "iopub.status.busy": "2023-04-05T03:38:34.972956Z",
     "iopub.status.idle": "2023-04-05T03:38:34.994721Z",
     "shell.execute_reply": "2023-04-05T03:38:34.993242Z"
    },
    "papermill": {
     "duration": 0.039224,
     "end_time": "2023-04-05T03:38:34.998233",
     "exception": false,
     "start_time": "2023-04-05T03:38:34.959009",
     "status": "completed"
    },
    "tags": []
   },
   "outputs": [],
   "source": [
    "with open(file_list) as f:\n",
    "    all_files = f.read()\n",
    "    first_file = all_files.split('\\n', 1)[0]"
   ]
  },
  {
   "cell_type": "code",
   "execution_count": 14,
   "id": "9de3847d",
   "metadata": {
    "execution": {
     "iopub.execute_input": "2023-04-05T03:38:35.051201Z",
     "iopub.status.busy": "2023-04-05T03:38:35.050544Z",
     "iopub.status.idle": "2023-04-05T03:38:35.058878Z",
     "shell.execute_reply": "2023-04-05T03:38:35.057664Z"
    },
    "papermill": {
     "duration": 0.032675,
     "end_time": "2023-04-05T03:38:35.060881",
     "exception": false,
     "start_time": "2023-04-05T03:38:35.028206",
     "status": "completed"
    },
    "tags": []
   },
   "outputs": [
    {
     "data": {
      "text/plain": [
       "'/g/data/xv83/dcfp/CAFE-f6/c5-d60-pX-f6-19950501/atmos_isobaric_daily.zarr.zip'"
      ]
     },
     "execution_count": 14,
     "metadata": {},
     "output_type": "execute_result"
    }
   ],
   "source": [
    "first_file"
   ]
  },
  {
   "cell_type": "code",
   "execution_count": 15,
   "id": "d218574b",
   "metadata": {
    "execution": {
     "iopub.execute_input": "2023-04-05T03:38:35.092725Z",
     "iopub.status.busy": "2023-04-05T03:38:35.092071Z",
     "iopub.status.idle": "2023-04-05T03:38:35.198261Z",
     "shell.execute_reply": "2023-04-05T03:38:35.197268Z"
    },
    "papermill": {
     "duration": 0.121279,
     "end_time": "2023-04-05T03:38:35.199757",
     "exception": false,
     "start_time": "2023-04-05T03:38:35.078478",
     "status": "completed"
    },
    "tags": []
   },
   "outputs": [],
   "source": [
    "shapes = gp.read_file(shape_file)"
   ]
  },
  {
   "cell_type": "code",
   "execution_count": 16,
   "id": "6b9e6200",
   "metadata": {
    "execution": {
     "iopub.execute_input": "2023-04-05T03:38:35.225913Z",
     "iopub.status.busy": "2023-04-05T03:38:35.225554Z",
     "iopub.status.idle": "2023-04-05T03:38:35.230328Z",
     "shell.execute_reply": "2023-04-05T03:38:35.229281Z"
    },
    "papermill": {
     "duration": 0.019537,
     "end_time": "2023-04-05T03:38:35.231574",
     "exception": false,
     "start_time": "2023-04-05T03:38:35.212037",
     "status": "completed"
    },
    "tags": []
   },
   "outputs": [],
   "source": [
    "isel_dict = {}\n",
    "if model_name == 'CAFE':\n",
    "    isel_dict['ensemble'] = 0\n",
    "    metadata_file = '/home/599/dbi599/unseen/config/dataset_cafe_daily.yml'\n",
    "else:\n",
    "    metadata_file = None"
   ]
  },
  {
   "cell_type": "code",
   "execution_count": 17,
   "id": "3c232f49",
   "metadata": {
    "execution": {
     "iopub.execute_input": "2023-04-05T03:38:35.267902Z",
     "iopub.status.busy": "2023-04-05T03:38:35.267512Z",
     "iopub.status.idle": "2023-04-05T03:38:40.157516Z",
     "shell.execute_reply": "2023-04-05T03:38:40.156448Z"
    },
    "papermill": {
     "duration": 4.914826,
     "end_time": "2023-04-05T03:38:40.161065",
     "exception": true,
     "start_time": "2023-04-05T03:38:35.246239",
     "status": "failed"
    },
    "tags": []
   },
   "outputs": [],
   "source": [
    "region_ds = fileio.open_dataset(\n",
    "    first_file,\n",
    "    metadata_file=metadata_file,\n",
    "    variables=['pr'],\n",
    "    lat_bnds=[-47, -37],\n",
    "    lon_bnds=[141, 152],\n",
    "    shapefile=shape_file,\n",
    "    shape_overlap=0.05,\n",
    "    units={'pr': 'mm day-1'},\n",
    "    isel=isel_dict,\n",
    ")"
   ]
  },
  {
   "cell_type": "code",
   "execution_count": 18,
   "id": "0eba243a",
   "metadata": {
    "execution": {
     "iopub.execute_input": "2023-01-30T08:12:13.965497Z",
     "iopub.status.busy": "2023-01-30T08:12:13.965157Z",
     "iopub.status.idle": "2023-01-30T08:12:15.708404Z",
     "shell.execute_reply": "2023-01-30T08:12:15.709288Z"
    },
    "papermill": {
     "duration": null,
     "end_time": null,
     "exception": null,
     "start_time": null,
     "status": "pending"
    },
    "tags": []
   },
   "outputs": [
    {
     "data": {
      "image/png": "[encoded data removed]",
      "text/plain": [
       "<Figure size 1200x800 with 2 Axes>"
      ]
     },
     "metadata": {},
     "output_type": "display_data"
    }
   ],
   "source": [
    "fig = plt.figure(figsize=[12,8])\n",
    "ax = fig.add_subplot(111, projection=ccrs.PlateCarree())\n",
    "region_ds['pr'].mean('time', keep_attrs=True).plot(\n",
    "    ax=ax,\n",
    "    transform=ccrs.PlateCarree(),\n",
    "    cmap='viridis_r',\n",
    ")\n",
    "ax.coastlines()\n",
    "ax.add_feature(cartopy.feature.STATES)\n",
    "ax.add_geometries(shapes.geometry, ccrs.PlateCarree(), facecolor='none', edgecolor='orange')\n",
    "plt.show()"
   ]
  },
  {
   "cell_type": "markdown",
   "id": "146854fe",
   "metadata": {
    "papermill": {
     "duration": null,
     "end_time": null,
     "exception": null,
     "start_time": null,
     "status": "pending"
    },
    "tags": []
   },
   "source": [
    "### Model data"
   ]
  },
  {
   "cell_type": "code",
   "execution_count": 19,
   "id": "1620b927",
   "metadata": {
    "execution": {
     "iopub.execute_input": "2023-01-30T08:12:15.817162Z",
     "iopub.status.busy": "2023-01-30T08:12:15.816844Z",
     "iopub.status.idle": "2023-01-30T08:12:15.843104Z",
     "shell.execute_reply": "2023-01-30T08:12:15.842738Z"
    },
    "papermill": {
     "duration": null,
     "end_time": null,
     "exception": null,
     "start_time": null,
     "status": "pending"
    },
    "tags": []
   },
   "outputs": [],
   "source": [
    "model_ds = fileio.open_dataset(model_file)\n",
    "model_add_bc_ds = fileio.open_dataset(model_add_bc_file)\n",
    "model_mulc_bc_ds = fileio.open_dataset(model_mulc_bc_file)"
   ]
  },
  {
   "cell_type": "code",
   "execution_count": 20,
   "id": "b3d4100a",
   "metadata": {
    "execution": {
     "iopub.execute_input": "2023-01-30T08:12:15.910263Z",
     "iopub.status.busy": "2023-01-30T08:12:15.908749Z",
     "iopub.status.idle": "2023-01-30T08:12:15.913791Z",
     "shell.execute_reply": "2023-01-30T08:12:15.913441Z"
    },
    "papermill": {
     "duration": null,
     "end_time": null,
     "exception": null,
     "start_time": null,
     "status": "pending"
    },
    "tags": []
   },
   "outputs": [
    {
     "data": {
      "text/html": [
       "<div><svg style=\"position: absolute; width: 0; height: 0; overflow: hidden\">\n",
       "<defs>\n",
       "<symbol id=\"icon-database\" viewBox=\"0 0 32 32\">\n",
       "<path d=\"M16 0c-8.837 0-16 2.239-16 5v4c0 2.761 7.163 5 16 5s16-2.239 16-5v-4c0-2.761-7.163-5-16-5z\"></path>\n",
       "<path d=\"M16 17c-8.837 0-16-2.239-16-5v6c0 2.761 7.163 5 16 5s16-2.239 16-5v-6c0 2.761-7.163 5-16 5z\"></path>\n",
       "<path d=\"M16 26c-8.837 0-16-2.239-16-5v6c0 2.761 7.163 5 16 5s16-2.239 16-5v-6c0 2.761-7.163 5-16 5z\"></path>\n",
       "</symbol>\n",
       "<symbol id=\"icon-file-text2\" viewBox=\"0 0 32 32\">\n",
       "<path d=\"M28.681 7.159c-0.694-0.947-1.662-2.053-2.724-3.116s-2.169-2.030-3.116-2.724c-1.612-1.182-2.393-1.319-2.841-1.319h-15.5c-1.378 0-2.5 1.121-2.5 2.5v27c0 1.378 1.122 2.5 2.5 2.5h23c1.378 0 2.5-1.122 2.5-2.5v-19.5c0-0.448-0.137-1.23-1.319-2.841zM24.543 5.457c0.959 0.959 1.712 1.825 2.268 2.543h-4.811v-4.811c0.718 0.556 1.584 1.309 2.543 2.268zM28 29.5c0 0.271-0.229 0.5-0.5 0.5h-23c-0.271 0-0.5-0.229-0.5-0.5v-27c0-0.271 0.229-0.5 0.5-0.5 0 0 15.499-0 15.5 0v7c0 0.552 0.448 1 1 1h7v19.5z\"></path>\n",
       "<path d=\"M23 26h-14c-0.552 0-1-0.448-1-1s0.448-1 1-1h14c0.552 0 1 0.448 1 1s-0.448 1-1 1z\"></path>\n",
       "<path d=\"M23 22h-14c-0.552 0-1-0.448-1-1s0.448-1 1-1h14c0.552 0 1 0.448 1 1s-0.448 1-1 1z\"></path>\n",
       "<path d=\"M23 18h-14c-0.552 0-1-0.448-1-1s0.448-1 1-1h14c0.552 0 1 0.448 1 1s-0.448 1-1 1z\"></path>\n",
       "</symbol>\n",
       "</defs>\n",
       "</svg>\n",
       "<style>/* CSS stylesheet for displaying xarray objects in jupyterlab.\n",
       " *\n",
       " */\n",
       "\n",
       ":root {\n",
       "  --xr-font-color0: var(--jp-content-font-color0, rgba(0, 0, 0, 1));\n",
       "  --xr-font-color2: var(--jp-content-font-color2, rgba(0, 0, 0, 0.54));\n",
       "  --xr-font-color3: var(--jp-content-font-color3, rgba(0, 0, 0, 0.38));\n",
       "  --xr-border-color: var(--jp-border-color2, #e0e0e0);\n",
       "  --xr-disabled-color: var(--jp-layout-color3, #bdbdbd);\n",
       "  --xr-background-color: var(--jp-layout-color0, white);\n",
       "  --xr-background-color-row-even: var(--jp-layout-color1, white);\n",
       "  --xr-background-color-row-odd: var(--jp-layout-color2, #eeeeee);\n",
       "}\n",
       "\n",
       "html[theme=dark],\n",
       "body[data-theme=dark],\n",
       "body.vscode-dark {\n",
       "  --xr-font-color0: rgba(255, 255, 255, 1);\n",
       "  --xr-font-color2: rgba(255, 255, 255, 0.54);\n",
       "  --xr-font-color3: rgba(255, 255, 255, 0.38);\n",
       "  --xr-border-color: #1F1F1F;\n",
       "  --xr-disabled-color: #515151;\n",
       "  --xr-background-color: #111111;\n",
       "  --xr-background-color-row-even: #111111;\n",
       "  --xr-background-color-row-odd: #313131;\n",
       "}\n",
       "\n",
       ".xr-wrap {\n",
       "  display: block !important;\n",
       "  min-width: 300px;\n",
       "  max-width: 700px;\n",
       "}\n",
       "\n",
       ".xr-text-repr-fallback {\n",
       "  /* fallback to plain text repr when CSS is not injected (untrusted notebook) */\n",
       "  display: none;\n",
       "}\n",
       "\n",
       ".xr-header {\n",
       "  padding-top: 6px;\n",
       "  padding-bottom: 6px;\n",
       "  margin-bottom: 4px;\n",
       "  border-bottom: solid 1px var(--xr-border-color);\n",
       "}\n",
       "\n",
       ".xr-header > div,\n",
       ".xr-header > ul {\n",
       "  display: inline;\n",
       "  margin-top: 0;\n",
       "  margin-bottom: 0;\n",
       "}\n",
       "\n",
       ".xr-obj-type,\n",
       ".xr-array-name {\n",
       "  margin-left: 2px;\n",
       "  margin-right: 10px;\n",
       "}\n",
       "\n",
       ".xr-obj-type {\n",
       "  color: var(--xr-font-color2);\n",
       "}\n",
       "\n",
       ".xr-sections {\n",
       "  padding-left: 0 !important;\n",
       "  display: grid;\n",
       "  grid-template-columns: 150px auto auto 1fr 20px 20px;\n",
       "}\n",
       "\n",
       ".xr-section-item {\n",
       "  display: contents;\n",
       "}\n",
       "\n",
       ".xr-section-item input {\n",
       "  display: none;\n",
       "}\n",
       "\n",
       ".xr-section-item input + label {\n",
       "  color: var(--xr-disabled-color);\n",
       "}\n",
       "\n",
       ".xr-section-item input:enabled + label {\n",
       "  cursor: pointer;\n",
       "  color: var(--xr-font-color2);\n",
       "}\n",
       "\n",
       ".xr-section-item input:enabled + label:hover {\n",
       "  color: var(--xr-font-color0);\n",
       "}\n",
       "\n",
       ".xr-section-summary {\n",
       "  grid-column: 1;\n",
       "  color: var(--xr-font-color2);\n",
       "  font-weight: 500;\n",
       "}\n",
       "\n",
       ".xr-section-summary > span {\n",
       "  display: inline-block;\n",
       "  padding-left: 0.5em;\n",
       "}\n",
       "\n",
       ".xr-section-summary-in:disabled + label {\n",
       "  color: var(--xr-font-color2);\n",
       "}\n",
       "\n",
       ".xr-section-summary-in + label:before {\n",
       "  display: inline-block;\n",
       "  content: '►';\n",
       "  font-size: 11px;\n",
       "  width: 15px;\n",
       "  text-align: center;\n",
       "}\n",
       "\n",
       ".xr-section-summary-in:disabled + label:before {\n",
       "  color: var(--xr-disabled-color);\n",
       "}\n",
       "\n",
       ".xr-section-summary-in:checked + label:before {\n",
       "  content: '▼';\n",
       "}\n",
       "\n",
       ".xr-section-summary-in:checked + label > span {\n",
       "  display: none;\n",
       "}\n",
       "\n",
       ".xr-section-summary,\n",
       ".xr-section-inline-details {\n",
       "  padding-top: 4px;\n",
       "  padding-bottom: 4px;\n",
       "}\n",
       "\n",
       ".xr-section-inline-details {\n",
       "  grid-column: 2 / -1;\n",
       "}\n",
       "\n",
       ".xr-section-details {\n",
       "  display: none;\n",
       "  grid-column: 1 / -1;\n",
       "  margin-bottom: 5px;\n",
       "}\n",
       "\n",
       ".xr-section-summary-in:checked ~ .xr-section-details {\n",
       "  display: contents;\n",
       "}\n",
       "\n",
       ".xr-array-wrap {\n",
       "  grid-column: 1 / -1;\n",
       "  display: grid;\n",
       "  grid-template-columns: 20px auto;\n",
       "}\n",
       "\n",
       ".xr-array-wrap > label {\n",
       "  grid-column: 1;\n",
       "  vertical-align: top;\n",
       "}\n",
       "\n",
       ".xr-preview {\n",
       "  color: var(--xr-font-color3);\n",
       "}\n",
       "\n",
       ".xr-array-preview,\n",
       ".xr-array-data {\n",
       "  padding: 0 5px !important;\n",
       "  grid-column: 2;\n",
       "}\n",
       "\n",
       ".xr-array-data,\n",
       ".xr-array-in:checked ~ .xr-array-preview {\n",
       "  display: none;\n",
       "}\n",
       "\n",
       ".xr-array-in:checked ~ .xr-array-data,\n",
       ".xr-array-preview {\n",
       "  display: inline-block;\n",
       "}\n",
       "\n",
       ".xr-dim-list {\n",
       "  display: inline-block !important;\n",
       "  list-style: none;\n",
       "  padding: 0 !important;\n",
       "  margin: 0;\n",
       "}\n",
       "\n",
       ".xr-dim-list li {\n",
       "  display: inline-block;\n",
       "  padding: 0;\n",
       "  margin: 0;\n",
       "}\n",
       "\n",
       ".xr-dim-list:before {\n",
       "  content: '(';\n",
       "}\n",
       "\n",
       ".xr-dim-list:after {\n",
       "  content: ')';\n",
       "}\n",
       "\n",
       ".xr-dim-list li:not(:last-child):after {\n",
       "  content: ',';\n",
       "  padding-right: 5px;\n",
       "}\n",
       "\n",
       ".xr-has-index {\n",
       "  font-weight: bold;\n",
       "}\n",
       "\n",
       ".xr-var-list,\n",
       ".xr-var-item {\n",
       "  display: contents;\n",
       "}\n",
       "\n",
       ".xr-var-item > div,\n",
       ".xr-var-item label,\n",
       ".xr-var-item > .xr-var-name span {\n",
       "  background-color: var(--xr-background-color-row-even);\n",
       "  margin-bottom: 0;\n",
       "}\n",
       "\n",
       ".xr-var-item > .xr-var-name:hover span {\n",
       "  padding-right: 5px;\n",
       "}\n",
       "\n",
       ".xr-var-list > li:nth-child(odd) > div,\n",
       ".xr-var-list > li:nth-child(odd) > label,\n",
       ".xr-var-list > li:nth-child(odd) > .xr-var-name span {\n",
       "  background-color: var(--xr-background-color-row-odd);\n",
       "}\n",
       "\n",
       ".xr-var-name {\n",
       "  grid-column: 1;\n",
       "}\n",
       "\n",
       ".xr-var-dims {\n",
       "  grid-column: 2;\n",
       "}\n",
       "\n",
       ".xr-var-dtype {\n",
       "  grid-column: 3;\n",
       "  text-align: right;\n",
       "  color: var(--xr-font-color2);\n",
       "}\n",
       "\n",
       ".xr-var-preview {\n",
       "  grid-column: 4;\n",
       "}\n",
       "\n",
       ".xr-index-preview {\n",
       "  grid-column: 2 / 5;\n",
       "  color: var(--xr-font-color2);\n",
       "}\n",
       "\n",
       ".xr-var-name,\n",
       ".xr-var-dims,\n",
       ".xr-var-dtype,\n",
       ".xr-preview,\n",
       ".xr-attrs dt {\n",
       "  white-space: nowrap;\n",
       "  overflow: hidden;\n",
       "  text-overflow: ellipsis;\n",
       "  padding-right: 10px;\n",
       "}\n",
       "\n",
       ".xr-var-name:hover,\n",
       ".xr-var-dims:hover,\n",
       ".xr-var-dtype:hover,\n",
       ".xr-attrs dt:hover {\n",
       "  overflow: visible;\n",
       "  width: auto;\n",
       "  z-index: 1;\n",
       "}\n",
       "\n",
       ".xr-var-attrs,\n",
       ".xr-var-data,\n",
       ".xr-index-data {\n",
       "  display: none;\n",
       "  background-color: var(--xr-background-color) !important;\n",
       "  padding-bottom: 5px !important;\n",
       "}\n",
       "\n",
       ".xr-var-attrs-in:checked ~ .xr-var-attrs,\n",
       ".xr-var-data-in:checked ~ .xr-var-data,\n",
       ".xr-index-data-in:checked ~ .xr-index-data {\n",
       "  display: block;\n",
       "}\n",
       "\n",
       ".xr-var-data > table {\n",
       "  float: right;\n",
       "}\n",
       "\n",
       ".xr-var-name span,\n",
       ".xr-var-data,\n",
       ".xr-index-name div,\n",
       ".xr-index-data,\n",
       ".xr-attrs {\n",
       "  padding-left: 25px !important;\n",
       "}\n",
       "\n",
       ".xr-attrs,\n",
       ".xr-var-attrs,\n",
       ".xr-var-data,\n",
       ".xr-index-data {\n",
       "  grid-column: 1 / -1;\n",
       "}\n",
       "\n",
       "dl.xr-attrs {\n",
       "  padding: 0;\n",
       "  margin: 0;\n",
       "  display: grid;\n",
       "  grid-template-columns: 125px auto;\n",
       "}\n",
       "\n",
       ".xr-attrs dt,\n",
       ".xr-attrs dd {\n",
       "  padding: 0;\n",
       "  margin: 0;\n",
       "  float: left;\n",
       "  padding-right: 10px;\n",
       "  width: auto;\n",
       "}\n",
       "\n",
       ".xr-attrs dt {\n",
       "  font-weight: normal;\n",
       "  grid-column: 1;\n",
       "}\n",
       "\n",
       ".xr-attrs dt:hover span {\n",
       "  display: inline-block;\n",
       "  background: var(--xr-background-color);\n",
       "  padding-right: 10px;\n",
       "}\n",
       "\n",
       ".xr-attrs dd {\n",
       "  grid-column: 2;\n",
       "  white-space: pre-wrap;\n",
       "  word-break: break-all;\n",
       "}\n",
       "\n",
       ".xr-icon-database,\n",
       ".xr-icon-file-text2,\n",
       ".xr-no-icon {\n",
       "  display: inline-block;\n",
       "  vertical-align: middle;\n",
       "  width: 1em;\n",
       "  height: 1.5em !important;\n",
       "  stroke-width: 0;\n",
       "  stroke: currentColor;\n",
       "  fill: currentColor;\n",
       "}\n",
       "</style><pre class='xr-text-repr-fallback'>&lt;xarray.Dataset&gt;\n",
       "Dimensions:     (ensemble: 96, init_date: 52, lead_time: 11)\n",
       "Coordinates:\n",
       "  * ensemble    (ensemble) int64 1 2 3 4 5 6 7 8 9 ... 89 90 91 92 93 94 95 96\n",
       "    event_time  (init_date, lead_time, ensemble) &lt;U28 dask.array&lt;chunksize=(52, 11, 96), meta=np.ndarray&gt;\n",
       "  * init_date   (init_date) object 1995-05-01 00:00:00 ... 2020-11-01 00:00:00\n",
       "  * lead_time   (lead_time) int64 0 1 2 3 4 5 6 7 8 9 10\n",
       "    time        (lead_time, init_date) object dask.array&lt;chunksize=(11, 52), meta=np.ndarray&gt;\n",
       "Data variables:\n",
       "    pr          (init_date, lead_time, ensemble) float64 dask.array&lt;chunksize=(1, 11, 96), meta=np.ndarray&gt;\n",
       "Attributes:\n",
       "    comment:    pressure level interpolator, version 3.0, precision=double\n",
       "    filename:   atmos_isobaric_daily.zarr\n",
       "    grid_tile:  N/A\n",
       "    grid_type:  regular\n",
       "    history:    Wed Apr 05 12:31:49 2023: /g/data/xv83/dbi599/miniconda3/envs...\n",
       "    title:      AccessOcean-AM2</pre><div class='xr-wrap' style='display:none'><div class='xr-header'><div class='xr-obj-type'>xarray.Dataset</div></div><ul class='xr-sections'><li class='xr-section-item'><input id='section-6897061d-db77-4075-b577-d687c13bdc77' class='xr-section-summary-in' type='checkbox' disabled ><label for='section-6897061d-db77-4075-b577-d687c13bdc77' class='xr-section-summary'  title='Expand/collapse section'>Dimensions:</label><div class='xr-section-inline-details'><ul class='xr-dim-list'><li><span class='xr-has-index'>ensemble</span>: 96</li><li><span class='xr-has-index'>init_date</span>: 52</li><li><span class='xr-has-index'>lead_time</span>: 11</li></ul></div><div class='xr-section-details'></div></li><li class='xr-section-item'><input id='section-37639a25-4567-478f-9922-d9b6aa773b1f' class='xr-section-summary-in' type='checkbox'  checked><label for='section-37639a25-4567-478f-9922-d9b6aa773b1f' class='xr-section-summary' >Coordinates: <span>(5)</span></label><div class='xr-section-inline-details'></div><div class='xr-section-details'><ul class='xr-var-list'><li class='xr-var-item'><div class='xr-var-name'><span class='xr-has-index'>ensemble</span></div><div class='xr-var-dims'>(ensemble)</div><div class='xr-var-dtype'>int64</div><div class='xr-var-preview xr-preview'>1 2 3 4 5 6 7 ... 91 92 93 94 95 96</div><input id='attrs-0cb66788-0d39-4661-98cb-49b23129f017' class='xr-var-attrs-in' type='checkbox' disabled><label for='attrs-0cb66788-0d39-4661-98cb-49b23129f017' title='Show/Hide attributes'><svg class='icon xr-icon-file-text2'><use xlink:href='#icon-file-text2'></use></svg></label><input id='data-7dfdc97b-3a7e-49af-99ee-d0487aeb4867' class='xr-var-data-in' type='checkbox'><label for='data-7dfdc97b-3a7e-49af-99ee-d0487aeb4867' title='Show/Hide data repr'><svg class='icon xr-icon-database'><use xlink:href='#icon-database'></use></svg></label><div class='xr-var-attrs'><dl class='xr-attrs'></dl></div><div class='xr-var-data'><pre>array([ 1,  2,  3,  4,  5,  6,  7,  8,  9, 10, 11, 12, 13, 14, 15, 16, 17, 18,\n",
       "       19, 20, 21, 22, 23, 24, 25, 26, 27, 28, 29, 30, 31, 32, 33, 34, 35, 36,\n",
       "       37, 38, 39, 40, 41, 42, 43, 44, 45, 46, 47, 48, 49, 50, 51, 52, 53, 54,\n",
       "       55, 56, 57, 58, 59, 60, 61, 62, 63, 64, 65, 66, 67, 68, 69, 70, 71, 72,\n",
       "       73, 74, 75, 76, 77, 78, 79, 80, 81, 82, 83, 84, 85, 86, 87, 88, 89, 90,\n",
       "       91, 92, 93, 94, 95, 96])</pre></div></li><li class='xr-var-item'><div class='xr-var-name'><span>event_time</span></div><div class='xr-var-dims'>(init_date, lead_time, ensemble)</div><div class='xr-var-dtype'>&lt;U28</div><div class='xr-var-preview xr-preview'>dask.array&lt;chunksize=(52, 11, 96), meta=np.ndarray&gt;</div><input id='attrs-1e3e682a-e4e1-47d1-9417-7445de6b6ea2' class='xr-var-attrs-in' type='checkbox' disabled><label for='attrs-1e3e682a-e4e1-47d1-9417-7445de6b6ea2' title='Show/Hide attributes'><svg class='icon xr-icon-file-text2'><use xlink:href='#icon-file-text2'></use></svg></label><input id='data-ece0388a-e37c-4d41-b6d4-93dfde516387' class='xr-var-data-in' type='checkbox'><label for='data-ece0388a-e37c-4d41-b6d4-93dfde516387' title='Show/Hide data repr'><svg class='icon xr-icon-database'><use xlink:href='#icon-database'></use></svg></label><div class='xr-var-attrs'><dl class='xr-attrs'></dl></div><div class='xr-var-data'><table>\n",
       "    <tr>\n",
       "        <td>\n",
       "            <table style=\"border-collapse: collapse;\">\n",
       "                <thead>\n",
       "                    <tr>\n",
       "                        <td> </td>\n",
       "                        <th> Array </th>\n",
       "                        <th> Chunk </th>\n",
       "                    </tr>\n",
       "                </thead>\n",
       "                <tbody>\n",
       "                    \n",
       "                    <tr>\n",
       "                        <th> Bytes </th>\n",
       "                        <td> 5.87 MiB </td>\n",
       "                        <td> 5.87 MiB </td>\n",
       "                    </tr>\n",
       "                    \n",
       "                    <tr>\n",
       "                        <th> Shape </th>\n",
       "                        <td> (52, 11, 96) </td>\n",
       "                        <td> (52, 11, 96) </td>\n",
       "                    </tr>\n",
       "                    <tr>\n",
       "                        <th> Dask graph </th>\n",
       "                        <td colspan=\"2\"> 1 chunks in 2 graph layers </td>\n",
       "                    </tr>\n",
       "                    <tr>\n",
       "                        <th> Data type </th>\n",
       "                        <td colspan=\"2\"> <U28 numpy.ndarray </td>\n",
       "                    </tr>\n",
       "                </tbody>\n",
       "            </table>\n",
       "        </td>\n",
       "        <td>\n",
       "        <svg width=\"218\" height=\"127\" style=\"stroke:rgb(0,0,0);stroke-width:1\" >\n",
       "\n",
       "  <!-- Horizontal lines -->\n",
       "  <line x1=\"10\" y1=\"0\" x2=\"48\" y2=\"38\" style=\"stroke-width:2\" />\n",
       "  <line x1=\"10\" y1=\"39\" x2=\"48\" y2=\"77\" style=\"stroke-width:2\" />\n",
       "\n",
       "  <!-- Vertical lines -->\n",
       "  <line x1=\"10\" y1=\"0\" x2=\"10\" y2=\"39\" style=\"stroke-width:2\" />\n",
       "  <line x1=\"48\" y1=\"38\" x2=\"48\" y2=\"77\" style=\"stroke-width:2\" />\n",
       "\n",
       "  <!-- Colored Rectangle -->\n",
       "  <polygon points=\"10.0,0.0 48.23529411764706,38.23529411764706 48.23529411764706,77.5722725949174 10.0,39.336978477270335\" style=\"fill:#ECB172A0;stroke-width:0\"/>\n",
       "\n",
       "  <!-- Horizontal lines -->\n",
       "  <line x1=\"10\" y1=\"0\" x2=\"130\" y2=\"0\" style=\"stroke-width:2\" />\n",
       "  <line x1=\"48\" y1=\"38\" x2=\"168\" y2=\"38\" style=\"stroke-width:2\" />\n",
       "\n",
       "  <!-- Vertical lines -->\n",
       "  <line x1=\"10\" y1=\"0\" x2=\"48\" y2=\"38\" style=\"stroke-width:2\" />\n",
       "  <line x1=\"130\" y1=\"0\" x2=\"168\" y2=\"38\" style=\"stroke-width:2\" />\n",
       "\n",
       "  <!-- Colored Rectangle -->\n",
       "  <polygon points=\"10.0,0.0 130.0,0.0 168.23529411764707,38.23529411764706 48.23529411764706,38.23529411764706\" style=\"fill:#ECB172A0;stroke-width:0\"/>\n",
       "\n",
       "  <!-- Horizontal lines -->\n",
       "  <line x1=\"48\" y1=\"38\" x2=\"168\" y2=\"38\" style=\"stroke-width:2\" />\n",
       "  <line x1=\"48\" y1=\"77\" x2=\"168\" y2=\"77\" style=\"stroke-width:2\" />\n",
       "\n",
       "  <!-- Vertical lines -->\n",
       "  <line x1=\"48\" y1=\"38\" x2=\"48\" y2=\"77\" style=\"stroke-width:2\" />\n",
       "  <line x1=\"168\" y1=\"38\" x2=\"168\" y2=\"77\" style=\"stroke-width:2\" />\n",
       "\n",
       "  <!-- Colored Rectangle -->\n",
       "  <polygon points=\"48.23529411764706,38.23529411764706 168.23529411764707,38.23529411764706 168.23529411764707,77.5722725949174 48.23529411764706,77.5722725949174\" style=\"fill:#ECB172A0;stroke-width:0\"/>\n",
       "\n",
       "  <!-- Text -->\n",
       "  <text x=\"108.235294\" y=\"97.572273\" font-size=\"1.0rem\" font-weight=\"100\" text-anchor=\"middle\" >96</text>\n",
       "  <text x=\"188.235294\" y=\"57.903783\" font-size=\"1.0rem\" font-weight=\"100\" text-anchor=\"middle\" transform=\"rotate(0,188.235294,57.903783)\">11</text>\n",
       "  <text x=\"19.117647\" y=\"78.454626\" font-size=\"1.0rem\" font-weight=\"100\" text-anchor=\"middle\" transform=\"rotate(45,19.117647,78.454626)\">52</text>\n",
       "</svg>\n",
       "        </td>\n",
       "    </tr>\n",
       "</table></div></li><li class='xr-var-item'><div class='xr-var-name'><span class='xr-has-index'>init_date</span></div><div class='xr-var-dims'>(init_date)</div><div class='xr-var-dtype'>object</div><div class='xr-var-preview xr-preview'>1995-05-01 00:00:00 ... 2020-11-...</div><input id='attrs-f3a1d243-f2ef-4b20-964a-fa4ef3c9c0a8' class='xr-var-attrs-in' type='checkbox' disabled><label for='attrs-f3a1d243-f2ef-4b20-964a-fa4ef3c9c0a8' title='Show/Hide attributes'><svg class='icon xr-icon-file-text2'><use xlink:href='#icon-file-text2'></use></svg></label><input id='data-dd3ee1cc-df37-44c1-b43b-327e2ea682c0' class='xr-var-data-in' type='checkbox'><label for='data-dd3ee1cc-df37-44c1-b43b-327e2ea682c0' title='Show/Hide data repr'><svg class='icon xr-icon-database'><use xlink:href='#icon-database'></use></svg></label><div class='xr-var-attrs'><dl class='xr-attrs'></dl></div><div class='xr-var-data'><pre>array([cftime.DatetimeJulian(1995, 5, 1, 0, 0, 0, 0, has_year_zero=False),\n",
       "       cftime.DatetimeJulian(1995, 11, 1, 0, 0, 0, 0, has_year_zero=False),\n",
       "       cftime.DatetimeJulian(1996, 5, 1, 0, 0, 0, 0, has_year_zero=False),\n",
       "       cftime.DatetimeJulian(1996, 11, 1, 0, 0, 0, 0, has_year_zero=False),\n",
       "       cftime.DatetimeJulian(1997, 5, 1, 0, 0, 0, 0, has_year_zero=False),\n",
       "       cftime.DatetimeJulian(1997, 11, 1, 0, 0, 0, 0, has_year_zero=False),\n",
       "       cftime.DatetimeJulian(1998, 5, 1, 0, 0, 0, 0, has_year_zero=False),\n",
       "       cftime.DatetimeJulian(1998, 11, 1, 0, 0, 0, 0, has_year_zero=False),\n",
       "       cftime.DatetimeJulian(1999, 5, 1, 0, 0, 0, 0, has_year_zero=False),\n",
       "       cftime.DatetimeJulian(1999, 11, 1, 0, 0, 0, 0, has_year_zero=False),\n",
       "       cftime.DatetimeJulian(2000, 5, 1, 0, 0, 0, 0, has_year_zero=False),\n",
       "       cftime.DatetimeJulian(2000, 11, 1, 0, 0, 0, 0, has_year_zero=False),\n",
       "       cftime.DatetimeJulian(2001, 5, 1, 0, 0, 0, 0, has_year_zero=False),\n",
       "       cftime.DatetimeJulian(2001, 11, 1, 0, 0, 0, 0, has_year_zero=False),\n",
       "       cftime.DatetimeJulian(2002, 5, 1, 0, 0, 0, 0, has_year_zero=False),\n",
       "       cftime.DatetimeJulian(2002, 11, 1, 0, 0, 0, 0, has_year_zero=False),\n",
       "       cftime.DatetimeJulian(2003, 5, 1, 0, 0, 0, 0, has_year_zero=False),\n",
       "       cftime.DatetimeJulian(2003, 11, 1, 0, 0, 0, 0, has_year_zero=False),\n",
       "       cftime.DatetimeJulian(2004, 5, 1, 0, 0, 0, 0, has_year_zero=False),\n",
       "       cftime.DatetimeJulian(2004, 11, 1, 0, 0, 0, 0, has_year_zero=False),\n",
       "       cftime.DatetimeJulian(2005, 5, 1, 0, 0, 0, 0, has_year_zero=False),\n",
       "       cftime.DatetimeJulian(2005, 11, 1, 0, 0, 0, 0, has_year_zero=False),\n",
       "       cftime.DatetimeJulian(2006, 5, 1, 0, 0, 0, 0, has_year_zero=False),\n",
       "       cftime.DatetimeJulian(2006, 11, 1, 0, 0, 0, 0, has_year_zero=False),\n",
       "       cftime.DatetimeJulian(2007, 5, 1, 0, 0, 0, 0, has_year_zero=False),\n",
       "       cftime.DatetimeJulian(2007, 11, 1, 0, 0, 0, 0, has_year_zero=False),\n",
       "       cftime.DatetimeJulian(2008, 5, 1, 0, 0, 0, 0, has_year_zero=False),\n",
       "       cftime.DatetimeJulian(2008, 11, 1, 0, 0, 0, 0, has_year_zero=False),\n",
       "       cftime.DatetimeJulian(2009, 5, 1, 0, 0, 0, 0, has_year_zero=False),\n",
       "       cftime.DatetimeJulian(2009, 11, 1, 0, 0, 0, 0, has_year_zero=False),\n",
       "       cftime.DatetimeJulian(2010, 5, 1, 0, 0, 0, 0, has_year_zero=False),\n",
       "       cftime.DatetimeJulian(2010, 11, 1, 0, 0, 0, 0, has_year_zero=False),\n",
       "       cftime.DatetimeJulian(2011, 5, 1, 0, 0, 0, 0, has_year_zero=False),\n",
       "       cftime.DatetimeJulian(2011, 11, 1, 0, 0, 0, 0, has_year_zero=False),\n",
       "       cftime.DatetimeJulian(2012, 5, 1, 0, 0, 0, 0, has_year_zero=False),\n",
       "       cftime.DatetimeJulian(2012, 11, 1, 0, 0, 0, 0, has_year_zero=False),\n",
       "       cftime.DatetimeJulian(2013, 5, 1, 0, 0, 0, 0, has_year_zero=False),\n",
       "       cftime.DatetimeJulian(2013, 11, 1, 0, 0, 0, 0, has_year_zero=False),\n",
       "       cftime.DatetimeJulian(2014, 5, 1, 0, 0, 0, 0, has_year_zero=False),\n",
       "       cftime.DatetimeJulian(2014, 11, 1, 0, 0, 0, 0, has_year_zero=False),\n",
       "       cftime.DatetimeJulian(2015, 5, 1, 0, 0, 0, 0, has_year_zero=False),\n",
       "       cftime.DatetimeJulian(2015, 11, 1, 0, 0, 0, 0, has_year_zero=False),\n",
       "       cftime.DatetimeJulian(2016, 5, 1, 0, 0, 0, 0, has_year_zero=False),\n",
       "       cftime.DatetimeJulian(2016, 11, 1, 0, 0, 0, 0, has_year_zero=False),\n",
       "       cftime.DatetimeJulian(2017, 5, 1, 0, 0, 0, 0, has_year_zero=False),\n",
       "       cftime.DatetimeJulian(2017, 11, 1, 0, 0, 0, 0, has_year_zero=False),\n",
       "       cftime.DatetimeJulian(2018, 5, 1, 0, 0, 0, 0, has_year_zero=False),\n",
       "       cftime.DatetimeJulian(2018, 11, 1, 0, 0, 0, 0, has_year_zero=False),\n",
       "       cftime.DatetimeJulian(2019, 5, 1, 0, 0, 0, 0, has_year_zero=False),\n",
       "       cftime.DatetimeJulian(2019, 11, 1, 0, 0, 0, 0, has_year_zero=False),\n",
       "       cftime.DatetimeJulian(2020, 5, 1, 0, 0, 0, 0, has_year_zero=False),\n",
       "       cftime.DatetimeJulian(2020, 11, 1, 0, 0, 0, 0, has_year_zero=False)],\n",
       "      dtype=object)</pre></div></li><li class='xr-var-item'><div class='xr-var-name'><span class='xr-has-index'>lead_time</span></div><div class='xr-var-dims'>(lead_time)</div><div class='xr-var-dtype'>int64</div><div class='xr-var-preview xr-preview'>0 1 2 3 4 5 6 7 8 9 10</div><input id='attrs-50587409-ee41-4a17-9249-2944029ebc24' class='xr-var-attrs-in' type='checkbox' ><label for='attrs-50587409-ee41-4a17-9249-2944029ebc24' title='Show/Hide attributes'><svg class='icon xr-icon-file-text2'><use xlink:href='#icon-file-text2'></use></svg></label><input id='data-1d9fdc93-c15e-4390-9929-8c94ab39b34a' class='xr-var-data-in' type='checkbox'><label for='data-1d9fdc93-c15e-4390-9929-8c94ab39b34a' title='Show/Hide data repr'><svg class='icon xr-icon-database'><use xlink:href='#icon-database'></use></svg></label><div class='xr-var-attrs'><dl class='xr-attrs'><dt><span>units :</span></dt><dd>A</dd></dl></div><div class='xr-var-data'><pre>array([ 0,  1,  2,  3,  4,  5,  6,  7,  8,  9, 10])</pre></div></li><li class='xr-var-item'><div class='xr-var-name'><span>time</span></div><div class='xr-var-dims'>(lead_time, init_date)</div><div class='xr-var-dtype'>object</div><div class='xr-var-preview xr-preview'>dask.array&lt;chunksize=(11, 52), meta=np.ndarray&gt;</div><input id='attrs-4f75c854-408d-4b31-b480-8e42dca781d5' class='xr-var-attrs-in' type='checkbox' ><label for='attrs-4f75c854-408d-4b31-b480-8e42dca781d5' title='Show/Hide attributes'><svg class='icon xr-icon-file-text2'><use xlink:href='#icon-file-text2'></use></svg></label><input id='data-257537e1-63ec-4bea-bb42-5011874ab788' class='xr-var-data-in' type='checkbox'><label for='data-257537e1-63ec-4bea-bb42-5011874ab788' title='Show/Hide data repr'><svg class='icon xr-icon-database'><use xlink:href='#icon-database'></use></svg></label><div class='xr-var-attrs'><dl class='xr-attrs'><dt><span>frequency :</span></dt><dd>A</dd></dl></div><div class='xr-var-data'><table>\n",
       "    <tr>\n",
       "        <td>\n",
       "            <table style=\"border-collapse: collapse;\">\n",
       "                <thead>\n",
       "                    <tr>\n",
       "                        <td> </td>\n",
       "                        <th> Array </th>\n",
       "                        <th> Chunk </th>\n",
       "                    </tr>\n",
       "                </thead>\n",
       "                <tbody>\n",
       "                    \n",
       "                    <tr>\n",
       "                        <th> Bytes </th>\n",
       "                        <td> 4.47 kiB </td>\n",
       "                        <td> 4.47 kiB </td>\n",
       "                    </tr>\n",
       "                    \n",
       "                    <tr>\n",
       "                        <th> Shape </th>\n",
       "                        <td> (11, 52) </td>\n",
       "                        <td> (11, 52) </td>\n",
       "                    </tr>\n",
       "                    <tr>\n",
       "                        <th> Dask graph </th>\n",
       "                        <td colspan=\"2\"> 1 chunks in 2 graph layers </td>\n",
       "                    </tr>\n",
       "                    <tr>\n",
       "                        <th> Data type </th>\n",
       "                        <td colspan=\"2\"> object numpy.ndarray </td>\n",
       "                    </tr>\n",
       "                </tbody>\n",
       "            </table>\n",
       "        </td>\n",
       "        <td>\n",
       "        <svg width=\"170\" height=\"92\" style=\"stroke:rgb(0,0,0);stroke-width:1\" >\n",
       "\n",
       "  <!-- Horizontal lines -->\n",
       "  <line x1=\"0\" y1=\"0\" x2=\"120\" y2=\"0\" style=\"stroke-width:2\" />\n",
       "  <line x1=\"0\" y1=\"42\" x2=\"120\" y2=\"42\" style=\"stroke-width:2\" />\n",
       "\n",
       "  <!-- Vertical lines -->\n",
       "  <line x1=\"0\" y1=\"0\" x2=\"0\" y2=\"42\" style=\"stroke-width:2\" />\n",
       "  <line x1=\"120\" y1=\"0\" x2=\"120\" y2=\"42\" style=\"stroke-width:2\" />\n",
       "\n",
       "  <!-- Colored Rectangle -->\n",
       "  <polygon points=\"0.0,0.0 120.0,0.0 120.0,42.24352414703251 0.0,42.24352414703251\" style=\"fill:#ECB172A0;stroke-width:0\"/>\n",
       "\n",
       "  <!-- Text -->\n",
       "  <text x=\"60.000000\" y=\"62.243524\" font-size=\"1.0rem\" font-weight=\"100\" text-anchor=\"middle\" >52</text>\n",
       "  <text x=\"140.000000\" y=\"21.121762\" font-size=\"1.0rem\" font-weight=\"100\" text-anchor=\"middle\" transform=\"rotate(0,140.000000,21.121762)\">11</text>\n",
       "</svg>\n",
       "        </td>\n",
       "    </tr>\n",
       "</table></div></li></ul></div></li><li class='xr-section-item'><input id='section-33af80e6-7f91-4735-9361-6880cde253e2' class='xr-section-summary-in' type='checkbox'  checked><label for='section-33af80e6-7f91-4735-9361-6880cde253e2' class='xr-section-summary' >Data variables: <span>(1)</span></label><div class='xr-section-inline-details'></div><div class='xr-section-details'><ul class='xr-var-list'><li class='xr-var-item'><div class='xr-var-name'><span>pr</span></div><div class='xr-var-dims'>(init_date, lead_time, ensemble)</div><div class='xr-var-dtype'>float64</div><div class='xr-var-preview xr-preview'>dask.array&lt;chunksize=(1, 11, 96), meta=np.ndarray&gt;</div><input id='attrs-a9a06a93-4227-4fbd-a90c-31b8c5870bd7' class='xr-var-attrs-in' type='checkbox' ><label for='attrs-a9a06a93-4227-4fbd-a90c-31b8c5870bd7' title='Show/Hide attributes'><svg class='icon xr-icon-file-text2'><use xlink:href='#icon-file-text2'></use></svg></label><input id='data-efb55110-4ba2-4909-bd46-6c4d59936d40' class='xr-var-data-in' type='checkbox'><label for='data-efb55110-4ba2-4909-bd46-6c4d59936d40' title='Show/Hide data repr'><svg class='icon xr-icon-database'><use xlink:href='#icon-database'></use></svg></label><div class='xr-var-attrs'><dl class='xr-attrs'><dt><span>units :</span></dt><dd>mm day-1</dd></dl></div><div class='xr-var-data'><table>\n",
       "    <tr>\n",
       "        <td>\n",
       "            <table style=\"border-collapse: collapse;\">\n",
       "                <thead>\n",
       "                    <tr>\n",
       "                        <td> </td>\n",
       "                        <th> Array </th>\n",
       "                        <th> Chunk </th>\n",
       "                    </tr>\n",
       "                </thead>\n",
       "                <tbody>\n",
       "                    \n",
       "                    <tr>\n",
       "                        <th> Bytes </th>\n",
       "                        <td> 429.00 kiB </td>\n",
       "                        <td> 8.25 kiB </td>\n",
       "                    </tr>\n",
       "                    \n",
       "                    <tr>\n",
       "                        <th> Shape </th>\n",
       "                        <td> (52, 11, 96) </td>\n",
       "                        <td> (1, 11, 96) </td>\n",
       "                    </tr>\n",
       "                    <tr>\n",
       "                        <th> Dask graph </th>\n",
       "                        <td colspan=\"2\"> 52 chunks in 2 graph layers </td>\n",
       "                    </tr>\n",
       "                    <tr>\n",
       "                        <th> Data type </th>\n",
       "                        <td colspan=\"2\"> float64 numpy.ndarray </td>\n",
       "                    </tr>\n",
       "                </tbody>\n",
       "            </table>\n",
       "        </td>\n",
       "        <td>\n",
       "        <svg width=\"218\" height=\"127\" style=\"stroke:rgb(0,0,0);stroke-width:1\" >\n",
       "\n",
       "  <!-- Horizontal lines -->\n",
       "  <line x1=\"10\" y1=\"0\" x2=\"48\" y2=\"38\" style=\"stroke-width:2\" />\n",
       "  <line x1=\"10\" y1=\"39\" x2=\"48\" y2=\"77\" style=\"stroke-width:2\" />\n",
       "\n",
       "  <!-- Vertical lines -->\n",
       "  <line x1=\"10\" y1=\"0\" x2=\"10\" y2=\"39\" style=\"stroke-width:2\" />\n",
       "  <line x1=\"11\" y1=\"1\" x2=\"11\" y2=\"40\" />\n",
       "  <line x1=\"13\" y1=\"3\" x2=\"13\" y2=\"43\" />\n",
       "  <line x1=\"15\" y1=\"5\" x2=\"15\" y2=\"45\" />\n",
       "  <line x1=\"17\" y1=\"7\" x2=\"17\" y2=\"46\" />\n",
       "  <line x1=\"19\" y1=\"9\" x2=\"19\" y2=\"48\" />\n",
       "  <line x1=\"21\" y1=\"11\" x2=\"21\" y2=\"51\" />\n",
       "  <line x1=\"23\" y1=\"13\" x2=\"23\" y2=\"53\" />\n",
       "  <line x1=\"25\" y1=\"15\" x2=\"25\" y2=\"54\" />\n",
       "  <line x1=\"27\" y1=\"17\" x2=\"27\" y2=\"56\" />\n",
       "  <line x1=\"29\" y1=\"19\" x2=\"29\" y2=\"59\" />\n",
       "  <line x1=\"32\" y1=\"22\" x2=\"32\" y2=\"61\" />\n",
       "  <line x1=\"33\" y1=\"23\" x2=\"33\" y2=\"62\" />\n",
       "  <line x1=\"35\" y1=\"25\" x2=\"35\" y2=\"65\" />\n",
       "  <line x1=\"37\" y1=\"27\" x2=\"37\" y2=\"67\" />\n",
       "  <line x1=\"40\" y1=\"30\" x2=\"40\" y2=\"69\" />\n",
       "  <line x1=\"41\" y1=\"31\" x2=\"41\" y2=\"70\" />\n",
       "  <line x1=\"43\" y1=\"33\" x2=\"43\" y2=\"73\" />\n",
       "  <line x1=\"46\" y1=\"36\" x2=\"46\" y2=\"75\" />\n",
       "  <line x1=\"48\" y1=\"38\" x2=\"48\" y2=\"77\" style=\"stroke-width:2\" />\n",
       "\n",
       "  <!-- Colored Rectangle -->\n",
       "  <polygon points=\"10.0,0.0 48.23529411764706,38.23529411764706 48.23529411764706,77.5722725949174 10.0,39.336978477270335\" style=\"fill:#8B4903A0;stroke-width:0\"/>\n",
       "\n",
       "  <!-- Horizontal lines -->\n",
       "  <line x1=\"10\" y1=\"0\" x2=\"130\" y2=\"0\" style=\"stroke-width:2\" />\n",
       "  <line x1=\"11\" y1=\"1\" x2=\"131\" y2=\"1\" />\n",
       "  <line x1=\"13\" y1=\"3\" x2=\"133\" y2=\"3\" />\n",
       "  <line x1=\"15\" y1=\"5\" x2=\"135\" y2=\"5\" />\n",
       "  <line x1=\"17\" y1=\"7\" x2=\"137\" y2=\"7\" />\n",
       "  <line x1=\"19\" y1=\"9\" x2=\"139\" y2=\"9\" />\n",
       "  <line x1=\"21\" y1=\"11\" x2=\"141\" y2=\"11\" />\n",
       "  <line x1=\"23\" y1=\"13\" x2=\"143\" y2=\"13\" />\n",
       "  <line x1=\"25\" y1=\"15\" x2=\"145\" y2=\"15\" />\n",
       "  <line x1=\"27\" y1=\"17\" x2=\"147\" y2=\"17\" />\n",
       "  <line x1=\"29\" y1=\"19\" x2=\"149\" y2=\"19\" />\n",
       "  <line x1=\"32\" y1=\"22\" x2=\"152\" y2=\"22\" />\n",
       "  <line x1=\"33\" y1=\"23\" x2=\"153\" y2=\"23\" />\n",
       "  <line x1=\"35\" y1=\"25\" x2=\"155\" y2=\"25\" />\n",
       "  <line x1=\"37\" y1=\"27\" x2=\"157\" y2=\"27\" />\n",
       "  <line x1=\"40\" y1=\"30\" x2=\"160\" y2=\"30\" />\n",
       "  <line x1=\"41\" y1=\"31\" x2=\"161\" y2=\"31\" />\n",
       "  <line x1=\"43\" y1=\"33\" x2=\"163\" y2=\"33\" />\n",
       "  <line x1=\"46\" y1=\"36\" x2=\"166\" y2=\"36\" />\n",
       "  <line x1=\"48\" y1=\"38\" x2=\"168\" y2=\"38\" style=\"stroke-width:2\" />\n",
       "\n",
       "  <!-- Vertical lines -->\n",
       "  <line x1=\"10\" y1=\"0\" x2=\"48\" y2=\"38\" style=\"stroke-width:2\" />\n",
       "  <line x1=\"130\" y1=\"0\" x2=\"168\" y2=\"38\" style=\"stroke-width:2\" />\n",
       "\n",
       "  <!-- Colored Rectangle -->\n",
       "  <polygon points=\"10.0,0.0 130.0,0.0 168.23529411764707,38.23529411764706 48.23529411764706,38.23529411764706\" style=\"fill:#8B4903A0;stroke-width:0\"/>\n",
       "\n",
       "  <!-- Horizontal lines -->\n",
       "  <line x1=\"48\" y1=\"38\" x2=\"168\" y2=\"38\" style=\"stroke-width:2\" />\n",
       "  <line x1=\"48\" y1=\"77\" x2=\"168\" y2=\"77\" style=\"stroke-width:2\" />\n",
       "\n",
       "  <!-- Vertical lines -->\n",
       "  <line x1=\"48\" y1=\"38\" x2=\"48\" y2=\"77\" style=\"stroke-width:2\" />\n",
       "  <line x1=\"168\" y1=\"38\" x2=\"168\" y2=\"77\" style=\"stroke-width:2\" />\n",
       "\n",
       "  <!-- Colored Rectangle -->\n",
       "  <polygon points=\"48.23529411764706,38.23529411764706 168.23529411764707,38.23529411764706 168.23529411764707,77.5722725949174 48.23529411764706,77.5722725949174\" style=\"fill:#ECB172A0;stroke-width:0\"/>\n",
       "\n",
       "  <!-- Text -->\n",
       "  <text x=\"108.235294\" y=\"97.572273\" font-size=\"1.0rem\" font-weight=\"100\" text-anchor=\"middle\" >96</text>\n",
       "  <text x=\"188.235294\" y=\"57.903783\" font-size=\"1.0rem\" font-weight=\"100\" text-anchor=\"middle\" transform=\"rotate(0,188.235294,57.903783)\">11</text>\n",
       "  <text x=\"19.117647\" y=\"78.454626\" font-size=\"1.0rem\" font-weight=\"100\" text-anchor=\"middle\" transform=\"rotate(45,19.117647,78.454626)\">52</text>\n",
       "</svg>\n",
       "        </td>\n",
       "    </tr>\n",
       "</table></div></li></ul></div></li><li class='xr-section-item'><input id='section-876f0ae7-b6fc-44bc-900c-77d39d93f23b' class='xr-section-summary-in' type='checkbox'  ><label for='section-876f0ae7-b6fc-44bc-900c-77d39d93f23b' class='xr-section-summary' >Indexes: <span>(3)</span></label><div class='xr-section-inline-details'></div><div class='xr-section-details'><ul class='xr-var-list'><li class='xr-var-item'><div class='xr-index-name'><div>ensemble</div></div><div class='xr-index-preview'>PandasIndex</div><div></div><input id='index-86a179ce-de17-4ca0-a2ea-9d518092ac7f' class='xr-index-data-in' type='checkbox'/><label for='index-86a179ce-de17-4ca0-a2ea-9d518092ac7f' title='Show/Hide index repr'><svg class='icon xr-icon-database'><use xlink:href='#icon-database'></use></svg></label><div class='xr-index-data'><pre>PandasIndex(Int64Index([ 1,  2,  3,  4,  5,  6,  7,  8,  9, 10, 11, 12, 13, 14, 15, 16, 17,\n",
       "            18, 19, 20, 21, 22, 23, 24, 25, 26, 27, 28, 29, 30, 31, 32, 33, 34,\n",
       "            35, 36, 37, 38, 39, 40, 41, 42, 43, 44, 45, 46, 47, 48, 49, 50, 51,\n",
       "            52, 53, 54, 55, 56, 57, 58, 59, 60, 61, 62, 63, 64, 65, 66, 67, 68,\n",
       "            69, 70, 71, 72, 73, 74, 75, 76, 77, 78, 79, 80, 81, 82, 83, 84, 85,\n",
       "            86, 87, 88, 89, 90, 91, 92, 93, 94, 95, 96],\n",
       "           dtype=&#x27;int64&#x27;, name=&#x27;ensemble&#x27;))</pre></div></li><li class='xr-var-item'><div class='xr-index-name'><div>init_date</div></div><div class='xr-index-preview'>PandasIndex</div><div></div><input id='index-a94a0819-c00e-45c4-9de7-7d0256b01ca4' class='xr-index-data-in' type='checkbox'/><label for='index-a94a0819-c00e-45c4-9de7-7d0256b01ca4' title='Show/Hide index repr'><svg class='icon xr-icon-database'><use xlink:href='#icon-database'></use></svg></label><div class='xr-index-data'><pre>PandasIndex(CFTimeIndex([1995-05-01 00:00:00, 1995-11-01 00:00:00, 1996-05-01 00:00:00,\n",
       "             1996-11-01 00:00:00, 1997-05-01 00:00:00, 1997-11-01 00:00:00,\n",
       "             1998-05-01 00:00:00, 1998-11-01 00:00:00, 1999-05-01 00:00:00,\n",
       "             1999-11-01 00:00:00, 2000-05-01 00:00:00, 2000-11-01 00:00:00,\n",
       "             2001-05-01 00:00:00, 2001-11-01 00:00:00, 2002-05-01 00:00:00,\n",
       "             2002-11-01 00:00:00, 2003-05-01 00:00:00, 2003-11-01 00:00:00,\n",
       "             2004-05-01 00:00:00, 2004-11-01 00:00:00, 2005-05-01 00:00:00,\n",
       "             2005-11-01 00:00:00, 2006-05-01 00:00:00, 2006-11-01 00:00:00,\n",
       "             2007-05-01 00:00:00, 2007-11-01 00:00:00, 2008-05-01 00:00:00,\n",
       "             2008-11-01 00:00:00, 2009-05-01 00:00:00, 2009-11-01 00:00:00,\n",
       "             2010-05-01 00:00:00, 2010-11-01 00:00:00, 2011-05-01 00:00:00,\n",
       "             2011-11-01 00:00:00, 2012-05-01 00:00:00, 2012-11-01 00:00:00,\n",
       "             2013-05-01 00:00:00, 2013-11-01 00:00:00, 2014-05-01 00:00:00,\n",
       "             2014-11-01 00:00:00, 2015-05-01 00:00:00, 2015-11-01 00:00:00,\n",
       "             2016-05-01 00:00:00, 2016-11-01 00:00:00, 2017-05-01 00:00:00,\n",
       "             2017-11-01 00:00:00, 2018-05-01 00:00:00, 2018-11-01 00:00:00,\n",
       "             2019-05-01 00:00:00, 2019-11-01 00:00:00, 2020-05-01 00:00:00,\n",
       "             2020-11-01 00:00:00],\n",
       "            dtype=&#x27;object&#x27;, length=52, calendar=&#x27;julian&#x27;, freq=&#x27;2QS-NOV&#x27;))</pre></div></li><li class='xr-var-item'><div class='xr-index-name'><div>lead_time</div></div><div class='xr-index-preview'>PandasIndex</div><div></div><input id='index-e3ae0ce0-2fbf-4e76-8289-6ef007f76c18' class='xr-index-data-in' type='checkbox'/><label for='index-e3ae0ce0-2fbf-4e76-8289-6ef007f76c18' title='Show/Hide index repr'><svg class='icon xr-icon-database'><use xlink:href='#icon-database'></use></svg></label><div class='xr-index-data'><pre>PandasIndex(Int64Index([0, 1, 2, 3, 4, 5, 6, 7, 8, 9, 10], dtype=&#x27;int64&#x27;, name=&#x27;lead_time&#x27;))</pre></div></li></ul></div></li><li class='xr-section-item'><input id='section-658867cd-6f2d-48ab-b4a7-115474257d38' class='xr-section-summary-in' type='checkbox'  checked><label for='section-658867cd-6f2d-48ab-b4a7-115474257d38' class='xr-section-summary' >Attributes: <span>(6)</span></label><div class='xr-section-inline-details'></div><div class='xr-section-details'><dl class='xr-attrs'><dt><span>comment :</span></dt><dd>pressure level interpolator, version 3.0, precision=double</dd><dt><span>filename :</span></dt><dd>atmos_isobaric_daily.zarr</dd><dt><span>grid_tile :</span></dt><dd>N/A</dd><dt><span>grid_type :</span></dt><dd>regular</dd><dt><span>history :</span></dt><dd>Wed Apr 05 12:31:49 2023: /g/data/xv83/dbi599/miniconda3/envs/unseen-processing/bin/python3.10 /g/data/xv83/dbi599/miniconda3/envs/unseen-processing/bin/fileio /home/599/dbi599/hydrotas/file_lists/CAFE_c5-d60-pX-f6_pr_files.txt /g/data/xv83/dbi599/hydrotas/data/Rx15day_CAFE-c5-d60-pX-f6_19950501-20201101_annual_hydro-tas.zarr.zip --forecast --variables pr --spatial_agg weighted_mean --rolling_sum_window 14 --shapefile /home/599/dbi599/hydrotas/shapefiles/hydro-combined.shp --time_freq A-DEC --time_agg max --input_freq D --units_timing middle --reset_times --complete_time_agg_periods --dask_config dask_local.yml --verbose --time_agg_dates --units pr=mm day-1 --lat_bnds -47 -37 --lon_bnds 141 152 --shp_overlap 0.05 --output_chunks lead_time=50 --metadata_file /home/599/dbi599/unseen/config/dataset_cafe_daily.yml (git@github.com:DamienIrving/hydrotas)</dd><dt><span>title :</span></dt><dd>AccessOcean-AM2</dd></dl></div></li></ul></div></div>"
      ],
      "text/plain": [
       "<xarray.Dataset>\n",
       "Dimensions:     (ensemble: 96, init_date: 52, lead_time: 11)\n",
       "Coordinates:\n",
       "  * ensemble    (ensemble) int64 1 2 3 4 5 6 7 8 9 ... 89 90 91 92 93 94 95 96\n",
       "    event_time  (init_date, lead_time, ensemble) <U28 dask.array<chunksize=(52, 11, 96), meta=np.ndarray>\n",
       "  * init_date   (init_date) object 1995-05-01 00:00:00 ... 2020-11-01 00:00:00\n",
       "  * lead_time   (lead_time) int64 0 1 2 3 4 5 6 7 8 9 10\n",
       "    time        (lead_time, init_date) object dask.array<chunksize=(11, 52), meta=np.ndarray>\n",
       "Data variables:\n",
       "    pr          (init_date, lead_time, ensemble) float64 dask.array<chunksize=(1, 11, 96), meta=np.ndarray>\n",
       "Attributes:\n",
       "    comment:    pressure level interpolator, version 3.0, precision=double\n",
       "    filename:   atmos_isobaric_daily.zarr\n",
       "    grid_tile:  N/A\n",
       "    grid_type:  regular\n",
       "    history:    Wed Apr 05 12:31:49 2023: /g/data/xv83/dbi599/miniconda3/envs...\n",
       "    title:      AccessOcean-AM2"
      ]
     },
     "execution_count": 20,
     "metadata": {},
     "output_type": "execute_result"
    }
   ],
   "source": [
    "model_ds"
   ]
  },
  {
   "cell_type": "markdown",
   "id": "b25bd815",
   "metadata": {
    "papermill": {
     "duration": null,
     "end_time": null,
     "exception": null,
     "start_time": null,
     "status": "pending"
    },
    "tags": []
   },
   "source": [
    "### Independence testing"
   ]
  },
  {
   "cell_type": "code",
   "execution_count": 21,
   "id": "b819d698",
   "metadata": {
    "execution": {
     "iopub.execute_input": "2023-01-30T08:12:16.014877Z",
     "iopub.status.busy": "2023-01-30T08:12:16.014555Z",
     "iopub.status.idle": "2023-01-30T08:12:16.019781Z",
     "shell.execute_reply": "2023-01-30T08:12:16.019372Z"
    },
    "papermill": {
     "duration": null,
     "end_time": null,
     "exception": null,
     "start_time": null,
     "status": "pending"
    },
    "tags": []
   },
   "outputs": [
    {
     "data": {
      "image/png": "[encoded data removed]",
      "text/plain": [
       "<IPython.core.display.Image object>"
      ]
     },
     "execution_count": 21,
     "metadata": {},
     "output_type": "execute_result"
    }
   ],
   "source": [
    "Image(filename=independence_plot)"
   ]
  },
  {
   "cell_type": "code",
   "execution_count": null,
   "id": "a5ccabe2",
   "metadata": {
    "execution": {
     "iopub.execute_input": "2023-01-30T08:12:16.077473Z",
     "iopub.status.busy": "2023-01-30T08:12:16.076745Z",
     "iopub.status.idle": "2023-01-30T08:12:16.081570Z",
     "shell.execute_reply": "2023-01-30T08:12:16.080765Z"
    },
    "papermill": {
     "duration": null,
     "end_time": null,
     "exception": null,
     "start_time": null,
     "status": "pending"
    },
    "tags": []
   },
   "outputs": [],
   "source": [
    "print(min_lead)"
   ]
  },
  {
   "cell_type": "code",
   "execution_count": null,
   "id": "e055048c",
   "metadata": {
    "execution": {
     "iopub.execute_input": "2023-01-30T08:12:16.157699Z",
     "iopub.status.busy": "2023-01-30T08:12:16.157311Z",
     "iopub.status.idle": "2023-01-30T08:12:16.160703Z",
     "shell.execute_reply": "2023-01-30T08:12:16.160388Z"
    },
    "papermill": {
     "duration": null,
     "end_time": null,
     "exception": null,
     "start_time": null,
     "status": "pending"
    },
    "tags": []
   },
   "outputs": [],
   "source": [
    "model_da = model_ds['pr'].where(model_ds['lead_time'] >= min_lead)"
   ]
  },
  {
   "cell_type": "code",
   "execution_count": null,
   "id": "6b40107c",
   "metadata": {
    "execution": {
     "iopub.execute_input": "2023-01-30T08:12:32.646156Z",
     "iopub.status.busy": "2023-01-30T08:12:32.634818Z",
     "iopub.status.idle": "2023-01-30T08:12:33.582474Z",
     "shell.execute_reply": "2023-01-30T08:12:33.581493Z"
    },
    "papermill": {
     "duration": null,
     "end_time": null,
     "exception": null,
     "start_time": null,
     "status": "pending"
    },
    "tags": []
   },
   "outputs": [],
   "source": [
    "model_da_stacked = model_da.dropna('lead_time').stack({'sample': ['ensemble', 'init_date', 'lead_time']})"
   ]
  },
  {
   "cell_type": "code",
   "execution_count": null,
   "id": "10aaf4a0",
   "metadata": {
    "execution": {
     "iopub.execute_input": "2023-01-30T08:12:33.671940Z",
     "iopub.status.busy": "2023-01-30T08:12:33.671602Z",
     "iopub.status.idle": "2023-01-30T08:12:33.675786Z",
     "shell.execute_reply": "2023-01-30T08:12:33.676110Z"
    },
    "papermill": {
     "duration": null,
     "end_time": null,
     "exception": null,
     "start_time": null,
     "status": "pending"
    },
    "tags": []
   },
   "outputs": [],
   "source": [
    "model_da_stacked.shape"
   ]
  },
  {
   "cell_type": "code",
   "execution_count": null,
   "id": "f0b0019b",
   "metadata": {
    "execution": {
     "iopub.execute_input": "2023-01-30T08:12:19.759157Z",
     "iopub.status.busy": "2023-01-30T08:12:19.753525Z",
     "iopub.status.idle": "2023-01-30T08:12:20.776601Z",
     "shell.execute_reply": "2023-01-30T08:12:20.775673Z"
    },
    "papermill": {
     "duration": null,
     "end_time": null,
     "exception": null,
     "start_time": null,
     "status": "pending"
    },
    "tags": []
   },
   "outputs": [],
   "source": [
    "model_add_bc_da_stacked = model_add_bc_ds.dropna('lead_time')['pr'].stack({'sample': ['ensemble', 'init_date', 'lead_time']})"
   ]
  },
  {
   "cell_type": "code",
   "execution_count": null,
   "id": "7d4fdc9e",
   "metadata": {
    "execution": {
     "iopub.execute_input": "2023-01-30T08:12:20.852605Z",
     "iopub.status.busy": "2023-01-30T08:12:20.851921Z",
     "iopub.status.idle": "2023-01-30T08:12:20.856843Z",
     "shell.execute_reply": "2023-01-30T08:12:20.857674Z"
    },
    "papermill": {
     "duration": null,
     "end_time": null,
     "exception": null,
     "start_time": null,
     "status": "pending"
    },
    "tags": []
   },
   "outputs": [],
   "source": [
    "model_add_bc_da_stacked.shape"
   ]
  },
  {
   "cell_type": "code",
   "execution_count": null,
   "id": "8a7afb26-20cf-43e6-b647-9f40e7586682",
   "metadata": {
    "papermill": {
     "duration": null,
     "end_time": null,
     "exception": null,
     "start_time": null,
     "status": "pending"
    },
    "tags": []
   },
   "outputs": [],
   "source": [
    "model_mulc_bc_da_stacked = model_mulc_bc_ds.dropna('lead_time')['pr'].stack({'sample': ['ensemble', 'init_date', 'lead_time']})"
   ]
  },
  {
   "cell_type": "code",
   "execution_count": null,
   "id": "80b2f212-366a-4dcd-bfbe-1f5dc232cb64",
   "metadata": {
    "papermill": {
     "duration": null,
     "end_time": null,
     "exception": null,
     "start_time": null,
     "status": "pending"
    },
    "tags": []
   },
   "outputs": [],
   "source": [
    "model_mulc_bc_da_stacked.shape"
   ]
  },
  {
   "cell_type": "markdown",
   "id": "af672ed1",
   "metadata": {
    "papermill": {
     "duration": null,
     "end_time": null,
     "exception": null,
     "start_time": null,
     "status": "pending"
    },
    "tags": []
   },
   "source": [
    "### Stability testing"
   ]
  },
  {
   "cell_type": "code",
   "execution_count": null,
   "id": "29240b6a",
   "metadata": {
    "papermill": {
     "duration": null,
     "end_time": null,
     "exception": null,
     "start_time": null,
     "status": "pending"
    },
    "tags": []
   },
   "outputs": [],
   "source": [
    "def plot_dist_by_lead(sample_ds, model_name):\n",
    "    \"\"\"Plot distribution curve by lead time\"\"\"\n",
    "\n",
    "    fig = plt.figure(figsize=[8, 6])\n",
    "    ax = fig.add_subplot()\n",
    "    lead_times = np.unique(model_da_stacked['lead_time'].values)\n",
    "    colors = iter(plt.cm.BuPu(np.linspace(0.3, 1, len(lead_times))))\n",
    "\n",
    "    for lead in lead_times:\n",
    "        ds_selection = sample_ds.sel({'lead_time': lead})\n",
    "        ds_selection = ds_selection.dropna('sample')\n",
    "        color = next(colors)\n",
    "        lead_df = pd.DataFrame(ds_selection.values)\n",
    "        n_values = len(ds_selection)\n",
    "        sns.kdeplot(lead_df[0], ax=ax, color=color, label=f'lead time {lead} ({n_values} samples)')\n",
    "\n",
    "    ax.grid(True)\n",
    "    #ax.set_xlim(26, 46)    \n",
    "    ax.set_title(f'Annual (Sep-Aug) Rx15day for {region_name} ({model_name})')\n",
    "    ax.set_xlabel('Rx15day precipitation (mm)')\n",
    "    ax.legend()\n",
    "    plt.show()"
   ]
  },
  {
   "cell_type": "code",
   "execution_count": null,
   "id": "96f8aeb6",
   "metadata": {
    "papermill": {
     "duration": null,
     "end_time": null,
     "exception": null,
     "start_time": null,
     "status": "pending"
    },
    "tags": []
   },
   "outputs": [],
   "source": [
    "plot_dist_by_lead(model_da_stacked, model_name)"
   ]
  },
  {
   "cell_type": "code",
   "execution_count": null,
   "id": "36ac6faf",
   "metadata": {
    "papermill": {
     "duration": null,
     "end_time": null,
     "exception": null,
     "start_time": null,
     "status": "pending"
    },
    "tags": []
   },
   "outputs": [],
   "source": [
    "def return_curve(data, method):\n",
    "    \"\"\"Return x and y data for a return period curve.\n",
    "    \n",
    "    Args:\n",
    "      data: xarray DataArray\n",
    "      method : {'gev', 'empirical'}\n",
    "          Fit a GEV or not to data\n",
    "    \"\"\"\n",
    "    \n",
    "    if method == 'gev':\n",
    "        return_periods = np.logspace(0, 4, num=10000)\n",
    "        probabilities = 1. / return_periods\n",
    "        shape, loc, scale = indices.fit_gev(data, generate_estimates=True)\n",
    "        return_values = gev.isf(probabilities, shape, loc, scale)\n",
    "    elif method == 'empirical':\n",
    "        return_values = np.sort(data, axis=None)[::-1]\n",
    "        return_periods = len(data) / np.arange(1.0, len(data) + 1.0)\n",
    "        \n",
    "    return return_periods, return_values"
   ]
  },
  {
   "cell_type": "code",
   "execution_count": null,
   "id": "beceb7b9",
   "metadata": {
    "papermill": {
     "duration": null,
     "end_time": null,
     "exception": null,
     "start_time": null,
     "status": "pending"
    },
    "tags": []
   },
   "outputs": [],
   "source": [
    "def plot_return_by_lead(sample_ds, model_name, uncertainty=False):\n",
    "    \"\"\"Plot return period curve by lead time\"\"\"\n",
    "\n",
    "    fig = plt.figure(figsize=[8, 6])\n",
    "    ax = fig.add_subplot()\n",
    "    lead_times = np.unique(model_da_stacked['lead_time'].values)\n",
    "    colors = iter(plt.cm.BuPu(np.linspace(0.3, 1, len(lead_times))))\n",
    "\n",
    "    for lead in lead_times:\n",
    "        ds_selection = sample_ds.sel({'lead_time': lead})\n",
    "        ds_selection = ds_selection.dropna('sample')\n",
    "        return_periods, return_values = return_curve(ds_selection, method='empirical')\n",
    "        n_values = len(ds_selection)\n",
    "        label = f'lead time {lead} ({n_values} samples)'\n",
    "        color = next(colors)\n",
    "        ax.plot(return_periods, return_values, label=label, color=color)\n",
    "    \n",
    "    if uncertainty:\n",
    "        random_return_values = []\n",
    "        for i in range(1000):\n",
    "            random_sample = np.random.choice(sample_ds, n_values)\n",
    "            return_periods, return_values = return_curve(random_sample, method='empirical')\n",
    "            random_return_values.append(return_values)\n",
    "        random_return_values_stacked = np.stack(random_return_values)\n",
    "        upper_ci = np.percentile(random_return_values_stacked, 97.5, axis=0)\n",
    "        lower_ci = np.percentile(random_return_values_stacked, 2.5, axis=0)\n",
    "        ax.fill_between(return_periods, upper_ci, lower_ci, label='95% confidence interval', color='0.5', alpha=0.1)\n",
    "    \n",
    "    ax.grid()\n",
    "    ax.set_xscale('log')\n",
    "    ax.set_title(f'Annual (Sep-Aug) Rx15day for {region_name} ({model_name})')\n",
    "    ax.set_xlabel('return period (years)')\n",
    "    ax.set_ylabel('Rx15day precipitation (mm)')\n",
    "    ax.legend()\n",
    "    plt.show()"
   ]
  },
  {
   "cell_type": "code",
   "execution_count": null,
   "id": "fd8ba774",
   "metadata": {
    "papermill": {
     "duration": null,
     "end_time": null,
     "exception": null,
     "start_time": null,
     "status": "pending"
    },
    "tags": []
   },
   "outputs": [],
   "source": [
    "plot_return_by_lead(model_da_stacked, model_name, uncertainty=True)"
   ]
  },
  {
   "cell_type": "markdown",
   "id": "1e039e61",
   "metadata": {
    "papermill": {
     "duration": null,
     "end_time": null,
     "exception": null,
     "start_time": null,
     "status": "pending"
    },
    "tags": []
   },
   "source": [
    "### Bias correction and similarity testing"
   ]
  },
  {
   "cell_type": "code",
   "execution_count": null,
   "id": "6056ba03",
   "metadata": {
    "papermill": {
     "duration": null,
     "end_time": null,
     "exception": null,
     "start_time": null,
     "status": "pending"
    },
    "tags": []
   },
   "outputs": [],
   "source": [
    "model_gev_shape, model_gev_loc, model_gev_scale = indices.fit_gev(model_da_stacked.values)"
   ]
  },
  {
   "cell_type": "code",
   "execution_count": null,
   "id": "114b3d3c",
   "metadata": {
    "papermill": {
     "duration": null,
     "end_time": null,
     "exception": null,
     "start_time": null,
     "status": "pending"
    },
    "tags": []
   },
   "outputs": [],
   "source": [
    "model_add_bc_gev_shape, model_add_bc_gev_loc, model_add_bc_gev_scale = indices.fit_gev(model_add_bc_da_stacked.values)"
   ]
  },
  {
   "cell_type": "code",
   "execution_count": null,
   "id": "fb3c8200",
   "metadata": {
    "papermill": {
     "duration": null,
     "end_time": null,
     "exception": null,
     "start_time": null,
     "status": "pending"
    },
    "tags": []
   },
   "outputs": [],
   "source": [
    "model_mulc_bc_gev_shape, model_mulc_bc_gev_loc, model_mulc_bc_gev_scale = indices.fit_gev(model_mulc_bc_da_stacked.values)"
   ]
  },
  {
   "cell_type": "code",
   "execution_count": null,
   "id": "9897e5c2",
   "metadata": {
    "papermill": {
     "duration": null,
     "end_time": null,
     "exception": null,
     "start_time": null,
     "status": "pending"
    },
    "tags": []
   },
   "outputs": [],
   "source": [
    "agcd_gev_shape, agcd_gev_loc, agcd_gev_scale = indices.fit_gev(agcd_ds['pr'].values)"
   ]
  },
  {
   "cell_type": "code",
   "execution_count": null,
   "id": "41f26f8d",
   "metadata": {
    "papermill": {
     "duration": null,
     "end_time": null,
     "exception": null,
     "start_time": null,
     "status": "pending"
    },
    "tags": []
   },
   "outputs": [],
   "source": [
    "def plot_distributions(include_additive=False):\n",
    "    \"\"\"Plot various distributions\"\"\"\n",
    "\n",
    "    fig = plt.figure(figsize=[10, 6])\n",
    "    gev_xvals = np.arange(0, 500)\n",
    "\n",
    "    model_da.plot.hist(\n",
    "        bins=50, density=True, label=model_name, alpha=0.7, facecolor='tab:blue',\n",
    "    )\n",
    "    model_gev_pdf = gev.pdf(gev_xvals, model_gev_shape, model_gev_loc, model_gev_scale)\n",
    "    plt.plot(gev_xvals, model_gev_pdf, color='tab:blue', linewidth=4.0)\n",
    "\n",
    "    if include_additive:\n",
    "        model_add_bc_ds['pr'].plot.hist(\n",
    "            bins=50, density=True, label=f'{model_name} additive bias corrected', facecolor='tab:red', alpha=0.7\n",
    "        )\n",
    "        model_add_bc_gev_pdf = gev.pdf(gev_xvals, model_add_bc_gev_shape, model_add_bc_gev_loc, model_add_bc_gev_scale)\n",
    "        plt.plot(gev_xvals, model_add_bc_gev_pdf, color='tab:red', linewidth=4.0)\n",
    "\n",
    "    model_mulc_bc_ds['pr'].plot.hist(\n",
    "        bins=50, density=True, label=f'{model_name} multiplicative bias corrected', facecolor='tab:orange', alpha=0.7\n",
    "    )\n",
    "    model_mulc_bc_gev_pdf = gev.pdf(gev_xvals, model_mulc_bc_gev_shape, model_mulc_bc_gev_loc, model_mulc_bc_gev_scale)\n",
    "    plt.plot(gev_xvals, model_mulc_bc_gev_pdf, color='tab:orange', linewidth=4.0)\n",
    "\n",
    "    agcd_ds['pr'].plot.hist(\n",
    "        bins=50, density=True, label='AGCD', facecolor='tab:gray', alpha=0.7\n",
    "    )\n",
    "    agcd_gev_pdf = gev.pdf(gev_xvals, agcd_gev_shape, agcd_gev_loc, agcd_gev_scale)\n",
    "    plt.plot(gev_xvals, agcd_gev_pdf, color='tab:gray', linewidth=4.0)\n",
    "\n",
    "    plt.xlabel('precipitation (mm)')\n",
    "    plt.ylabel('probability')\n",
    "    plt.title(f'Annual (Sep-Aug) Rx15day for {region_name} ({model_name})')\n",
    "    plt.xlim(0, 500)\n",
    "    plt.legend()\n",
    "    if not include_additive:\n",
    "        outfile = f'/g/data/xv83/dbi599/east-coast-rain/figures/Rx15day_histogram_{model_name}_{region_name}.png'\n",
    "        print(outfile)\n",
    "        plt.savefig(outfile, bbox_inches='tight', facecolor='white', dpi=dpi)\n",
    "    plt.show()"
   ]
  },
  {
   "cell_type": "code",
   "execution_count": null,
   "id": "64ef687d",
   "metadata": {
    "papermill": {
     "duration": null,
     "end_time": null,
     "exception": null,
     "start_time": null,
     "status": "pending"
    },
    "tags": []
   },
   "outputs": [],
   "source": [
    "plot_distributions()"
   ]
  },
  {
   "cell_type": "code",
   "execution_count": null,
   "id": "9caddc6d",
   "metadata": {
    "papermill": {
     "duration": null,
     "end_time": null,
     "exception": null,
     "start_time": null,
     "status": "pending"
    },
    "tags": []
   },
   "outputs": [],
   "source": [
    "plot_distributions(include_additive=True)"
   ]
  },
  {
   "cell_type": "code",
   "execution_count": null,
   "id": "ea6b50a2-8e3c-45f4-9daa-43b8eeaa55fe",
   "metadata": {
    "papermill": {
     "duration": null,
     "end_time": null,
     "exception": null,
     "start_time": null,
     "status": "pending"
    },
    "tags": []
   },
   "outputs": [],
   "source": [
    "print(f'raw data shape parameter: {model_gev_shape:.3f}')\n",
    "print(f'raw data location parameter: {model_gev_loc:.3f}') \n",
    "print(f'raw data scale parameter: {model_gev_scale:.3f}')"
   ]
  },
  {
   "cell_type": "code",
   "execution_count": null,
   "id": "a3cb898e-8f5b-4ff3-95eb-a338fc379623",
   "metadata": {
    "papermill": {
     "duration": null,
     "end_time": null,
     "exception": null,
     "start_time": null,
     "status": "pending"
    },
    "tags": []
   },
   "outputs": [],
   "source": [
    "print(f'additive corrected shape parameter: {model_add_bc_gev_shape:.3f}')\n",
    "print(f'additive corrected location parameter: {model_add_bc_gev_loc:.3f}') \n",
    "print(f'additive corrected scale parameter: {model_add_bc_gev_scale:.3f}')"
   ]
  },
  {
   "cell_type": "code",
   "execution_count": null,
   "id": "c481eb09-d80c-4dc3-912e-b5d13d015910",
   "metadata": {
    "papermill": {
     "duration": null,
     "end_time": null,
     "exception": null,
     "start_time": null,
     "status": "pending"
    },
    "tags": []
   },
   "outputs": [],
   "source": [
    "print(f'multiplicative corrected shape parameter: {model_mulc_bc_gev_shape:.3f}')\n",
    "print(f'multiplicative corrected location parameter: {model_mulc_bc_gev_loc:.3f}') \n",
    "print(f'multiplicative corrected scale parameter: {model_mulc_bc_gev_scale:.3f}')"
   ]
  },
  {
   "cell_type": "markdown",
   "id": "1a8210c0",
   "metadata": {
    "papermill": {
     "duration": null,
     "end_time": null,
     "exception": null,
     "start_time": null,
     "status": "pending"
    },
    "tags": []
   },
   "source": [
    "We can look at p-values for the KS-test and Anderson-Darling test for each lead time.\n",
    "\n",
    "p > 0.05 means the null hypothesis (that the two samples are from the same population) can't be rejected."
   ]
  },
  {
   "cell_type": "code",
   "execution_count": null,
   "id": "a21af1f7",
   "metadata": {
    "execution": {
     "iopub.execute_input": "2023-01-30T08:12:18.930013Z",
     "iopub.status.busy": "2023-01-30T08:12:18.929690Z",
     "iopub.status.idle": "2023-01-30T08:12:18.936929Z",
     "shell.execute_reply": "2023-01-30T08:12:18.936588Z"
    },
    "papermill": {
     "duration": null,
     "end_time": null,
     "exception": null,
     "start_time": null,
     "status": "pending"
    },
    "tags": []
   },
   "outputs": [],
   "source": [
    "similarity_raw_ds = fileio.open_dataset(similarity_raw_file)"
   ]
  },
  {
   "cell_type": "code",
   "execution_count": null,
   "id": "3a599ddf",
   "metadata": {
    "execution": {
     "iopub.execute_input": "2023-01-30T08:12:19.004732Z",
     "iopub.status.busy": "2023-01-30T08:12:19.003155Z",
     "iopub.status.idle": "2023-01-30T08:12:19.013316Z",
     "shell.execute_reply": "2023-01-30T08:12:19.013627Z"
    },
    "papermill": {
     "duration": null,
     "end_time": null,
     "exception": null,
     "start_time": null,
     "status": "pending"
    },
    "tags": []
   },
   "outputs": [],
   "source": [
    "similarity_raw_ds['ks_pval'].values"
   ]
  },
  {
   "cell_type": "code",
   "execution_count": null,
   "id": "05eb014d",
   "metadata": {
    "execution": {
     "iopub.execute_input": "2023-01-30T08:12:19.084808Z",
     "iopub.status.busy": "2023-01-30T08:12:19.081526Z",
     "iopub.status.idle": "2023-01-30T08:12:19.092768Z",
     "shell.execute_reply": "2023-01-30T08:12:19.093166Z"
    },
    "papermill": {
     "duration": null,
     "end_time": null,
     "exception": null,
     "start_time": null,
     "status": "pending"
    },
    "tags": []
   },
   "outputs": [],
   "source": [
    "similarity_raw_ds['ad_pval'].values"
   ]
  },
  {
   "cell_type": "code",
   "execution_count": null,
   "id": "8b3f7de0",
   "metadata": {
    "execution": {
     "iopub.execute_input": "2023-01-30T08:12:19.161986Z",
     "iopub.status.busy": "2023-01-30T08:12:19.161132Z",
     "iopub.status.idle": "2023-01-30T08:12:19.175431Z",
     "shell.execute_reply": "2023-01-30T08:12:19.174426Z"
    },
    "papermill": {
     "duration": null,
     "end_time": null,
     "exception": null,
     "start_time": null,
     "status": "pending"
    },
    "tags": []
   },
   "outputs": [],
   "source": [
    "similarity_add_bias_ds = fileio.open_dataset(similarity_add_bc_file)"
   ]
  },
  {
   "cell_type": "code",
   "execution_count": null,
   "id": "d388e95d",
   "metadata": {
    "execution": {
     "iopub.execute_input": "2023-01-30T08:12:19.261398Z",
     "iopub.status.busy": "2023-01-30T08:12:19.260979Z",
     "iopub.status.idle": "2023-01-30T08:12:19.268786Z",
     "shell.execute_reply": "2023-01-30T08:12:19.268339Z"
    },
    "papermill": {
     "duration": null,
     "end_time": null,
     "exception": null,
     "start_time": null,
     "status": "pending"
    },
    "tags": []
   },
   "outputs": [],
   "source": [
    "similarity_add_bias_ds['ks_pval'].values"
   ]
  },
  {
   "cell_type": "code",
   "execution_count": null,
   "id": "c7cee743",
   "metadata": {
    "execution": {
     "iopub.execute_input": "2023-01-30T08:12:19.343398Z",
     "iopub.status.busy": "2023-01-30T08:12:19.341249Z",
     "iopub.status.idle": "2023-01-30T08:12:19.347354Z",
     "shell.execute_reply": "2023-01-30T08:12:19.347663Z"
    },
    "papermill": {
     "duration": null,
     "end_time": null,
     "exception": null,
     "start_time": null,
     "status": "pending"
    },
    "tags": []
   },
   "outputs": [],
   "source": [
    "similarity_add_bias_ds['ad_pval'].values"
   ]
  },
  {
   "cell_type": "code",
   "execution_count": null,
   "id": "e52d7e00-1510-46bc-ba47-ca75c162b03c",
   "metadata": {
    "papermill": {
     "duration": null,
     "end_time": null,
     "exception": null,
     "start_time": null,
     "status": "pending"
    },
    "tags": []
   },
   "outputs": [],
   "source": [
    "similarity_mulc_bias_ds = fileio.open_dataset(similarity_mulc_bc_file)"
   ]
  },
  {
   "cell_type": "code",
   "execution_count": null,
   "id": "0de30b63-1886-4ed8-9307-dabf49c5d484",
   "metadata": {
    "papermill": {
     "duration": null,
     "end_time": null,
     "exception": null,
     "start_time": null,
     "status": "pending"
    },
    "tags": []
   },
   "outputs": [],
   "source": [
    "similarity_mulc_bias_ds['ks_pval'].values"
   ]
  },
  {
   "cell_type": "code",
   "execution_count": null,
   "id": "666ff4e6-2437-42ab-87d3-59231280b122",
   "metadata": {
    "papermill": {
     "duration": null,
     "end_time": null,
     "exception": null,
     "start_time": null,
     "status": "pending"
    },
    "tags": []
   },
   "outputs": [],
   "source": [
    "similarity_mulc_bias_ds['ad_pval'].values"
   ]
  },
  {
   "cell_type": "markdown",
   "id": "692c7b58",
   "metadata": {
    "papermill": {
     "duration": null,
     "end_time": null,
     "exception": null,
     "start_time": null,
     "status": "pending"
    },
    "tags": []
   },
   "source": [
    "### Return curves"
   ]
  },
  {
   "cell_type": "code",
   "execution_count": null,
   "id": "c709376d",
   "metadata": {
    "papermill": {
     "duration": null,
     "end_time": null,
     "exception": null,
     "start_time": null,
     "status": "pending"
    },
    "tags": []
   },
   "outputs": [],
   "source": [
    "def plot_return(sample_ds, model_name, method, outfile=None):\n",
    "    \"\"\"Plot return period curve.\n",
    "    \n",
    "    method: {'gev', 'empirical'}  \n",
    "    \"\"\"\n",
    "    \n",
    "    fig = plt.figure(figsize=[8, 6])\n",
    "    ax = fig.add_subplot()\n",
    "    return_periods, return_values = return_curve(sample_ds, method)\n",
    "    ax.plot(return_periods, return_values)\n",
    "    ax.set_xscale('log')\n",
    "    ax.set_title(f'Annual (Sep-Aug) Rx15day for {region_name} ({model_name})')\n",
    "    ax.set_xlabel('return period (years)')\n",
    "    ax.set_ylabel('Rx15day precipitation (mm)')\n",
    "    ax.axhline(prmax, color='0.5', linestyle='--')\n",
    "    ax.grid()\n",
    "    if outfile:\n",
    "        plt.savefig(outfile, bbox_inches='tight', facecolor='white', dpi=dpi)\n",
    "        print(outfile)\n",
    "    else:\n",
    "        plt.show()"
   ]
  },
  {
   "cell_type": "code",
   "execution_count": null,
   "id": "349f83eb",
   "metadata": {
    "papermill": {
     "duration": null,
     "end_time": null,
     "exception": null,
     "start_time": null,
     "status": "pending"
    },
    "tags": []
   },
   "outputs": [],
   "source": [
    "def plot_return_by_decade(sample_ds, model_name, method, uncertainty=False):\n",
    "    \"\"\"Plot return period curve by decade\"\"\"\n",
    "\n",
    "    fig = plt.figure(figsize=[8, 6])\n",
    "    ax = fig.add_subplot()\n",
    "    if model_name == 'CAFE':\n",
    "        start_years = [1995, 2000, 2005, 2010, 2015]\n",
    "        step = 4\n",
    "    else:\n",
    "        start_years = [1960, 1970, 1980, 1990, 2000, 2010]\n",
    "        step = 9\n",
    "    colors = iter(plt.cm.hot_r(np.linspace(0.3, 1, len(start_years))))\n",
    "\n",
    "    for start_year in start_years:\n",
    "        end_year = start_year + step\n",
    "        start_date = f'{start_year}-01-01'\n",
    "        end_date = f'{end_year}-12-25'\n",
    "        ds_selection = time_utils.select_time_period(sample_ds, [start_date, end_date])\n",
    "        ds_selection = ds_selection.dropna('sample')\n",
    "        return_periods, return_values = return_curve(ds_selection, method)\n",
    "        n_years = len(ds_selection)\n",
    "        label = f'{start_year}-{end_year} ({n_years} samples)'\n",
    "        color = next(colors)\n",
    "        ax.plot(return_periods, return_values, label=label, color=color)\n",
    "    \n",
    "    if uncertainty:\n",
    "        random_return_values = []\n",
    "        for i in range(1000):\n",
    "            random_sample = np.random.choice(sample_ds, n_years)\n",
    "            return_periods, return_values = return_curve(random_sample, method)\n",
    "            random_return_values.append(return_values)\n",
    "        random_return_values_stacked = np.stack(random_return_values)\n",
    "        upper_ci = np.percentile(random_return_values_stacked, 97.5, axis=0)\n",
    "        lower_ci = np.percentile(random_return_values_stacked, 2.5, axis=0)\n",
    "        ax.fill_between(return_periods, upper_ci, lower_ci, label='95% confidence interval', color='0.5', alpha=0.2)\n",
    "    \n",
    "    ax.grid()\n",
    "    ax.set_xscale('log')\n",
    "    ax.set_title(f'Annual (Sep-Aug) Rx15day for {region_name} ({model_name})')\n",
    "    ax.set_xlabel('return period (years)')\n",
    "    ax.set_ylabel('Rx15day precipitation (mm)')\n",
    "    ax.legend()\n",
    "    ax.axhline(prmax, color='0.5', linestyle='--')\n",
    "#    outfile = f'/g/data/xv83/dbi599/east-coast-rain/figures/Rx15day_precip_exceedence_{region_name}_{model_name}_by-decade.png'\n",
    "#    plt.savefig(outfile, bbox_inches='tight', facecolor='white', dpi=dpi)\n",
    "    plt.show()\n",
    "#    print(outfile)"
   ]
  },
  {
   "cell_type": "code",
   "execution_count": null,
   "id": "ff0f8f73",
   "metadata": {
    "papermill": {
     "duration": null,
     "end_time": null,
     "exception": null,
     "start_time": null,
     "status": "pending"
    },
    "tags": []
   },
   "outputs": [],
   "source": [
    "def gev_event_likelihood(event, shape, loc, scale):\n",
    "    \"\"\"Get likelihood stats for an event from a GEV fit\"\"\"\n",
    "\n",
    "    probability = gev.sf(event, shape, loc=loc, scale=scale)\n",
    "    return_period = 1. / probability\n",
    "    percentile = (1 - probability) * 100\n",
    "    print(f'{percentile:.2f}% percentile')\n",
    "    print(f'{return_period:.0f} year return period\\n')"
   ]
  },
  {
   "cell_type": "markdown",
   "id": "d6a40828",
   "metadata": {
    "papermill": {
     "duration": null,
     "end_time": null,
     "exception": null,
     "start_time": null,
     "status": "pending"
    },
    "tags": []
   },
   "source": [
    "#### Additive bias corrected data"
   ]
  },
  {
   "cell_type": "code",
   "execution_count": null,
   "id": "59075ebb",
   "metadata": {
    "execution": {
     "iopub.execute_input": "2023-01-30T08:12:21.006002Z",
     "iopub.status.busy": "2023-01-30T08:12:20.971920Z",
     "iopub.status.idle": "2023-01-30T08:12:22.456037Z",
     "shell.execute_reply": "2023-01-30T08:12:22.456918Z"
    },
    "papermill": {
     "duration": null,
     "end_time": null,
     "exception": null,
     "start_time": null,
     "status": "pending"
    },
    "tags": []
   },
   "outputs": [],
   "source": [
    "plot_return(model_add_bc_da_stacked, model_name, method='empirical')"
   ]
  },
  {
   "cell_type": "code",
   "execution_count": null,
   "id": "0057980e",
   "metadata": {
    "papermill": {
     "duration": null,
     "end_time": null,
     "exception": null,
     "start_time": null,
     "status": "pending"
    },
    "tags": []
   },
   "outputs": [],
   "source": [
    "plot_return(model_add_bc_da_stacked, model_name, method='gev')"
   ]
  },
  {
   "cell_type": "code",
   "execution_count": null,
   "id": "39e4acf0",
   "metadata": {
    "execution": {
     "iopub.execute_input": "2023-01-30T08:12:22.709091Z",
     "iopub.status.busy": "2023-01-30T08:12:22.571393Z",
     "iopub.status.idle": "2023-01-30T08:12:23.774118Z",
     "shell.execute_reply": "2023-01-30T08:12:23.773151Z"
    },
    "papermill": {
     "duration": null,
     "end_time": null,
     "exception": null,
     "start_time": null,
     "status": "pending"
    },
    "tags": []
   },
   "outputs": [],
   "source": [
    "n_events_add_bc, n_population_add_bc, return_period_add_bc, percentile_add_bc = general_utils.event_in_context(model_add_bc_da_stacked.values, prmax, 'above')\n",
    "print('ADDITIVE BIAS CORRECTED DATA')\n",
    "print(f'{n_events_add_bc} events in {n_population_add_bc} samples')\n",
    "print(f'{percentile_add_bc:.2f}% percentile')\n",
    "print(f'{return_period_add_bc:.0f} year return period')"
   ]
  },
  {
   "cell_type": "code",
   "execution_count": null,
   "id": "2e0a064d",
   "metadata": {
    "papermill": {
     "duration": null,
     "end_time": null,
     "exception": null,
     "start_time": null,
     "status": "pending"
    },
    "tags": []
   },
   "outputs": [],
   "source": [
    "print('ADDITIVE BIAS CORRECTED GEV')\n",
    "gev_event_likelihood(prmax, model_add_bc_gev_shape, model_add_bc_gev_loc, model_add_bc_gev_scale)"
   ]
  },
  {
   "cell_type": "markdown",
   "id": "378e3988-31c5-4312-96ef-72d7820ef8e4",
   "metadata": {
    "papermill": {
     "duration": null,
     "end_time": null,
     "exception": null,
     "start_time": null,
     "status": "pending"
    },
    "tags": []
   },
   "source": [
    "#### Multiplicative bias corrected data"
   ]
  },
  {
   "cell_type": "code",
   "execution_count": null,
   "id": "17d6421d-1097-4775-a8da-1072eae0e792",
   "metadata": {
    "papermill": {
     "duration": null,
     "end_time": null,
     "exception": null,
     "start_time": null,
     "status": "pending"
    },
    "tags": []
   },
   "outputs": [],
   "source": [
    "plot_return(model_mulc_bc_da_stacked, model_name, method='empirical')"
   ]
  },
  {
   "cell_type": "code",
   "execution_count": null,
   "id": "e0175a01-4152-4ff2-b197-f00c153e1389",
   "metadata": {
    "papermill": {
     "duration": null,
     "end_time": null,
     "exception": null,
     "start_time": null,
     "status": "pending"
    },
    "tags": []
   },
   "outputs": [],
   "source": [
    "n_events_mulc_bc, n_population_mulc_bc, return_period_mulc_bc, percentile_mulc_bc = general_utils.event_in_context(model_add_bc_da_stacked.values, prmax, 'above')\n",
    "print('MULTIPLICATIVE BIAS CORRECTED DATA')\n",
    "print(f'{n_events_mulc_bc} events in {n_population_mulc_bc} samples')\n",
    "print(f'{percentile_mulc_bc:.2f}% percentile')\n",
    "print(f'{return_period_mulc_bc:.0f} year return period')"
   ]
  },
  {
   "cell_type": "code",
   "execution_count": null,
   "id": "bd2f4347-4051-45a1-be36-e1a69617439a",
   "metadata": {
    "papermill": {
     "duration": null,
     "end_time": null,
     "exception": null,
     "start_time": null,
     "status": "pending"
    },
    "tags": []
   },
   "outputs": [],
   "source": [
    "print('MULTIPLICATIVE BIAS CORRECTED GEV')\n",
    "gev_event_likelihood(prmax, model_mulc_bc_gev_shape, model_mulc_bc_gev_loc, model_mulc_bc_gev_scale)"
   ]
  },
  {
   "cell_type": "code",
   "execution_count": null,
   "id": "8c37444c-c67a-47d5-8718-037676d14a58",
   "metadata": {
    "papermill": {
     "duration": null,
     "end_time": null,
     "exception": null,
     "start_time": null,
     "status": "pending"
    },
    "tags": []
   },
   "outputs": [],
   "source": [
    "plot_return_by_decade(model_mulc_bc_da_stacked, model_name, method='empirical', uncertainty=True)"
   ]
  },
  {
   "cell_type": "code",
   "execution_count": null,
   "id": "6f110cea",
   "metadata": {
    "papermill": {
     "duration": null,
     "end_time": null,
     "exception": null,
     "start_time": null,
     "status": "pending"
    },
    "tags": []
   },
   "outputs": [],
   "source": [
    "plot_return_by_decade(model_mulc_bc_da_stacked, model_name, method='gev', uncertainty=True)"
   ]
  },
  {
   "cell_type": "markdown",
   "id": "c6a2c14c",
   "metadata": {
    "papermill": {
     "duration": null,
     "end_time": null,
     "exception": null,
     "start_time": null,
     "status": "pending"
    },
    "tags": []
   },
   "source": [
    "#### Raw data"
   ]
  },
  {
   "cell_type": "code",
   "execution_count": null,
   "id": "89138fa6",
   "metadata": {
    "execution": {
     "iopub.execute_input": "2023-01-30T08:12:34.902086Z",
     "iopub.status.busy": "2023-01-30T08:12:34.887920Z",
     "iopub.status.idle": "2023-01-30T08:12:35.807317Z",
     "shell.execute_reply": "2023-01-30T08:12:35.806620Z"
    },
    "papermill": {
     "duration": null,
     "end_time": null,
     "exception": null,
     "start_time": null,
     "status": "pending"
    },
    "tags": []
   },
   "outputs": [],
   "source": [
    "n_events, n_population, return_period, percentile = general_utils.event_in_context(model_da_stacked.values, prmax, 'above')\n",
    "print('RAW DATA')\n",
    "print(f'{n_events} events in {n_population} samples')\n",
    "print(f'{percentile:.2f}% percentile')\n",
    "print(f'{return_period:.0f} year return period')"
   ]
  },
  {
   "cell_type": "code",
   "execution_count": null,
   "id": "55ca0308",
   "metadata": {
    "papermill": {
     "duration": null,
     "end_time": null,
     "exception": null,
     "start_time": null,
     "status": "pending"
    },
    "tags": []
   },
   "outputs": [],
   "source": [
    "print('RAW GEV')\n",
    "gev_event_likelihood(prmax, model_gev_shape, model_gev_loc, model_gev_scale)"
   ]
  },
  {
   "cell_type": "markdown",
   "id": "8bcb7462",
   "metadata": {
    "papermill": {
     "duration": null,
     "end_time": null,
     "exception": null,
     "start_time": null,
     "status": "pending"
    },
    "tags": []
   },
   "source": [
    "### Seasonality"
   ]
  },
  {
   "cell_type": "code",
   "execution_count": null,
   "id": "8e28f48c",
   "metadata": {
    "execution": {
     "iopub.execute_input": "2023-01-30T08:12:35.964310Z",
     "iopub.status.busy": "2023-01-30T08:12:35.963905Z",
     "iopub.status.idle": "2023-01-30T08:12:36.946502Z",
     "shell.execute_reply": "2023-01-30T08:12:36.945680Z"
    },
    "papermill": {
     "duration": null,
     "end_time": null,
     "exception": null,
     "start_time": null,
     "status": "pending"
    },
    "tags": []
   },
   "outputs": [],
   "source": [
    "model_df = model_da_stacked.to_dataframe()\n",
    "model_df = model_df.dropna()"
   ]
  },
  {
   "cell_type": "code",
   "execution_count": null,
   "id": "c1a16c7e",
   "metadata": {
    "execution": {
     "iopub.execute_input": "2023-01-30T08:12:37.045756Z",
     "iopub.status.busy": "2023-01-30T08:12:37.045332Z",
     "iopub.status.idle": "2023-01-30T08:12:37.047955Z",
     "shell.execute_reply": "2023-01-30T08:12:37.048277Z"
    },
    "papermill": {
     "duration": null,
     "end_time": null,
     "exception": null,
     "start_time": null,
     "status": "pending"
    },
    "tags": []
   },
   "outputs": [],
   "source": [
    "event_months = [int(date[5:7]) for date in model_df['event_time'].values]\n",
    "event_years = [int(date[0:4]) for date in model_df['event_time'].values]"
   ]
  },
  {
   "cell_type": "code",
   "execution_count": null,
   "id": "a8d46fba",
   "metadata": {
    "execution": {
     "iopub.execute_input": "2023-01-30T08:12:37.151009Z",
     "iopub.status.busy": "2023-01-30T08:12:37.146891Z",
     "iopub.status.idle": "2023-01-30T08:12:37.222393Z",
     "shell.execute_reply": "2023-01-30T08:12:37.221917Z"
    },
    "papermill": {
     "duration": null,
     "end_time": null,
     "exception": null,
     "start_time": null,
     "status": "pending"
    },
    "tags": []
   },
   "outputs": [],
   "source": [
    "month_counts = Counter(event_months)\n",
    "months = np.arange(1, 13)\n",
    "counts = [month_counts[month] for month in months]\n",
    "\n",
    "plt.bar(months, counts)\n",
    "plt.title(f'Rx15day timing for {region_name} ({model_name})')\n",
    "plt.ylabel('number of events')\n",
    "plt.xlabel('month')\n",
    "xlabels = [calendar.month_abbr[i] for i in months]\n",
    "plt.xticks(months, xlabels)\n",
    "#plt.savefig(\n",
    "#    f'/g/data/xv83/dbi599/east-coast-rain/figures/Rx15day_timing_AGCD_{region_name}.png',\n",
    "#    bbox_inches='tight',\n",
    "#    facecolor='white',\n",
    "#    dpi=dpi\n",
    "#)\n",
    "plt.show()"
   ]
  },
  {
   "cell_type": "markdown",
   "id": "c23fb2ae",
   "metadata": {
    "papermill": {
     "duration": null,
     "end_time": null,
     "exception": null,
     "start_time": null,
     "status": "pending"
    },
    "tags": []
   },
   "source": [
    "### Relationship with ENSO"
   ]
  },
  {
   "cell_type": "code",
   "execution_count": null,
   "id": "79e46142",
   "metadata": {
    "execution": {
     "iopub.execute_input": "2023-01-30T08:12:37.372929Z",
     "iopub.status.busy": "2023-01-30T08:12:37.371834Z",
     "iopub.status.idle": "2023-01-30T08:12:37.407324Z",
     "shell.execute_reply": "2023-01-30T08:12:37.408216Z"
    },
    "papermill": {
     "duration": null,
     "end_time": null,
     "exception": null,
     "start_time": null,
     "status": "pending"
    },
    "tags": []
   },
   "outputs": [],
   "source": [
    "nino_ds = fileio.open_dataset(nino_file)\n",
    "nino_ds = nino_ds.assign_coords({'init_date': [date.strftime('%Y%m') for date in nino_ds['init_date'].values]})\n",
    "nino_ds"
   ]
  },
  {
   "cell_type": "code",
   "execution_count": null,
   "id": "4255f5c0",
   "metadata": {
    "execution": {
     "iopub.execute_input": "2023-01-30T08:12:37.500164Z",
     "iopub.status.busy": "2023-01-30T08:12:37.499841Z",
     "iopub.status.idle": "2023-01-30T08:12:38.728816Z",
     "shell.execute_reply": "2023-01-30T08:12:38.727691Z"
    },
    "papermill": {
     "duration": null,
     "end_time": null,
     "exception": null,
     "start_time": null,
     "status": "pending"
    },
    "tags": []
   },
   "outputs": [],
   "source": [
    "nino_values = []\n",
    "for index, row in model_df.iterrows():\n",
    "    event_init_date = row['init_date'].strftime('%Y%m')\n",
    "    event_ensemble = row['ensemble']\n",
    "    event_year_month = row['time'].strftime('%Y-%m')\n",
    "    nino_selection = nino_ds.sel({'init_date': event_init_date, 'ensemble': event_ensemble})\n",
    "    nino_selection = nino_selection.swap_dims({'lead_time': 'time'})\n",
    "    nino_year_month = [date.strftime('%Y-%m') for date in nino_selection['time'].values]\n",
    "    nino_selection = nino_selection.assign_coords({'time': nino_year_month})\n",
    "    nino_value = float(nino_selection['tos'].sel({'time': event_year_month}).values)\n",
    "    nino_values.append(nino_value)"
   ]
  },
  {
   "cell_type": "code",
   "execution_count": null,
   "id": "917c0dfb",
   "metadata": {
    "papermill": {
     "duration": null,
     "end_time": null,
     "exception": null,
     "start_time": null,
     "status": "pending"
    },
    "tags": []
   },
   "outputs": [],
   "source": [
    "model_df['nino34'] = nino_values"
   ]
  },
  {
   "cell_type": "code",
   "execution_count": null,
   "id": "734a17b8",
   "metadata": {
    "papermill": {
     "duration": null,
     "end_time": null,
     "exception": null,
     "start_time": null,
     "status": "pending"
    },
    "tags": []
   },
   "outputs": [],
   "source": [
    "fig = plt.figure(figsize=[8, 6])\n",
    "ax = fig.add_subplot(111)\n",
    "\n",
    "sns.scatterplot(ax=ax, data=model_df, x='nino34', y='pr')\n",
    "sns.kdeplot(ax=ax, data=model_df, x='nino34', y='pr', color='0.9', linewidth=1)\n",
    "\n",
    "ax.set_ylabel('Rx15day (mm)')\n",
    "ax.set_xlabel('Nino 3.4 SST anomaly (C)')\n",
    "ax.axvline(0.65)\n",
    "ax.axvline(-0.65)\n",
    "plt.show()"
   ]
  },
  {
   "cell_type": "markdown",
   "id": "d9405e65",
   "metadata": {
    "papermill": {
     "duration": null,
     "end_time": null,
     "exception": null,
     "start_time": null,
     "status": "pending"
    },
    "tags": []
   },
   "source": [
    "### Meteorology"
   ]
  },
  {
   "cell_type": "code",
   "execution_count": null,
   "id": "9ed38598",
   "metadata": {
    "papermill": {
     "duration": null,
     "end_time": null,
     "exception": null,
     "start_time": null,
     "status": "pending"
    },
    "tags": []
   },
   "outputs": [],
   "source": [
    "def plot_average(start_date, end_date, color_da=None, color_var=None, contour_da=None, contour_var=None):\n",
    "    \"\"\"Plot average\"\"\"\n",
    "    \n",
    "    fig = plt.figure(figsize=[10, 5])\n",
    "    map_proj=ccrs.PlateCarree(central_longitude=180)\n",
    "    ax1 = fig.add_subplot(1, 1, 1, projection=map_proj)       \n",
    "    \n",
    "    if color_var:\n",
    "        if color_var == 'pr':\n",
    "            levels = [0, 100, 200, 300, 400, 500, 600, 700, 800]\n",
    "            label = 'total precipitation (mm)'\n",
    "            cmap = cmocean.cm.rain\n",
    "            extend = 'max'\n",
    "        elif color_var == 'ua300':\n",
    "            levels = [-30, -25, -20, -15, -10, -5, 0, 5, 10, 15, 20, 25, 30]\n",
    "            label = '300hPa zonal wind'\n",
    "            cmap='RdBu_r'\n",
    "            extend = 'both'\n",
    "        else:\n",
    "            raise ValueError('Invalid color variable')\n",
    "        color_da.plot(\n",
    "            ax=ax1,\n",
    "            transform=ccrs.PlateCarree(),\n",
    "            cmap=cmap,\n",
    "            levels=levels,\n",
    "            extend=extend,\n",
    "            cbar_kwargs={'label': label},\n",
    "        )\n",
    "    \n",
    "    if contour_var:\n",
    "        if contour_var == 'z500':\n",
    "            levels = np.arange(5000, 6300, 50)\n",
    "        elif contour_var == 'psl':\n",
    "            levels = np.arange(900, 1100, 2.5)\n",
    "        elif contour_var == 'ua300':\n",
    "            levels = np.arange(15, 60, 5)\n",
    "        else:\n",
    "            raise ValueError('Invalid contour variable')\n",
    "        lines = contour_da.plot.contour(\n",
    "            ax=ax1,\n",
    "            transform=ccrs.PlateCarree(),\n",
    "            levels=levels,\n",
    "            colors=['0.1']\n",
    "        )\n",
    "        ax1.clabel(lines, colors=['0.1'], manual=False, inline=True)\n",
    "    \n",
    "    ax1.coastlines()\n",
    "    ax1.set_extent([90, 205, -55, 10], crs=ccrs.PlateCarree())\n",
    "    ax1.gridlines(linestyle='--', draw_labels=True)\n",
    "    if contour_var:\n",
    "        ax1.set_title(f'Average {contour_var} ({contour_da.units}), {start_date} to {end_date}')\n",
    "    else:\n",
    "        ax1.set_title(f'{start_date} to {end_date}')\n",
    "#    plt.savefig(\n",
    "#        f'/home/599/dbi599/east-coast-rain/{color_var}-{contour_var}_mean_BARRA2_{start_date}_{end_date}.png',\n",
    "#        bbox_inches='tight',\n",
    "#        facecolor='white',\n",
    "#        dpi=300\n",
    "#    )\n",
    "    plt.show()"
   ]
  },
  {
   "cell_type": "code",
   "execution_count": null,
   "id": "ac05f6f2",
   "metadata": {
    "papermill": {
     "duration": null,
     "end_time": null,
     "exception": null,
     "start_time": null,
     "status": "pending"
    },
    "tags": []
   },
   "outputs": [],
   "source": [
    "ranked_events = model_df.sort_values(by=['pr'], ascending=False)\n",
    "ranked_events.head(n=10)"
   ]
  },
  {
   "cell_type": "code",
   "execution_count": null,
   "id": "aaa93741",
   "metadata": {
    "papermill": {
     "duration": null,
     "end_time": null,
     "exception": null,
     "start_time": null,
     "status": "pending"
    },
    "tags": []
   },
   "outputs": [],
   "source": [
    "model_add_bc_df = model_add_bc_ds['pr'].to_dataframe()\n",
    "model_add_bc_df = model_add_bc_df.dropna()\n",
    "model_add_bc_df = model_add_bc_df.reset_index()\n",
    "ranked_add_bc_events = model_add_bc_df.sort_values(by=['pr'], ascending=False)\n",
    "ranked_add_bc_events.head(n=10)"
   ]
  },
  {
   "cell_type": "code",
   "execution_count": null,
   "id": "4fe3506d-7703-4271-960f-1cc7b3f7aa19",
   "metadata": {
    "papermill": {
     "duration": null,
     "end_time": null,
     "exception": null,
     "start_time": null,
     "status": "pending"
    },
    "tags": []
   },
   "outputs": [],
   "source": [
    "model_mulc_bc_df = model_mulc_bc_ds['pr'].to_dataframe()\n",
    "model_mulc_bc_df = model_mulc_bc_df.dropna()\n",
    "model_mulc_bc_df = model_mulc_bc_df.reset_index()\n",
    "ranked_mulc_bc_events = model_mulc_bc_df.sort_values(by=['pr'], ascending=False)\n",
    "ranked_mulc_bc_events.head(n=10)"
   ]
  },
  {
   "cell_type": "code",
   "execution_count": null,
   "id": "29d990f5",
   "metadata": {
    "papermill": {
     "duration": null,
     "end_time": null,
     "exception": null,
     "start_time": null,
     "status": "pending"
    },
    "tags": []
   },
   "outputs": [],
   "source": [
    "for index, row in ranked_events.head(n=4).iterrows():\n",
    "    init_date = int(row['init_date'].strftime('%Y'))\n",
    "    ensemble = int(row['ensemble']) + 1\n",
    "    end_date = row['event_time']\n",
    "    rx_value = row['pr']\n",
    "    print(f'{init_date} ({end_date}), ensemble: r{ensemble}, {rx_value}mm')\n",
    "    \n",
    "    start_datetime = datetime.datetime.strptime(end_date, \"%Y-%m-%d\") - datetime.timedelta(days=14)\n",
    "    start_date = start_datetime.strftime(\"%Y-%m-%d\")\n",
    "    \n",
    "    pr_files = glob.glob(f'/g/data/oi10/replicas/CMIP6/DCPP/*/{model_name}/dcppA-hindcast/s{init_date}-r{ensemble}i1p1f1/day/pr/*/*/*.nc')\n",
    "    pr_files.sort()\n",
    "    ds_pr = fileio.open_dataset(pr_files, variables=['pr'],)\n",
    "    \n",
    "    psl_files = glob.glob(f'/g/data/oi10/replicas/CMIP6/DCPP/*/{model_name}/dcppA-hindcast/s{init_date}-r{ensemble}i1p1f1/day/psl/*/*/*.nc')\n",
    "    psl_files.sort()\n",
    "    ds_psl = fileio.open_dataset(psl_files, variables=['psl'],)\n",
    "    \n",
    "#    zg_files = glob.glob(f'/g/data/oi10/replicas/CMIP6/DCPP/*/{model_name}/dcppA-hindcast/s{init_date}-r{ensemble}i1p1f1/day/zg/*/*/*.nc')\n",
    "#    zg_files.sort()\n",
    "#    ds_zg = fileio.open_dataset(zg_files, variables=['zg'],)\n",
    "    \n",
    "#    ua_files = glob.glob(f'/g/data/oi10/replicas/CMIP6/DCPP/*/{model_name}/dcppA-hindcast/s{init_date}-r{ensemble}i1p1f1/day/ua/*/*/*.nc')\n",
    "#    ua_files.sort()\n",
    "#    ds_ua = fileio.open_dataset(ua_files, variables=['ua'],)\n",
    "\n",
    "    pr_da = ds_pr.sel({'time': slice(start_date, end_date)})['pr']\n",
    "    pr_da = xc.units.convert_units_to(pr_da, 'mm d-1')\n",
    "    psl_da = ds_psl.sel({'time': slice(start_date, end_date)})['psl']\n",
    "    psl_da = xc.units.convert_units_to(psl_da, 'hPa')\n",
    "#    zg_da = ds_zg.sel({'time': slice(start_date, end_date)})['zg']\n",
    "#    z500_da = zg_da.sel({'plev': 50000}, method='nearest')\n",
    "#    ua_da = ds_ua.sel({'time': slice(start_date, end_date)})['ua']\n",
    "#    ua300_da = ua_da.sel({'plev': 30000}, method='nearest')\n",
    "\n",
    "    pr_da_sum = pr_da.sum('time', keep_attrs=True)\n",
    "    psl_da_mean = psl_da.mean('time', keep_attrs=True)\n",
    "#    z500_da_mean = z500_da.mean('time', keep_attrs=True)\n",
    "#    ua300_da_mean = ua300_da.mean('time', keep_attrs=True) \n",
    "\n",
    "    plot_average(start_date, end_date, pr_da_sum, 'pr', psl_da_mean, 'psl')\n",
    "#    plot_average(start_date, end_date, pr_da_sum, 'pr', z500_da_mean, 'z500')\n",
    "#    plot_average(start_date, end_date, ua300_da_mean, 'ua300', z500_da_mean, 'z500')"
   ]
  },
  {
   "cell_type": "code",
   "execution_count": null,
   "id": "be026602",
   "metadata": {
    "papermill": {
     "duration": null,
     "end_time": null,
     "exception": null,
     "start_time": null,
     "status": "pending"
    },
    "tags": []
   },
   "outputs": [],
   "source": []
  }
 ],
 "metadata": {
  "celltoolbar": "Tags",
  "kernelspec": {
   "display_name": "Python 3 (ipykernel)",
   "language": "python",
   "name": "python3"
  },
  "language_info": {
   "codemirror_mode": {
    "name": "ipython",
    "version": 3
   },
   "file_extension": ".py",
   "mimetype": "text/x-python",
   "name": "python",
   "nbconvert_exporter": "python",
   "pygments_lexer": "ipython3",
   "version": "3.10.9"
  },
  "papermill": {
   "default_parameters": {},
   "duration": 58.934018,
   "end_time": "2023-04-05T03:38:41.214421",
   "environment_variables": {},
   "exception": true,
   "input_path": "analysis.ipynb",
   "output_path": "analysis_CAFE.ipynb",
   "parameters": {
    "agcd_file": "/g/data/xv83/dbi599/hydrotas/data/Rx15day_AGCD-CSIRO_r005_1900-2022_annual_hydro-tas.zarr.zip",
    "file_list": "/home/599/dbi599/hydrotas/file_lists/CAFE_c5-d60-pX-f6_pr_files.txt",
    "independence_plot": "/g/data/xv83/dbi599/hydrotas/figures/independence-test_Rx15day_CAFE-c5-d60-pX-f6_19950501-20201101_annual_hydro-tas.png",
    "min_lead": 3,
    "model_add_bc_file": "/g/data/xv83/dbi599/hydrotas/data/Rx15day_CAFE-c5-d60-pX-f6_19950501-20201101_annual_hydro-tas_bias-corrected-AGCD-CSIRO-additive.zarr.zip",
    "model_file": "/g/data/xv83/dbi599/hydrotas/data/Rx15day_CAFE-c5-d60-pX-f6_19950501-20201101_annual_hydro-tas.zarr.zip",
    "model_mulc_bc_file": "/g/data/xv83/dbi599/hydrotas/data/Rx15day_CAFE-c5-d60-pX-f6_19950501-20201101_annual_hydro-tas_bias-corrected-AGCD-CSIRO-multiplicative.zarr.zip",
    "model_name": "CAFE",
    "nino_file": "/g/data/xv83/dbi599/hydrotas/data/nino34-anomaly_CAFE-c5-d60-pX-f6_19950501-20201101_base-1995-2020.nc",
    "region_name": "hydro-tas",
    "shape_file": "/home/599/dbi599/hydrotas/shapefiles/hydro-combined.shp",
    "similarity_add_bc_file": "/g/data/xv83/dbi599/hydrotas/data/similarity-test_Rx15day_CAFE-c5-d60-pX-f6_1995-2020_annual_hydro-tas_bias-corrected-AGCD-CSIRO-additive.zarr.zip",
    "similarity_mulc_bc_file": "/g/data/xv83/dbi599/hydrotas/data/similarity-test_Rx15day_CAFE-c5-d60-pX-f6_1995-2020_annual_hydro-tas_bias-corrected-AGCD-CSIRO-multiplicative.zarr.zip",
    "similarity_raw_file": "/g/data/xv83/dbi599/hydrotas/data/similarity-test_Rx15day_CAFE-c5-d60-pX-f6_1995-2020_annual_hydro-tas_AGCD-CSIRO.zarr.zip"
   },
   "start_time": "2023-04-05T03:37:42.280403",
   "version": "2.3.3"
  }
 },
 "nbformat": 4,
 "nbformat_minor": 5
}
